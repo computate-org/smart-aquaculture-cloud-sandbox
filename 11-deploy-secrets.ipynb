{
 "cells": [
  {
   "cell_type": "markdown",
   "metadata": {},
   "source": [
    "# Cloud sandbox powered by FIWARE\n",
    "\n",
    "## About the open source GPL3 license and copyright for this product\n",
    "\n",
    "Copyright (c) 2024 Computate Limited Liability Company in Utah, USA\n",
    "\n",
    "This program is free software: you can redistribute it and/or modify\n",
    "it under the terms of the GNU General Public License as published by\n",
    "the Free Software Foundation, either version 3 of the License, or\n",
    "(at your option) any later version.\n",
    "\n",
    "This program is distributed in the hope that it will be useful,\n",
    "but WITHOUT ANY WARRANTY; without even the implied warranty of\n",
    "MERCHANTABILITY or FITNESS FOR A PARTICULAR PURPOSE.  See the\n",
    "GNU General Public License for more details.\n",
    "\n",
    "You should have received a copy of the GNU General Public License\n",
    "along with this program.  If not, see <https://www.gnu.org/licenses/>.\n",
    "\n",
    "ADDITIONAL TERMS\n",
    "\n",
    "As stated in section 7. c) and e) of the GPL3 license, \n",
    "\"you may supplement the terms of this License with terms,\" \n",
    "Computate has added the following additional terms to the license: \n",
    "\n",
    "  7 c) Prohibiting misrepresentation of the origin of that material, and\n",
    "    requiring that modified versions of such material be marked in\n",
    "    reasonable ways as different from the original version;\n",
    "\n",
    "  7 e) Declining to grant rights under trademark law for use of some\n",
    "    trade names, trademarks, or service marks;\n",
    "\n",
    "Please do not redistribute this course until you have built your own platform with these tools, \n",
    "separate from the computate.org platform, and reconfigure your fork of this repo to deploy \n",
    "your own platform instead of the computate.org platform. \n",
    "\n",
    "QUESTIONS\n",
    "\n",
    "For questions about this open source license, please contact our public mailing list at computate@group.computate.org\n"
   ]
  },
  {
   "cell_type": "markdown",
   "metadata": {},
   "source": [
    "## Switch to the Python 3.9 Kernel\n",
    "\n",
    "When opening this Jupyter Notebook in VSCode, you will need to switch to the Jupyter 3.9 Kernel. "
   ]
  },
  {
   "cell_type": "markdown",
   "metadata": {},
   "source": [
    "# Deploy secrets"
   ]
  },
  {
   "cell_type": "markdown",
   "metadata": {},
   "source": [
    "## Zookeeper configuration\n",
    "\n",
    "Create a secret for connecting to Zookeeper. "
   ]
  },
  {
   "cell_type": "code",
   "execution_count": null,
   "metadata": {
    "vscode": {
     "languageId": "shellscript"
    }
   },
   "outputs": [],
   "source": [
    "%%bash\n",
    "eval $(env SITE_NAMESPACE=\"$(oc project -q)\" ./vars.py)\n",
    "cat <<EOF | oc apply -f -\n",
    "apiVersion: v1\n",
    "kind: Secret\n",
    "metadata:\n",
    "  name: $SITE_NAME-zookeeper\n",
    "type: Opaque\n",
    "stringData:\n",
    "  ENABLE_ZOOKEEPER_CLUSTER: \"$ENABLE_ZOOKEEPER_CLUSTER\"\n",
    "  ZOOKEEPER_HOST_NAME: \"$ZOOKEEPER_HOST_NAME\"\n",
    "  ZOOKEEPER_PORT: \"$ZOOKEEPER_PORT\"\n",
    "  ZOOKEEPER_MAX_RETRIES: \"$ZOOKEEPER_MAX_RETRIES\"\n",
    "  ZOOKEEPER_BASE_SLEEP_TIME_MILLIS: \"$ZOOKEEPER_BASE_SLEEP_TIME_MILLIS\"\n",
    "  ZOOKEEPER_MAX_SLEEP_MILLIS: \"$ZOOKEEPER_MAX_SLEEP_MILLIS\"\n",
    "  ZOOKEEPER_CONNECTION_TIMEOUT_MILLIS: \"$ZOOKEEPER_CONNECTION_TIMEOUT_MILLIS\"\n",
    "  ZOOKEEPER_SESSION_TIMEOUT_MILLIS: \"$ZOOKEEPER_SESSION_TIMEOUT_MILLIS\"\n",
    "EOF\n",
    "oc extract secret/$SITE_NAME-zookeeper --to=-\n",
    "echo DONE"
   ]
  },
  {
   "cell_type": "markdown",
   "metadata": {},
   "source": [
    "## Solr configuration\n",
    "\n",
    "Create a secret for connecting to Solr. "
   ]
  },
  {
   "cell_type": "code",
   "execution_count": null,
   "metadata": {
    "vscode": {
     "languageId": "shellscript"
    }
   },
   "outputs": [],
   "source": [
    "%%bash\n",
    "eval $(env SITE_NAMESPACE=\"$(oc project -q)\" ./vars.py)\n",
    "cat <<EOF | oc apply -f -\n",
    "apiVersion: v1\n",
    "kind: Secret\n",
    "metadata:\n",
    "  name: $SITE_NAME-solr\n",
    "type: Opaque\n",
    "stringData:\n",
    "  SOLR_SSL: \"false\"\n",
    "  SOLR_HOST_NAME: \"solr\"\n",
    "  SOLR_PORT: \"8983\"\n",
    "  SOLR_COLLECTION: \"$SOLR_COLLECTION\"\n",
    "  SOLR_USERNAME: \"$SOLR_USERNAME\"\n",
    "  SOLR_PASSWORD: \"$SOLR_PASSWORD\"\n",
    "EOF\n",
    "oc extract secret/$SITE_NAME-solr --to=-\n",
    "echo DONE"
   ]
  },
  {
   "cell_type": "markdown",
   "metadata": {},
   "source": [
    "## Database configuration\n",
    "\n",
    "Create a secret for connecting to the database. "
   ]
  },
  {
   "cell_type": "code",
   "execution_count": null,
   "metadata": {
    "vscode": {
     "languageId": "shellscript"
    }
   },
   "outputs": [],
   "source": [
    "%%bash\n",
    "eval $(env SITE_NAMESPACE=\"$(oc project -q)\" ./vars.py)\n",
    "cat <<EOF | oc apply -f -\n",
    "apiVersion: v1\n",
    "kind: Secret\n",
    "metadata:\n",
    "  name: $SITE_NAME-database\n",
    "type: Opaque\n",
    "stringData:\n",
    "  ENABLE_DATABASE: \"$ENABLE_DATABASE\"\n",
    "  DATABASE_HOST: \"$DATABASE_HOST\"\n",
    "  DATABASE_PORT: \"$DATABASE_PORT\"\n",
    "  DATABASE_USERNAME: \"$DATABASE_USERNAME\"\n",
    "  DATABASE_PASSWORD: \"$DATABASE_PASSWORD\"\n",
    "  DATABASE_DATABASE: \"$DATABASE_DATABASE\"\n",
    "EOF\n",
    "oc extract secret/$SITE_NAME-database --to=-\n",
    "echo DONE"
   ]
  },
  {
   "cell_type": "markdown",
   "metadata": {},
   "source": [
    "## Auth configuration\n",
    "\n",
    "Create a secret for authentication with Keycloak. "
   ]
  },
  {
   "cell_type": "code",
   "execution_count": null,
   "metadata": {
    "vscode": {
     "languageId": "shellscript"
    }
   },
   "outputs": [],
   "source": [
    "%%bash\n",
    "eval $(env SITE_NAMESPACE=\"$(oc project -q)\" ./vars.py)\n",
    "cat <<EOF | oc apply -f -\n",
    "apiVersion: v1\n",
    "kind: Secret\n",
    "metadata:\n",
    "  name: $SITE_NAME-auth\n",
    "type: Opaque\n",
    "stringData:\n",
    "  AUTH_HOST_NAME: \"$AUTH_HOST_NAME\"\n",
    "  AUTH_PORT: \"$AUTH_PORT\"\n",
    "  AUTH_SSL: \"$AUTH_SSL\"\n",
    "  AUTH_SSL_REQUIRED: \"$AUTH_SSL_REQUIRED\"\n",
    "  AUTH_REALM: \"$AUTH_REALM\"\n",
    "  AUTH_CLIENT: \"$AUTH_CLIENT\"\n",
    "  AUTH_SECRET: \"$AUTH_SECRET\"\n",
    "  AUTH_ADMIN_USERNAME: \"$AUTH_ADMIN_USERNAME\"\n",
    "  AUTH_ADMIN_PASSWORD: \"$AUTH_ADMIN_PASSWORD\"\n",
    "  AUTH_URL: \"$AUTH_URL\"\n",
    "  AUTH_TOKEN_URI: \"$AUTH_TOKEN_URI\"\n",
    "  AUTH_OPEN_API_ID: \"$AUTH_OPEN_API_ID\"\n",
    "  AUTH_CALLBACK_URI: \"$AUTH_CALLBACK_URI\"\n",
    "  AUTH_LOGOUT_URI: \"$AUTH_LOGOUT_URI\"\n",
    "  AUTH_SCOPE_ADMIN: \"$AUTH_SCOPE_ADMIN\"\n",
    "  AUTH_SCOPE_SUPER_ADMIN: \"$AUTH_SCOPE_SUPER_ADMIN\"\n",
    "  AUTH_FINE_GRAINED_POLICY_PERMISSIONS: \"$AUTH_FINE_GRAINED_POLICY_PERMISSIONS\"\n",
    "EOF\n",
    "oc extract secret/$SITE_NAME-auth --to=-\n",
    "echo DONE"
   ]
  },
  {
   "cell_type": "markdown",
   "metadata": {},
   "source": [
    "## RabbitMQ configuration\n",
    "\n",
    "Create a secret for connecting to the RabbitMQ broker. "
   ]
  },
  {
   "cell_type": "code",
   "execution_count": null,
   "metadata": {
    "vscode": {
     "languageId": "shellscript"
    }
   },
   "outputs": [],
   "source": [
    "%%bash\n",
    "eval $(env SITE_NAMESPACE=\"$(oc project -q)\" ./vars.py)\n",
    "cat <<EOF | oc apply -f -\n",
    "apiVersion: v1\n",
    "kind: Secret\n",
    "metadata:\n",
    "  name: $SITE_NAME-rabbitmq\n",
    "type: Opaque\n",
    "stringData:\n",
    "  ENABLE_RABBITMQ: \"$ENABLE_RABBITMQ\"\n",
    "  RABBITMQ_PORT: \"$RABBITMQ_PORT\"\n",
    "  RABBITMQ_HOST_NAME: \"$RABBITMQ_HOST_NAME\"\n",
    "  RABBITMQ_USER: \"$RABBITMQ_USER\"\n",
    "  RABBITMQ_PASSWORD: \"$RABBITMQ_PASSWORD\"\n",
    "  RABBITMQ_VIRTUAL_HOST: \"$RABBITMQ_VIRTUAL_HOST\"\n",
    "EOF\n",
    "oc extract secret/$SITE_NAME-rabbitmq --to=-\n",
    "echo DONE"
   ]
  },
  {
   "cell_type": "markdown",
   "metadata": {},
   "source": [
    "## Context Broker configuration\n",
    "\n",
    "Create a secret for connecting to the FIWARE Context Broker. "
   ]
  },
  {
   "cell_type": "code",
   "execution_count": null,
   "metadata": {
    "vscode": {
     "languageId": "shellscript"
    }
   },
   "outputs": [],
   "source": [
    "%%bash\n",
    "eval $(env SITE_NAMESPACE=\"$(oc project -q)\" ./vars.py)\n",
    "cat <<EOF | oc apply -f -\n",
    "apiVersion: v1\n",
    "kind: Secret\n",
    "metadata:\n",
    "  name: $SITE_NAME-context-broker\n",
    "type: Opaque\n",
    "stringData:\n",
    "  CONTEXT_BROKER_SSL: \"$CONTEXT_BROKER_SSL\"\n",
    "  CONTEXT_BROKER_HOST_NAME: \"$CONTEXT_BROKER_HOST_NAME\"\n",
    "  CONTEXT_BROKER_PORT: \"$CONTEXT_BROKER_PORT\"\n",
    "EOF\n",
    "oc extract secret/$SITE_NAME-context-broker --to=-\n",
    "echo DONE"
   ]
  },
  {
   "cell_type": "markdown",
   "metadata": {},
   "source": [
    "## IoT Agent configuration\n",
    "\n",
    "Create a secret for connecting to the IoT Agent JSON. "
   ]
  },
  {
   "cell_type": "code",
   "execution_count": null,
   "metadata": {
    "vscode": {
     "languageId": "shellscript"
    }
   },
   "outputs": [],
   "source": [
    "%%bash\n",
    "eval $(env SITE_NAMESPACE=\"$(oc project -q)\" ./vars.py)\n",
    "cat <<EOF | oc apply -f -\n",
    "apiVersion: v1\n",
    "kind: Secret\n",
    "metadata:\n",
    "  name: $SITE_NAME-iotagent-json\n",
    "type: Opaque\n",
    "stringData:\n",
    "  IOTAGENT_SSL: \"$IOTAGENT_SSL\"\n",
    "  IOTAGENT_HOST_NAME: \"$IOTAGENT_HOST_NAME\"\n",
    "  IOTAGENT_HTTP_PORT: \"$IOTAGENT_HTTP_PORT\"\n",
    "  IOTAGENT_NORTH_PORT: \"$IOTAGENT_NORTH_PORT\"\n",
    "  IOTAGENT_TRANSPORT: \"$IOTAGENT_TRANSPORT\"\n",
    "EOF\n",
    "oc extract secret/$SITE_NAME-iotagent-json --to=-\n",
    "echo DONE"
   ]
  },
  {
   "cell_type": "markdown",
   "metadata": {},
   "source": [
    "## Next...\n",
    "If you have successfully ran all of the commands above, congratulations, you are ready to move on to the next notebook in the course. \n",
    "\n",
    "- If you have additional questions or issues, please [create an issue for the course here](https://github.com/computate-org/computate/issues). \n",
    "- Otherwise, please continue to the next document [12-create-project-realm.ipynb](12-create-project-realm.ipynb). \n"
   ]
  }
 ],
 "metadata": {
  "kernelspec": {
   "display_name": "Bash",
   "language": "bash",
   "name": "bash"
  },
  "language_info": {
   "codemirror_mode": "shell",
   "file_extension": ".sh",
   "mimetype": "text/x-sh",
   "name": "bash"
  }
 },
 "nbformat": 4,
 "nbformat_minor": 2
}
