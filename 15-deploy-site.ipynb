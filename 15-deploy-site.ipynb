{
 "cells": [
  {
   "cell_type": "markdown",
   "metadata": {},
   "source": [
    "# Cloud sandbox powered by FIWARE\n",
    "\n",
    "## About the open source GPL3 license and copyright for this product\n",
    "\n",
    "Copyright © 2025 Computate Limited Liability Company in Utah, USA\n",
    "\n",
    "This program is free software: you can redistribute it and/or modify\n",
    "it under the terms of the GNU General Public License as published by\n",
    "the Free Software Foundation, either version 3 of the License, or\n",
    "(at your option) any later version.\n",
    "\n",
    "This program is distributed in the hope that it will be useful,\n",
    "but WITHOUT ANY WARRANTY; without even the implied warranty of\n",
    "MERCHANTABILITY or FITNESS FOR A PARTICULAR PURPOSE.  See the\n",
    "GNU General Public License for more details.\n",
    "\n",
    "You should have received a copy of the GNU General Public License\n",
    "along with this program.  If not, see <https://www.gnu.org/licenses/>.\n",
    "\n",
    "ADDITIONAL TERMS\n",
    "\n",
    "As stated in section 7. c) and e) of the GPL3 license, \n",
    "\"you may supplement the terms of this License with terms,\" \n",
    "Computate has added the following additional terms to the license: \n",
    "\n",
    "  7 c) Prohibiting misrepresentation of the origin of that material, and\n",
    "    requiring that modified versions of such material be marked in\n",
    "    reasonable ways as different from the original version;\n",
    "\n",
    "  7 e) Declining to grant rights under trademark law for use of some\n",
    "    trade names, trademarks, or service marks;\n",
    "\n",
    "Please do not redistribute this course until you have built your own platform with these tools, \n",
    "separate from the computate.org platform, and reconfigure your fork of this repo to deploy \n",
    "your own platform instead of the computate.org platform. \n",
    "\n",
    "QUESTIONS\n",
    "\n",
    "For questions about this open source license, please contact our public mailing list at computate@group.computate.org\n"
   ]
  },
  {
   "cell_type": "markdown",
   "metadata": {},
   "source": [
    "## Switch to the Python 3.9 Kernel\n",
    "\n",
    "When opening this Jupyter Notebook in VSCode, you will need to switch to the Jupyter 3.9 Kernel. "
   ]
  },
  {
   "cell_type": "markdown",
   "metadata": {},
   "source": [
    "## Clone the smart-aquaculture site repository\n",
    "\n",
    "We will be using the smart-aquaculture open source website, which has built-in support for Smart Aquaculture Smart Data Models. "
   ]
  },
  {
   "cell_type": "code",
   "execution_count": null,
   "metadata": {
    "tags": [],
    "vscode": {
     "languageId": "shellscript"
    }
   },
   "outputs": [],
   "source": [
    "%%bash\n",
    "git clone https://github.com/computate-org/smart-aquaculture.git ~/smart-aquaculture\n",
    "git clone https://github.com/computate-org/smart-aquaculture-static.git ~/smart-aquaculture-static\n",
    "echo DONE"
   ]
  },
  {
   "cell_type": "markdown",
   "metadata": {},
   "source": [
    "## Run SQL create scripts with new PostgreSQL tables\n",
    "When we create new Smart Data Models that are persisted in the PostgreSQL database, we need to make sure that our database has all the tables and fields required to persist the data. Run the commands below to rsync the `db-create.sql` script to the PostgreSQL pod. It will connect again and apply all of the database schema changes to the database. "
   ]
  },
  {
   "cell_type": "code",
   "execution_count": null,
   "metadata": {
    "vscode": {
     "languageId": "shellscript"
    }
   },
   "outputs": [],
   "source": [
    "%%bash\n",
    "eval $(env SITE_NAMESPACE=\"$(oc project -q)\" ./vars.py)\n",
    "oc exec pod/postgresql-0 -- mkdir -p /bitnami/postgresql/sql/\n",
    "oc rsync $SITE_SRC/src/main/resources/sql/ \\\n",
    "  pod/postgresql-0:/bitnami/postgresql/sql/\n",
    "oc exec pod/postgresql-0 -- \\\n",
    "  env PGPASSWORD=$(oc get secret/postgres-pguser-$DATABASE_USERNAME -o jsonpath={.data.password} | base64 -d) \\\n",
    "  psql -U $DATABASE_USERNAME -d $DATABASE_DATABASE -f /bitnami/postgresql/sql/db-create.sql\n",
    "echo DONE"
   ]
  },
  {
   "cell_type": "markdown",
   "metadata": {},
   "source": [
    "## Deploy site service\n",
    "\n",
    "Create an OpenShift Service for internal networking to your site. "
   ]
  },
  {
   "cell_type": "code",
   "execution_count": null,
   "metadata": {
    "tags": [],
    "vscode": {
     "languageId": "shellscript"
    }
   },
   "outputs": [],
   "source": [
    "%%bash\n",
    "eval $(env SITE_NAMESPACE=\"$(oc project -q)\" ./vars.py)\n",
    "cat <<EOF | oc apply -f -\n",
    "apiVersion: v1\n",
    "kind: Service\n",
    "metadata:\n",
    "  name: $SITE_SHORT_NAME\n",
    "  labels:\n",
    "    app.kubernetes.io/instance: $SITE_SHORT_NAME\n",
    "    app.kubernetes.io/name: $SITE_SHORT_NAME\n",
    "    deployment: $SITE_SHORT_NAME\n",
    "    app: $SITE_SHORT_NAME\n",
    "spec:\n",
    "  ports:\n",
    "    - name: http\n",
    "      port: $SITE_PORT\n",
    "      protocol: TCP\n",
    "      targetPort: $SITE_PORT\n",
    "    - name: cluster\n",
    "      port: $CLUSTER_PORT\n",
    "      protocol: TCP\n",
    "      targetPort: $CLUSTER_PORT\n",
    "  selector:\n",
    "    app.kubernetes.io/instance: $SITE_SHORT_NAME\n",
    "    app.kubernetes.io/name: $SITE_SHORT_NAME\n",
    "    deployment: $SITE_SHORT_NAME\n",
    "    app: $SITE_SHORT_NAME\n",
    "  sessionAffinity: None\n",
    "  type: ClusterIP\n",
    "EOF\n",
    "echo DONE"
   ]
  },
  {
   "cell_type": "markdown",
   "metadata": {},
   "source": [
    "## Deploy site route\n",
    "\n",
    "Create an OpenShift Route for external networking to your site. "
   ]
  },
  {
   "cell_type": "code",
   "execution_count": null,
   "metadata": {
    "vscode": {
     "languageId": "shellscript"
    }
   },
   "outputs": [],
   "source": [
    "%%bash\n",
    "eval $(env SITE_NAMESPACE=\"$(oc project -q)\" ./vars.py)\n",
    "cat <<EOF | oc apply -f -\n",
    "apiVersion: route.openshift.io/v1\n",
    "kind: Route\n",
    "metadata:\n",
    "  name: $SITE_SHORT_NAME\n",
    "  labels:\n",
    "    app.kubernetes.io/instance: $SITE_SHORT_NAME\n",
    "    app.kubernetes.io/name: $SITE_SHORT_NAME\n",
    "    deployment: $SITE_SHORT_NAME\n",
    "    app: $SITE_SHORT_NAME\n",
    "spec:\n",
    "  host: \"$SITE_HOST_NAME\"\n",
    "  port:\n",
    "    targetPort: http\n",
    "  to:\n",
    "    kind: Service\n",
    "    name: \"$SITE_SHORT_NAME\"\n",
    "    weight: 100\n",
    "  tls:\n",
    "    termination: edge\n",
    "    insecureEdgeTerminationPolicy: Redirect\n",
    "  wildcardPolicy: None\n",
    "EOF\n",
    "echo DONE"
   ]
  },
  {
   "cell_type": "markdown",
   "metadata": {
    "tags": []
   },
   "source": [
    "# Deploy your site! \n",
    "\n",
    "The next command will create a Deployment for your site. "
   ]
  },
  {
   "cell_type": "code",
   "execution_count": null,
   "metadata": {
    "vscode": {
     "languageId": "shellscript"
    }
   },
   "outputs": [],
   "source": [
    "%%bash\n",
    "eval $(env SITE_NAMESPACE=\"$(oc project -q)\" ./vars.py)\n",
    "cat <<EOF | oc apply -f -\n",
    "apiVersion: apps/v1\n",
    "kind: Deployment\n",
    "metadata:\n",
    "  name: $SITE_SHORT_NAME\n",
    "  labels:\n",
    "    app.kubernetes.io/instance: $SITE_SHORT_NAME\n",
    "    app.kubernetes.io/name: $SITE_SHORT_NAME\n",
    "    deployment: $SITE_SHORT_NAME\n",
    "    app: $SITE_SHORT_NAME\n",
    "spec:\n",
    "  replicas: 1\n",
    "  revisionHistoryLimit: 0\n",
    "  strategy:\n",
    "    type: RollingUpdate\n",
    "  selector:\n",
    "    matchLabels:\n",
    "      app.kubernetes.io/instance: $SITE_SHORT_NAME\n",
    "      app.kubernetes.io/name: $SITE_SHORT_NAME\n",
    "      deployment: $SITE_SHORT_NAME\n",
    "      app: $SITE_SHORT_NAME\n",
    "  template:\n",
    "    metadata:\n",
    "      labels:\n",
    "        app.kubernetes.io/instance: $SITE_SHORT_NAME\n",
    "        app.kubernetes.io/name: $SITE_SHORT_NAME\n",
    "        deployment: $SITE_SHORT_NAME\n",
    "        app: $SITE_SHORT_NAME\n",
    "    spec:\n",
    "      containers:\n",
    "        - name: $SITE_SHORT_NAME\n",
    "          image: '$CONTAINER_URI'\n",
    "          imagePullPolicy: Always\n",
    "          ports:\n",
    "            - containerPort: $SITE_PORT\n",
    "              name: http\n",
    "              protocol: TCP\n",
    "          livenessProbe:\n",
    "            initialDelaySeconds: 20\n",
    "            periodSeconds: 10\n",
    "            successThreshold: 1\n",
    "            tcpSocket:\n",
    "              port: 'http'\n",
    "            timeoutSeconds: 10\n",
    "            failureThreshold: 10\n",
    "          readinessProbe:\n",
    "            initialDelaySeconds: 20\n",
    "            periodSeconds: 10\n",
    "            successThreshold: 1\n",
    "            tcpSocket:\n",
    "              port: 'http'\n",
    "            timeoutSeconds: 10\n",
    "            failureThreshold: 10\n",
    "          resources:\n",
    "            requests:\n",
    "              cpu: '100m'\n",
    "              memory: '100Mi'\n",
    "            limits:\n",
    "              cpu: '500m'\n",
    "              memory: '500Mi'\n",
    "          envFrom:\n",
    "            - secretRef:\n",
    "                name: $SITE_SHORT_NAME-zookeeper\n",
    "            - secretRef:\n",
    "                name: $SITE_SHORT_NAME-solr\n",
    "            - secretRef:\n",
    "                name: $SITE_SHORT_NAME-database\n",
    "            - secretRef:\n",
    "                name: $SITE_SHORT_NAME-auth\n",
    "            - secretRef:\n",
    "                name: $SITE_SHORT_NAME-rabbitmq\n",
    "            - secretRef:\n",
    "                name: $SITE_SHORT_NAME-context-broker\n",
    "            - secretRef:\n",
    "                name: $SITE_SHORT_NAME-site\n",
    "EOF\n",
    "echo DONE"
   ]
  },
  {
   "cell_type": "markdown",
   "metadata": {},
   "source": [
    "### View site pod details\n",
    "After deploying the site, it will take a minute before the site pod is up and running. Run the command below until the site pod health checks are `READY 1/1` and `STATUS Running`. "
   ]
  },
  {
   "cell_type": "code",
   "execution_count": null,
   "metadata": {
    "vscode": {
     "languageId": "shellscript"
    }
   },
   "outputs": [],
   "source": [
    "%%bash\n",
    "oc get pod -l app=smartaquaculture\n",
    "oc wait pod -l app=smartaquaculture --for=condition=Ready --timeout=2m\n",
    "oc get pod -l app=smartaquaculture\n",
    "echo DONE"
   ]
  },
  {
   "cell_type": "markdown",
   "metadata": {},
   "source": [
    "### View Keycloak pod logs\n",
    "If your Keycloak pod does not reach the STATUS Running, you can run the command below to view the pod logs of Keycloak and check for other errors that may have occured. "
   ]
  },
  {
   "cell_type": "code",
   "execution_count": null,
   "metadata": {
    "tags": [],
    "vscode": {
     "languageId": "shellscript"
    }
   },
   "outputs": [],
   "source": [
    "%%bash\n",
    "oc logs -l app=smartaquaculture\n",
    "echo DONE"
   ]
  },
  {
   "cell_type": "markdown",
   "metadata": {},
   "source": [
    "# Create a Keycloak user"
   ]
  },
  {
   "cell_type": "markdown",
   "metadata": {
    "vscode": {
     "languageId": "shellscript"
    }
   },
   "source": [
    "Access the Keycloak dashboard using the route. "
   ]
  },
  {
   "cell_type": "code",
   "execution_count": null,
   "metadata": {
    "tags": [],
    "vscode": {
     "languageId": "shellscript"
    }
   },
   "outputs": [],
   "source": [
    "%%bash\n",
    "echo \"https://$(oc get $(oc get route -l app.kubernetes.io/name=keycloak -o name) -o jsonpath={.spec.host})\"\n",
    "echo DONE"
   ]
  },
  {
   "cell_type": "markdown",
   "metadata": {},
   "source": [
    "The username will be `admin` and run the command below to find the admin password."
   ]
  },
  {
   "cell_type": "code",
   "execution_count": null,
   "metadata": {
    "tags": [],
    "vscode": {
     "languageId": "shellscript"
    }
   },
   "outputs": [],
   "source": [
    "%%bash\n",
    "oc get secret/keycloak-initial-admin -o jsonpath={.data.password} | base64 -d\n",
    "echo DONE"
   ]
  },
  {
   "cell_type": "markdown",
   "metadata": {},
   "source": [
    "- At the top left, switch the realm from `Keycloak` to `COMPUTATE.ORG`. \n",
    "- On the left, click on `Users`. \n",
    "- Set `Email verified`. \n",
    "- Type in a username, email, first name, and last name. \n",
    "- Click `Create`. "
   ]
  },
  {
   "cell_type": "markdown",
   "metadata": {
    "vscode": {
     "languageId": "shellscript"
    }
   },
   "source": [
    "## Add user to SuperAdmin group\n",
    "\n",
    "- While still on the user page, click `Groups`. \n",
    "- Click `Join Group`. \n",
    "- Select `SuperAdmin`. \n",
    "- Click `Join`. "
   ]
  },
  {
   "cell_type": "markdown",
   "metadata": {},
   "source": [
    "## Set a user password\n",
    "\n",
    "- "
   ]
  },
  {
   "cell_type": "markdown",
   "metadata": {},
   "source": [
    "# Access the site"
   ]
  },
  {
   "cell_type": "markdown",
   "metadata": {},
   "source": [
    "Access the site using the route. "
   ]
  },
  {
   "cell_type": "code",
   "execution_count": null,
   "metadata": {
    "vscode": {
     "languageId": "shellscript"
    }
   },
   "outputs": [],
   "source": [
    "%%bash\n",
    "echo \"https://$(oc get route/computateorg -o jsonpath={.spec.host})\"\n",
    "echo DONE"
   ]
  }
 ],
 "metadata": {
  "kernelspec": {
   "display_name": "Python 3.9",
   "language": "python",
   "name": "python3"
  },
  "language_info": {
   "codemirror_mode": {
    "name": "ipython",
    "version": 3
   },
   "file_extension": ".py",
   "mimetype": "text/x-python",
   "name": "python",
   "nbconvert_exporter": "python",
   "pygments_lexer": "ipython3",
   "version": "3.9.18"
  }
 },
 "nbformat": 4,
 "nbformat_minor": 4
}
