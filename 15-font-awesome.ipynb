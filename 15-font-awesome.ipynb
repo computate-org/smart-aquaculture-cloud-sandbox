{
 "cells": [
  {
   "cell_type": "markdown",
   "metadata": {},
   "source": [
    "# Computate Smart Website Builder\n",
    "\n",
    "## About the open source GPL3 license and copyright for this product\n",
    "\n",
    "Copyright © 2025 Computate Limited Liability Company in Utah, USA\n",
    "\n",
    "This program is free software: you can redistribute it and/or modify\n",
    "it under the terms of the GNU General Public License as published by\n",
    "the Free Software Foundation, either version 3 of the License, or\n",
    "(at your option) any later version.\n",
    "\n",
    "This program is distributed in the hope that it will be useful,\n",
    "but WITHOUT ANY WARRANTY; without even the implied warranty of\n",
    "MERCHANTABILITY or FITNESS FOR A PARTICULAR PURPOSE.  See the\n",
    "GNU General Public License for more details.\n",
    "\n",
    "You should have received a copy of the GNU General Public License\n",
    "along with this program.  If not, see <https://www.gnu.org/licenses/>.\n",
    "\n",
    "ADDITIONAL TERMS\n",
    "\n",
    "As stated in section 7. c) and e) of the GPL3 license, \n",
    "\"you may supplement the terms of this License with terms,\" \n",
    "Computate has added the following additional terms to the license: \n",
    "\n",
    "  7 c) Prohibiting misrepresentation of the origin of that material, and\n",
    "    requiring that modified versions of such material be marked in\n",
    "    reasonable ways as different from the original version;\n",
    "\n",
    "  7 e) Declining to grant rights under trademark law for use of some\n",
    "    trade names, trademarks, or service marks;\n",
    "\n",
    "Please do not redistribute this course until you have built your own platform with these tools, \n",
    "separate from the computate.org platform, and reconfigure your fork of this repo to deploy \n",
    "your own platform instead of the computate.org platform. \n",
    "\n",
    "QUESTIONS\n",
    "\n",
    "For questions about this open source license, please contact our public mailing list at computate@group.computate.org\n"
   ]
  },
  {
   "cell_type": "markdown",
   "metadata": {
    "vscode": {
     "languageId": "shellscript"
    }
   },
   "source": [
    "# How to install a Font Awesome Pro Kit"
   ]
  },
  {
   "cell_type": "markdown",
   "metadata": {},
   "source": [
    "If you are a Font Awesome Pro icon supporter, you can include your icons into your site. \n",
    "Find your [Font Awesome Pro Kit Embed Code here](https://fontawesome.com/kits). \n",
    "Copy your Kit Embed Code and paste it into the environment variable below: \n",
    "<script src=\"https://kit.fontawesome.com/59d19567d5.js\" crossorigin=\"anonymous\"></script>\n"
   ]
  },
  {
   "cell_type": "markdown",
   "metadata": {},
   "source": [
    "Be sure to run the command above to load the Kit Embed Code into the `FONTAWESOME_KIT` environment variable, then run the command below to create the `font-awesome` secret in your OpenShift namespace. "
   ]
  },
  {
   "cell_type": "code",
   "execution_count": null,
   "metadata": {
    "vscode": {
     "languageId": "shellscript"
    }
   },
   "outputs": [],
   "source": [
    "%%bash\n",
    "# An optional FontAwesome Pro Kit for additional FontAwesome icons. \n",
    "FONTAWESOME_KIT='<script src=\"[URL TO YOUR KIT]\" crossorigin=\"anonymous\"></script>'\n",
    "# An optional link element to either a Shoelace web components stylesheet or a Web Awesome Backer web components stylesheet. \n",
    "WEB_COMPONENTS_CSS='<link rel=\"stylesheet\" href=\"https://cdn.jsdelivr.net/npm/@shoelace-style/shoelace@2.20.0/cdn/themes/dark.css\" />'\n",
    "# An optional link element to either a Shoelace web components JavaScript or a Web Awesome Backer web components JavaScript. \n",
    "WEB_COMPONENTS_JS='<script type=\"module\" src=\"https://cdn.jsdelivr.net/npm/@shoelace-style/shoelace@2.20.0/cdn/shoelace-autoloader.js\"></script>'\n",
    "# Switch between Shoelace \"sl-\" and Web Awesome \"wa-\" element prefixes. \n",
    "WEB_COMPONENTS_PREFIX='sl-'\n",
    "# The name of the secret containing icon and web component details. \n",
    "WEB_COMPONENTS_SECRET='font-awesome'\n",
    "# A default FontAwesome style. \n",
    "FONTAWESOME_STYLE='fa-duotone fa-regular '\n",
    "# Site default theme, light or dark. \n",
    "SITE_THEME='dark'\n",
    "\n",
    "oc create secret generic font-awesome \\\n",
    "  --from-literal \"FONTAWESOME_KIT=$FONTAWESOME_KIT\" \\\n",
    "  --from-literal \"WEB_COMPONENTS_CSS=$WEB_COMPONENTS_CSS\" \\\n",
    "  --from-literal \"WEB_COMPONENTS_JS=$WEB_COMPONENTS_JS\" \\\n",
    "  --from-literal \"WEB_COMPONENTS_PREFIX=$WEB_COMPONENTS_PREFIX\" \\\n",
    "  --from-literal \"WEB_COMPONENTS_SECRET=$WEB_COMPONENTS_SECRET\" \\\n",
    "  --from-literal \"FONTAWESOME_STYLE=$FONTAWESOME_STYLE\" \\\n",
    "  --from-literal \"SITE_THEME=$SITE_THEME\"\n",
    "echo DONE"
   ]
  },
  {
   "cell_type": "markdown",
   "metadata": {},
   "source": []
  }
 ],
 "metadata": {
  "kernelspec": {
   "display_name": "Ansible",
   "language": "ansible",
   "name": "ansible"
  },
  "language_info": {
   "codemirror_mode": "shell",
   "file_extension": ".sh",
   "mimetype": "text/x-sh",
   "name": "ansible"
  }
 },
 "nbformat": 4,
 "nbformat_minor": 2
}
