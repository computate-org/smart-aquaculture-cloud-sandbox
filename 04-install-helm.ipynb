{
 "cells": [
  {
   "cell_type": "markdown",
   "id": "d6970a40",
   "metadata": {},
   "source": [
    "# Computate Smart Cloud Builder\n",
    "\n",
    "## About the open source GPL3 license and copyright for this product\n",
    "\n",
    "Copyright (c) 2024 Computate Limited Liability Company in Utah, USA\n",
    "\n",
    "This program is free software: you can redistribute it and/or modify\n",
    "it under the terms of the GNU General Public License as published by\n",
    "the Free Software Foundation, either version 3 of the License, or\n",
    "(at your option) any later version.\n",
    "\n",
    "This program is distributed in the hope that it will be useful,\n",
    "but WITHOUT ANY WARRANTY; without even the implied warranty of\n",
    "MERCHANTABILITY or FITNESS FOR A PARTICULAR PURPOSE.  See the\n",
    "GNU General Public License for more details.\n",
    "\n",
    "You should have received a copy of the GNU General Public License\n",
    "along with this program.  If not, see <https://www.gnu.org/licenses/>.\n",
    "\n",
    "ADDITIONAL TERMS\n",
    "\n",
    "As stated in section 7. c) and e) of the GPL3 license, \n",
    "\"you may supplement the terms of this License with terms,\" \n",
    "Computate has added the following additional terms to the license: \n",
    "\n",
    "  7 c) Prohibiting misrepresentation of the origin of that material, and\n",
    "    requiring that modified versions of such material be marked in\n",
    "    reasonable ways as different from the original version;\n",
    "\n",
    "  7 e) Declining to grant rights under trademark law for use of some\n",
    "    trade names, trademarks, or service marks;\n",
    "\n",
    "Please do not redistribute this course until you have built your own platform with these tools, \n",
    "separate from the computate.org platform, and reconfigure your fork of this repo to deploy \n",
    "your own platform instead of the computate.org platform. \n",
    "\n",
    "QUESTIONS\n",
    "\n",
    "For questions about this open source license, please contact our public mailing list at computate@group.computate.org\n"
   ]
  },
  {
   "cell_type": "markdown",
   "id": "906c1626",
   "metadata": {},
   "source": [
    "## Switch to the Bash Kernel\n",
    "\n",
    "To run this Jupyter Notebook in VSCode, you will need to switch to the Bash Kernel you installed earlier. \n",
    "It's a button in the top right corner of the notebook that says `Select Kernel`. \n"
   ]
  },
  {
   "cell_type": "markdown",
   "id": "c3e2ffe9-0679-45cf-89d3-bd64789982f6",
   "metadata": {},
   "source": [
    "# Install helm\n",
    "\n",
    "## The package manager for OpenShift and Kubernetes"
   ]
  },
  {
   "cell_type": "markdown",
   "id": "9dbadb22",
   "metadata": {},
   "source": [
    "The helm command gives you access to hundreds of useful cloud applications that can easily be installed to an OpenShift cloud environment. "
   ]
  },
  {
   "cell_type": "markdown",
   "id": "190079c4",
   "metadata": {},
   "source": [
    "Run the commands below to install helm, for installing zookeeper, solr, postgresql, keycloak, mongodb, rabbitmq, and more. "
   ]
  },
  {
   "cell_type": "markdown",
   "id": "7dbf1054",
   "metadata": {},
   "source": [
    "## Make user local bin directory and user local optional helm directory\n",
    "- Make two new user directories. One for for storing local binary executable files, and one to store the helm application. \n",
    "- Then check that the two directories exist. "
   ]
  },
  {
   "cell_type": "code",
   "execution_count": null,
   "id": "0a03348a",
   "metadata": {
    "vscode": {
     "languageId": "python"
    }
   },
   "outputs": [],
   "source": [
    "%%bash\n",
    "mkdir -p ~/.local/bin/ ~/.local/opt/helm/\n",
    "ls -ld ~/.local/bin/ ~/.local/opt/helm/\n",
    "echo DONE"
   ]
  },
  {
   "cell_type": "markdown",
   "id": "270a7814",
   "metadata": {},
   "source": [
    "## Download and extract the helm binary\n",
    "- Download the helm install script. \n",
    "- Make the helm install script executable. \n",
    "- Install helm in the desired `~/.local/bin` directory. "
   ]
  },
  {
   "cell_type": "code",
   "execution_count": null,
   "id": "ce378b2b-3ab0-4bc9-8ee2-7bc380eb965e",
   "metadata": {
    "vscode": {
     "languageId": "shellscript"
    }
   },
   "outputs": [],
   "source": [
    "curl -fsSL -o ~/.local/bin/get_helm.sh https://raw.githubusercontent.com/helm/helm/main/scripts/get-helm-3\n",
    "chmod 700 ~/.local/bin/get_helm.sh\n",
    "env HELM_INSTALL_DIR=~/.local/bin ~/.local/bin/get_helm.sh --no-sudo\n",
    "echo DONE"
   ]
  },
  {
   "cell_type": "markdown",
   "id": "61a0e1bb",
   "metadata": {},
   "source": [
    "## More information about using Helm\n",
    "\n",
    "To learn more about using Helm to deploy applications, visit: \n",
    "\n",
    "https://helm.sh/"
   ]
  },
  {
   "cell_type": "markdown",
   "id": "8e43d25b",
   "metadata": {},
   "source": [
    "## Next...\n",
    "If you have successfully ran all of the commands above, congratulations, you are ready to move on to the next notebook in the course. \n",
    "\n",
    "- If you have additional questions or issues, please [create an issue for the course here](https://github.com/computate-org/computate/issues). \n",
    "- Otherwise, please continue to the next document [05-deploy-zookeeper.ipynb](05-deploy-zookeeper.ipynb). \n"
   ]
  },
  {
   "cell_type": "markdown",
   "id": "79f3fbe3",
   "metadata": {},
   "source": []
  }
 ],
 "metadata": {
  "kernelspec": {
   "display_name": "Bash",
   "language": "bash",
   "name": "bash"
  },
  "language_info": {
   "codemirror_mode": "shell",
   "file_extension": ".sh",
   "mimetype": "text/x-sh",
   "name": "bash"
  }
 },
 "nbformat": 4,
 "nbformat_minor": 5
}
