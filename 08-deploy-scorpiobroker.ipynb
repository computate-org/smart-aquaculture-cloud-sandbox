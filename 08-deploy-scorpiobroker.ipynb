{
 "cells": [
  {
   "cell_type": "markdown",
   "id": "e02b8ef2",
   "metadata": {},
   "source": [
    "# Cloud sandbox powered by FIWARE\n",
    "\n",
    "## About the open source GPL3 license and copyright for this product\n",
    "\n",
    "Copyright (c) 2024 Computate Limited Liability Company in Utah, USA\n",
    "\n",
    "This program is free software: you can redistribute it and/or modify\n",
    "it under the terms of the GNU General Public License as published by\n",
    "the Free Software Foundation, either version 3 of the License, or\n",
    "(at your option) any later version.\n",
    "\n",
    "This program is distributed in the hope that it will be useful,\n",
    "but WITHOUT ANY WARRANTY; without even the implied warranty of\n",
    "MERCHANTABILITY or FITNESS FOR A PARTICULAR PURPOSE.  See the\n",
    "GNU General Public License for more details.\n",
    "\n",
    "You should have received a copy of the GNU General Public License\n",
    "along with this program.  If not, see <https://www.gnu.org/licenses/>.\n",
    "\n",
    "ADDITIONAL TERMS\n",
    "\n",
    "As stated in section 7. c) and e) of the GPL3 license, \n",
    "\"you may supplement the terms of this License with terms,\" \n",
    "Computate has added the following additional terms to the license: \n",
    "\n",
    "  7 c) Prohibiting misrepresentation of the origin of that material, and\n",
    "    requiring that modified versions of such material be marked in\n",
    "    reasonable ways as different from the original version;\n",
    "\n",
    "  7 e) Declining to grant rights under trademark law for use of some\n",
    "    trade names, trademarks, or service marks;\n",
    "\n",
    "Please do not redistribute this course until you have built your own platform with these tools, \n",
    "separate from the computate.org platform, and reconfigure your fork of this repo to deploy \n",
    "your own platform instead of the computate.org platform. \n",
    "\n",
    "QUESTIONS\n",
    "\n",
    "For questions about this open source license, please contact our public mailing list at computate@group.computate.org\n"
   ]
  },
  {
   "cell_type": "markdown",
   "id": "2ec6187e",
   "metadata": {},
   "source": [
    "## Switch to the Python 3.9 Kernel\n",
    "\n",
    "When opening this Jupyter Notebook in VSCode, you will need to switch to the Jupyter 3.9 Kernel. "
   ]
  },
  {
   "cell_type": "markdown",
   "id": "901d33d3",
   "metadata": {},
   "source": [
    "## Deploy the Scorpio Broker in the OpenShift Developer Sandbox\n",
    "\n",
    "A FIWARE Context Broker like ScorpioBroker is required for storing smart device entity data of vehicle traffic cameras and pedestrian traffic cameras in the project. "
   ]
  },
  {
   "cell_type": "markdown",
   "id": "1110878a",
   "metadata": {},
   "source": [
    "## Create a Scorpio Broker secret to connect to PostgreSQL"
   ]
  },
  {
   "cell_type": "code",
   "execution_count": null,
   "id": "27431961",
   "metadata": {
    "vscode": {
     "languageId": "shellscript"
    }
   },
   "outputs": [],
   "source": [
    "%%bash\n",
    "oc create secret generic postgres-pguser-scorpiobroker \\\n",
    "  --from-literal password=\"$(tr -dc 'A-Za-z0-9' < /dev/urandom | head -c 16)\"\n",
    "echo DONE"
   ]
  },
  {
   "cell_type": "markdown",
   "id": "a8a837fe",
   "metadata": {},
   "source": [
    "## Create database user for scorpiobroker on PostgreSQL"
   ]
  },
  {
   "cell_type": "code",
   "execution_count": null,
   "id": "2563fb85",
   "metadata": {
    "vscode": {
     "languageId": "shellscript"
    }
   },
   "outputs": [],
   "source": [
    "%%bash\n",
    "oc exec pod/postgresql-0 -- env PGPASSWORD=$(oc get secret/postgresql -o jsonpath={.data.postgres-password} | base64 -d) psql -U postgres postgres -c \\\n",
    "  \"create user scorpiobroker password '$(oc get secret/postgres-pguser-scorpiobroker -o jsonpath={.data.password} | base64 -d)' superuser\"\n",
    "echo DONE"
   ]
  },
  {
   "cell_type": "markdown",
   "id": "372a5f0a",
   "metadata": {},
   "source": [
    "## Create database for scorpiobroker on PostgreSQL"
   ]
  },
  {
   "cell_type": "code",
   "execution_count": null,
   "id": "82cf6fc7",
   "metadata": {
    "vscode": {
     "languageId": "shellscript"
    }
   },
   "outputs": [],
   "source": [
    "%%bash\n",
    "oc exec pod/postgresql-0 -- env PGPASSWORD=$(oc get secret/postgresql -o jsonpath={.data.postgres-password} | base64 -d) psql -U postgres postgres -c \\\n",
    "  \"create database scorpiobroker owner scorpiobroker\"\n",
    "echo DONE"
   ]
  },
  {
   "cell_type": "markdown",
   "id": "1d8f9af9",
   "metadata": {},
   "source": [
    "## Deploy the Scorpio Broker Deployment"
   ]
  },
  {
   "cell_type": "code",
   "execution_count": null,
   "id": "96d7921a",
   "metadata": {
    "vscode": {
     "languageId": "shellscript"
    }
   },
   "outputs": [],
   "source": [
    "%%bash\n",
    "ansible-playbook playbooks/deploy-scorpiobroker.yaml \\\n",
    "  -e \"DBHOST=postgresql\" \\\n",
    "  -e \"DBPORT=5432\" \\\n",
    "  -e \"DBNAME=scorpiobroker\" \\\n",
    "  -e \"DBUSER=scorpiobroker\" \\\n",
    "  -e \"DB_SECRET_NAME=postgres-pguser-scorpiobroker\" \\\n",
    "  -e \"DB_SECRET_KEY=password\" \\\n",
    "  -e \"SCORPIOBROKER_PORT=9090\" \\\n",
    "  -e \"SCORPIOBROKER_REPLICAS=1\" \\\n",
    "  -e \"SCORPIOBROKER_LIMITS_CPU=1\" \\\n",
    "  -e \"SCORPIOBROKER_LIMITS_MEMORY=3Gi\" \\\n",
    "  -e \"SCORPIOBROKER_REQUESTS_CPU=1\" \\\n",
    "  -e \"SCORPIOBROKER_REQUESTS_MEMORY=3Gi\" \\\n",
    "  -e \"SCORPIOBROKER_NAMESPACE=$(oc project -q)\"\n",
    "echo DONE"
   ]
  },
  {
   "cell_type": "markdown",
   "id": "9f05431d-cc70-4895-88a4-f0152c19686e",
   "metadata": {},
   "source": [
    "### View Scorpio Broker pod details\n",
    "After deploying Scorpio Broker with helm, it will take a minute before the Scorpio Broker pod is up and running. Run the command below until the Scorpio Broker pod health checks are `READY 1/1` and `STATUS Running`. "
   ]
  },
  {
   "cell_type": "code",
   "execution_count": null,
   "id": "ca249a7b-e7a5-44d1-bc61-a20fb2490ed5",
   "metadata": {
    "vscode": {
     "languageId": "shellscript"
    }
   },
   "outputs": [],
   "source": [
    "%%bash\n",
    "oc get pod -l app.kubernetes.io/instance=scorpiobroker\n",
    "oc wait pod -l app.kubernetes.io/instance=scorpiobroker --for=condition=Ready --timeout=5m\n",
    "oc get pod -l app.kubernetes.io/instance=scorpiobroker\n",
    "echo DONE"
   ]
  },
  {
   "cell_type": "markdown",
   "id": "53216d81",
   "metadata": {},
   "source": [
    "### View Scorpio Broker pod logs\n",
    "If your Scorpio Broker pod does not reach the STATUS Running, you can run the command below to view the pod logs of Scorpio Broker and check for other errors that may have occured. "
   ]
  },
  {
   "cell_type": "code",
   "execution_count": null,
   "id": "415fc4d1",
   "metadata": {
    "vscode": {
     "languageId": "shellscript"
    }
   },
   "outputs": [],
   "source": [
    "%%bash\n",
    "oc logs -l app.kubernetes.io/name=scorpiobroker\n",
    "echo DONE"
   ]
  },
  {
   "cell_type": "markdown",
   "id": "172d1d81",
   "metadata": {},
   "source": [
    "## Next...\n",
    "If you have successfully ran all of the commands above, congratulations, you are ready to move on to the next notebook in the course. \n",
    "\n",
    "- If you have additional questions or issues, please [create an issue for the course here](https://github.com/computate-org/computate/issues). \n",
    "- Otherwise, please continue to the next document [09-deploy-iotagent-json.ipynb](09-deploy-iotagent-json.ipynb). \n"
   ]
  }
 ],
 "metadata": {
  "kernelspec": {
   "display_name": "Bash",
   "language": "bash",
   "name": "bash"
  },
  "language_info": {
   "codemirror_mode": "shell",
   "file_extension": ".sh",
   "mimetype": "text/x-sh",
   "name": "bash"
  }
 },
 "nbformat": 4,
 "nbformat_minor": 5
}
