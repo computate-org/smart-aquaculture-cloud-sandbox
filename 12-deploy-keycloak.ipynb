{
 "cells": [
  {
   "cell_type": "markdown",
   "metadata": {},
   "source": [
    "# Computate Smart Cloud Builder\n",
    "\n",
    "## About the open source GPL3 license and copyright for this product\n",
    "\n",
    "Copyright © 2024 Computate Limited Liability Company in Utah, USA\n",
    "\n",
    "This program is free software: you can redistribute it and/or modify\n",
    "it under the terms of the GNU General Public License as published by\n",
    "the Free Software Foundation, either version 3 of the License, or\n",
    "(at your option) any later version.\n",
    "\n",
    "This program is distributed in the hope that it will be useful,\n",
    "but WITHOUT ANY WARRANTY; without even the implied warranty of\n",
    "MERCHANTABILITY or FITNESS FOR A PARTICULAR PURPOSE.  See the\n",
    "GNU General Public License for more details.\n",
    "\n",
    "You should have received a copy of the GNU General Public License\n",
    "along with this program.  If not, see <https://www.gnu.org/licenses/>.\n",
    "\n",
    "ADDITIONAL TERMS\n",
    "\n",
    "As stated in section 7. c) and e) of the GPL3 license, \n",
    "\"you may supplement the terms of this License with terms,\" \n",
    "Computate has added the following additional terms to the license: \n",
    "\n",
    "  7 c) Prohibiting misrepresentation of the origin of that material, and\n",
    "    requiring that modified versions of such material be marked in\n",
    "    reasonable ways as different from the original version;\n",
    "\n",
    "  7 e) Declining to grant rights under trademark law for use of some\n",
    "    trade names, trademarks, or service marks;\n",
    "\n",
    "Please do not redistribute this course until you have built your own platform with these tools, \n",
    "separate from the computate.org platform, and reconfigure your fork of this repo to deploy \n",
    "your own platform instead of the computate.org platform. \n",
    "\n",
    "QUESTIONS\n",
    "\n",
    "For questions about this open source license, please contact our public mailing list at computate@group.computate.org\n"
   ]
  },
  {
   "cell_type": "markdown",
   "metadata": {},
   "source": [
    "## Switch to the Bash Kernel\n",
    "\n",
    "To run this Jupyter Notebook in VSCode, you will need to switch to the Bash Kernel you installed earlier. \n",
    "It's a button in the top right corner of the notebook that says `Select Kernel`. \n"
   ]
  },
  {
   "cell_type": "markdown",
   "metadata": {},
   "source": [
    "# Install Keycloak with helm"
   ]
  },
  {
   "cell_type": "code",
   "execution_count": null,
   "metadata": {
    "vscode": {
     "languageId": "shellscript"
    }
   },
   "outputs": [],
   "source": [
    "oc create secret generic \\\n",
    "  --from-literal admin-password=\"$(tr -dc 'A-Za-z0-9' < /dev/urandom | head -c 16)\" \\\n",
    "  keycloak-initial-admin\n",
    "echo DONE"
   ]
  },
  {
   "cell_type": "markdown",
   "metadata": {},
   "source": [
    "## Create Postgres password, user, and database for keycloak"
   ]
  },
  {
   "cell_type": "code",
   "execution_count": null,
   "metadata": {
    "vscode": {
     "languageId": "shellscript"
    }
   },
   "outputs": [],
   "source": [
    "oc create secret generic \\\n",
    "  --from-literal password=\"$(tr -dc 'A-Za-z0-9' < /dev/urandom | head -c 16)\" \\\n",
    "  postgres-pguser-keycloak\n",
    "echo DONE"
   ]
  },
  {
   "cell_type": "code",
   "execution_count": null,
   "metadata": {
    "vscode": {
     "languageId": "shellscript"
    }
   },
   "outputs": [],
   "source": [
    "oc exec pod/postgresql-0 -- env PGPASSWORD=$(oc get secret/postgresql -o jsonpath={.data.postgres-password} | base64 -d) psql -U postgres postgres -c \\\n",
    "  \"create user keycloak password '$(oc get secret/postgres-pguser-keycloak -o jsonpath={.data.password} | base64 -d)'\"\n",
    "echo DONE"
   ]
  },
  {
   "cell_type": "code",
   "execution_count": null,
   "metadata": {
    "vscode": {
     "languageId": "shellscript"
    }
   },
   "outputs": [],
   "source": [
    "oc exec pod/postgresql-0 -- env PGPASSWORD=$(oc get secret/postgresql -o jsonpath={.data.postgres-password} | base64 -d) psql -U postgres postgres -c \\\n",
    "  \"create database keycloak owner keycloak\"\n",
    "echo DONE"
   ]
  },
  {
   "cell_type": "markdown",
   "metadata": {},
   "source": [
    "## Set your OpenShift Developer Sandbox apps domain variable\n",
    "\n",
    "For this next part, we will be deploying Keycloak with an external Route. \n",
    "You will need to check what is your OpenShift Developer Sandbox apps domain. \n",
    "\n",
    "Update the OPENSHIFT_APPS_DOMAIN environment variable below. \n",
    "It should look something like this: \n",
    "\n",
    "`apps.sandbox-m2.ll9k.p1.openshiftapps.com`. "
   ]
  },
  {
   "cell_type": "markdown",
   "metadata": {},
   "source": [
    "Run the commands below to install keycloak with helm. "
   ]
  },
  {
   "cell_type": "code",
   "execution_count": null,
   "metadata": {
    "vscode": {
     "languageId": "shellscript"
    }
   },
   "outputs": [],
   "source": [
    "OPENSHIFT_APPS_DOMAIN=apps.sandbox-m2.ll9k.p1.openshiftapps.com\n",
    "\n",
    "helm upgrade --install keycloak oci://registry-1.docker.io/bitnamicharts/keycloak --version 21.7.1 \\\n",
    "  --set postgresql.enabled=false \\\n",
    "  --set-json 'resources={\"requests\": {\"cpu\": \"200m\", \"memory\": \"500Mi\"}}' \\\n",
    "  --set externalDatabase.host=postgresql \\\n",
    "  --set externalDatabase.user=keycloak \\\n",
    "  --set externalDatabase.password=$(oc get secret/postgres-pguser-keycloak -o jsonpath={.data.password} | base64 -d) \\\n",
    "  --set externalDatabase.database=keycloak \\\n",
    "  --set externalDatabase.port=5432 \\\n",
    "  --set ingress.enabled=false \\\n",
    "  --set ingress.hostname=keycloak.$OPENSHIFT_APPS_DOMAIN \\\n",
    "  --set adminIngress.hostname=keycloak.$OPENSHIFT_APPS_DOMAIN \\\n",
    "  --set-json 'extraEnvVars=[{\"name\":\"KC_HOSTNAME_URL\",\"value\":\"https://keycloak.'\"$OPENSHIFT_APPS_DOMAIN\"'\"}, {\"name\":\"KC_HOSTNAME_ADMIN_URL\",\"value\":\"https://keycloak.'\"$OPENSHIFT_APPS_DOMAIN\"'\"}]' \\\n",
    "  --set ingress.tls=false \\\n",
    "  --set ingress.selfSigned=false \\\n",
    "  --set production=false \\\n",
    "  --set tls.enabled=false \\\n",
    "  --set tls.autoGenerated=false \\\n",
    "  --set image.tag=24.0.5 \\\n",
    "  --set auth.existingSecret=keycloak-initial-admin \\\n",
    "  --set auth.adminUser=admin \\\n",
    "  --set auth.passwordSecretKey=admin-password\n",
    "echo DONE"
   ]
  },
  {
   "cell_type": "markdown",
   "metadata": {},
   "source": [
    "## Expose the keycloak service as an OpenShift Route"
   ]
  },
  {
   "cell_type": "code",
   "execution_count": null,
   "metadata": {
    "vscode": {
     "languageId": "shellscript"
    }
   },
   "outputs": [],
   "source": [
    "OPENSHIFT_APPS_DOMAIN=apps.sandbox-m2.ll9k.p1.openshiftapps.com\n",
    "oc create route edge --service keycloak --hostname \"keycloak.$OPENSHIFT_APPS_DOMAIN\""
   ]
  },
  {
   "cell_type": "markdown",
   "metadata": {},
   "source": [
    "### View Keycloak pod details\n",
    "After deploying the Helm Chart, it will take a minute before the Keycloak pod is up and running. Run the command below until the Keycloak pod health checks are `READY 1/1` and `STATUS Running`. "
   ]
  },
  {
   "cell_type": "code",
   "execution_count": null,
   "metadata": {
    "vscode": {
     "languageId": "shellscript"
    }
   },
   "outputs": [],
   "source": [
    "oc get pod/keycloak-0\n",
    "oc wait pod/keycloak-0 --for=condition=Ready --timeout=2m\n",
    "oc get pod/keycloak-0\n",
    "echo DONE"
   ]
  },
  {
   "cell_type": "markdown",
   "metadata": {},
   "source": [
    "### View Keycloak pod logs\n",
    "If your Keycloak pod does not reach the STATUS Running, you can run the command below to view the pod logs of Keycloak and check for other errors that may have occured. "
   ]
  },
  {
   "cell_type": "code",
   "execution_count": null,
   "metadata": {
    "vscode": {
     "languageId": "shellscript"
    }
   },
   "outputs": [],
   "source": [
    "oc logs pod/keycloak-0\n",
    "echo DONE"
   ]
  },
  {
   "cell_type": "markdown",
   "metadata": {},
   "source": [
    "# Access the Keycloak dashboard"
   ]
  },
  {
   "cell_type": "markdown",
   "metadata": {},
   "source": [
    "Access the Keycloak dashboard using the route. "
   ]
  },
  {
   "cell_type": "code",
   "execution_count": null,
   "metadata": {
    "vscode": {
     "languageId": "shellscript"
    }
   },
   "outputs": [],
   "source": [
    "echo \"https://$(oc get $(oc get route -l app.kubernetes.io/name=keycloak -o name) -o jsonpath={.spec.host})\"\n",
    "echo DONE"
   ]
  },
  {
   "cell_type": "markdown",
   "metadata": {},
   "source": [
    "The username will be `admin` and run the command below to find the admin password."
   ]
  },
  {
   "cell_type": "code",
   "execution_count": null,
   "metadata": {
    "vscode": {
     "languageId": "shellscript"
    }
   },
   "outputs": [],
   "source": [
    "oc get secret/keycloak-initial-admin -o jsonpath={.data.admin-password} | base64 -d\n",
    "echo DONE"
   ]
  },
  {
   "cell_type": "markdown",
   "metadata": {},
   "source": [
    "## Next...\n",
    "If you have successfully ran all of the commands above, congratulations, you are ready to move on to the next notebook in the course. \n",
    "\n",
    "- If you have additional questions or issues, please [create an issue for the course here](https://github.com/computate-org/computate/issues). \n",
    "- Otherwise, please continue to the next document [13-deploy-secrets.ipynb](13-deploy-secrets.ipynb). \n"
   ]
  },
  {
   "cell_type": "markdown",
   "metadata": {},
   "source": []
  }
 ],
 "metadata": {
  "kernelspec": {
   "display_name": "Bash",
   "language": "bash",
   "name": "bash"
  },
  "language_info": {
   "codemirror_mode": "shell",
   "file_extension": ".sh",
   "mimetype": "text/x-sh",
   "name": "bash"
  }
 },
 "nbformat": 4,
 "nbformat_minor": 2
}
