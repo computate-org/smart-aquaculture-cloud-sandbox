{
 "cells": [
  {
   "cell_type": "markdown",
   "metadata": {},
   "source": [
    "# Computate Smart Cloud Builder\n",
    "\n",
    "## About the open source GPL3 license and copyright for this product\n",
    "\n",
    "Copyright © 2024 Computate Limited Liability Company in Utah, USA\n",
    "\n",
    "This program is free software: you can redistribute it and/or modify\n",
    "it under the terms of the GNU General Public License as published by\n",
    "the Free Software Foundation, either version 3 of the License, or\n",
    "(at your option) any later version.\n",
    "\n",
    "This program is distributed in the hope that it will be useful,\n",
    "but WITHOUT ANY WARRANTY; without even the implied warranty of\n",
    "MERCHANTABILITY or FITNESS FOR A PARTICULAR PURPOSE.  See the\n",
    "GNU General Public License for more details.\n",
    "\n",
    "You should have received a copy of the GNU General Public License\n",
    "along with this program.  If not, see <https://www.gnu.org/licenses/>.\n",
    "\n",
    "ADDITIONAL TERMS\n",
    "\n",
    "As stated in section 7. c) and e) of the GPL3 license, \n",
    "\"you may supplement the terms of this License with terms,\" \n",
    "Computate has added the following additional terms to the license: \n",
    "\n",
    "  7 c) Prohibiting misrepresentation of the origin of that material, and\n",
    "    requiring that modified versions of such material be marked in\n",
    "    reasonable ways as different from the original version;\n",
    "\n",
    "  7 e) Declining to grant rights under trademark law for use of some\n",
    "    trade names, trademarks, or service marks;\n",
    "\n",
    "Please do not redistribute this course until you have built your own platform with these tools, \n",
    "separate from the computate.org platform, and reconfigure your fork of this repo to deploy \n",
    "your own platform instead of the computate.org platform. \n",
    "\n",
    "QUESTIONS\n",
    "\n",
    "For questions about this open source license, please contact our public mailing list at computate@group.computate.org\n"
   ]
  },
  {
   "cell_type": "markdown",
   "metadata": {},
   "source": [
    "## Create a Keycloak auth scopes\n",
    "\n",
    "Here is where we define the default Keycloak auth scopes for our application: \n",
    "\n",
    "- POST\n",
    "- PATCH\n",
    "- GET\n",
    "- Admin\n",
    "- SuperAdmin"
   ]
  },
  {
   "cell_type": "code",
   "execution_count": null,
   "metadata": {
    "vscode": {
     "languageId": "shellscript"
    }
   },
   "outputs": [],
   "source": [
    "eval $(env SITE_NAMESPACE=\"$(oc project -q)\" ./vars.py)\n",
    "\n",
    "ACCESS_TOKEN=$(curl -k -s -X POST -d \"username=admin\" -d \"grant_type=password\" -d \"client_id=admin-cli\" \\\n",
    "  -d \"password=$(oc -n keycloak get secret/keycloak-initial-admin -o jsonpath={.data.admin-password} | base64 -d)\" \\\n",
    "  $AUTH_URL/realms/master/protocol/openid-connect/token | jq -r \".access_token\")\n",
    "\n",
    "declare -a arr=(\"POST\" \"PATCH\" \"GET\" \"DELETE\" \"$AUTH_SCOPE_ADMIN\" \"$AUTH_SCOPE_SUPER_ADMIN\")\n",
    "for AUTH_SCOPE in \"${arr[@]}\"\n",
    "do\n",
    "  curl -k -i -X POST -H \"Content-Type: application/json\" -H \"Authorization: Bearer $ACCESS_TOKEN\" \\\n",
    "    \"$AUTH_URL/admin/realms/$AUTH_REALM/clients/$AUTH_CLIENT/authz/resource-server/scope\" \\\n",
    "    --data '{\"id\":\"'\"$AUTH_REALM-$AUTH_SCOPE\"'\",\"name\":\"'\"$AUTH_SCOPE\"'\",\"displayName\":\"'\"$AUTH_SCOPE\"'\"}'\n",
    "done\n",
    "\n",
    "echo DONE"
   ]
  },
  {
   "cell_type": "markdown",
   "metadata": {},
   "source": [
    "## Create a Keycloak auth resource and permission for SiteUsers\n"
   ]
  },
  {
   "cell_type": "markdown",
   "metadata": {},
   "source": [
    "Create a Keycloak auth Resource for the SiteUser model in the site. "
   ]
  },
  {
   "cell_type": "code",
   "execution_count": null,
   "metadata": {
    "vscode": {
     "languageId": "shellscript"
    }
   },
   "outputs": [],
   "source": [
    "eval $(env SITE_NAMESPACE=\"$(oc project -q)\" ./vars.py)\n",
    "\n",
    "ACCESS_TOKEN=$(curl -k -s -X POST -d \"username=admin\" -d \"grant_type=password\" -d \"client_id=admin-cli\" \\\n",
    "  -d \"password=$(oc -n keycloak get secret/keycloak-initial-admin -o jsonpath={.data.admin-password} | base64 -d)\" \\\n",
    "  $AUTH_URL/realms/master/protocol/openid-connect/token | jq -r \".access_token\")\n",
    "\n",
    "curl -k -i -X POST -H \"Content-Type: application/json\" -H \"Authorization: Bearer $ACCESS_TOKEN\" \\\n",
    "  \"$AUTH_URL/admin/realms/$AUTH_REALM/clients/$AUTH_CLIENT/authz/resource-server/resource\" \\\n",
    "  --data '{\"name\":\"SiteUser\",\"displayName\":\"SiteUser\",\"scopes\":[\"GET\",\"PATCH\"]}'\n",
    "\n",
    "echo DONE"
   ]
  },
  {
   "cell_type": "markdown",
   "metadata": {},
   "source": [
    "Create a Keycloak auth Policy that represents all users of the AUTH_CLIENT. "
   ]
  },
  {
   "cell_type": "code",
   "execution_count": null,
   "metadata": {
    "vscode": {
     "languageId": "shellscript"
    }
   },
   "outputs": [],
   "source": [
    "eval $(env SITE_NAMESPACE=\"$(oc project -q)\" ./vars.py)\n",
    "\n",
    "ACCESS_TOKEN=$(curl -k -s -X POST -d \"username=admin\" -d \"grant_type=password\" -d \"client_id=admin-cli\" \\\n",
    "  -d \"password=$(oc -n keycloak get secret/keycloak-initial-admin -o jsonpath={.data.admin-password} | base64 -d)\" \\\n",
    "  $AUTH_URL/realms/master/protocol/openid-connect/token | jq -r \".access_token\")\n",
    "\n",
    "curl -k -i -X POST -H \"Content-Type: application/json\" -H \"Authorization: Bearer $ACCESS_TOKEN\" \\\n",
    "  \"$AUTH_URL/admin/realms/$AUTH_REALM/clients/$AUTH_CLIENT/authz/resource-server/policy/client\" \\\n",
    "  --data '{\"id\":\"'\"$AUTH_REALM\"'-all-users\",\"name\":\"'\"$AUTH_REALM\"'-all-users\",\"description\":\"all users\",\"clients\":[\"'\"$AUTH_CLIENT\"'\"]}'\n",
    "\n",
    "echo DONE"
   ]
  },
  {
   "cell_type": "markdown",
   "metadata": {},
   "source": [
    "Create a Keycloak auth Permission to use the GET and PATCH scope of a SiteUser Resource to all users of the AUTH_CLIENT by default. "
   ]
  },
  {
   "cell_type": "code",
   "execution_count": null,
   "metadata": {
    "vscode": {
     "languageId": "shellscript"
    }
   },
   "outputs": [],
   "source": [
    "eval $(env SITE_NAMESPACE=\"$(oc project -q)\" ./vars.py)\n",
    "\n",
    "ACCESS_TOKEN=$(curl -k -s -X POST -d \"username=admin\" -d \"grant_type=password\" -d \"client_id=admin-cli\" \\\n",
    "  -d \"password=$(oc -n keycloak get secret/keycloak-initial-admin -o jsonpath={.data.admin-password} | base64 -d)\" \\\n",
    "  $AUTH_URL/realms/master/protocol/openid-connect/token | jq -r \".access_token\")\n",
    "\n",
    "curl -k -i -X POST -H \"Content-Type: application/json\" -H \"Authorization: Bearer $ACCESS_TOKEN\" \\\n",
    "  \"$AUTH_URL/admin/realms/$AUTH_REALM/clients/$AUTH_CLIENT/authz/resource-server/permission/scope\" \\\n",
    "  --data '{\"name\":\"'\"$AUTH_REALM\"'-SiteUser-all-users-GET-PATCH\"\n",
    "      ,\"decisionStrategy\":\"AFFIRMATIVE\"\n",
    "      ,\"description\":\"SiteUser all client users GET PATCH\"\n",
    "      ,\"resources\":[\"SiteUser\"]\n",
    "      ,\"policies\":[\"'\"$AUTH_REALM\"'-all-users\"]\n",
    "      ,\"scopes\":[\"'\"$AUTH_REALM\"'-GET\",\"'\"$AUTH_REALM\"'-PATCH\"]\n",
    "      }'\n",
    "\n",
    "echo DONE"
   ]
  },
  {
   "cell_type": "markdown",
   "metadata": {},
   "source": [
    "## Create SiteAdmin group in Keycloak"
   ]
  },
  {
   "cell_type": "markdown",
   "metadata": {},
   "source": [
    "Create the SiteAdmin group in your AUTH_REALM. "
   ]
  },
  {
   "cell_type": "code",
   "execution_count": null,
   "metadata": {
    "vscode": {
     "languageId": "shellscript"
    }
   },
   "outputs": [],
   "source": [
    "eval $(env SITE_NAMESPACE=\"$(oc project -q)\" ./vars.py)\n",
    "\n",
    "ACCESS_TOKEN=$(curl -k -s -X POST -d \"username=admin\" -d \"grant_type=password\" -d \"client_id=admin-cli\" \\\n",
    "  -d \"password=$(oc -n keycloak get secret/keycloak-initial-admin -o jsonpath={.data.admin-password} | base64 -d)\" \\\n",
    "  $AUTH_URL/realms/master/protocol/openid-connect/token | jq -r \".access_token\")\n",
    "\n",
    "curl -k -i -X POST -H \"Content-Type: application/json\" -H \"Authorization: Bearer $ACCESS_TOKEN\" \\\n",
    "  \"$AUTH_URL/admin/realms/$AUTH_REALM/groups\" \\\n",
    "  --data '{\"name\":\"'\"$AUTH_SCOPE_ADMIN\"'\"}'\n",
    "\n",
    "echo DONE"
   ]
  },
  {
   "cell_type": "markdown",
   "metadata": {},
   "source": [
    "Create a Keycloak auth Policy that represents the SiteAdmin group. "
   ]
  },
  {
   "cell_type": "code",
   "execution_count": null,
   "metadata": {
    "vscode": {
     "languageId": "shellscript"
    }
   },
   "outputs": [],
   "source": [
    "eval $(env SITE_NAMESPACE=\"$(oc project -q)\" ./vars.py)\n",
    "\n",
    "ACCESS_TOKEN=$(curl -k -s -X POST -d \"username=admin\" -d \"grant_type=password\" -d \"client_id=admin-cli\" \\\n",
    "  -d \"password=$(oc -n keycloak get secret/keycloak-initial-admin -o jsonpath={.data.admin-password} | base64 -d)\" \\\n",
    "  $AUTH_URL/realms/master/protocol/openid-connect/token | jq -r \".access_token\")\n",
    "\n",
    "AUTH_GROUP_ID=$(curl -k -s -H \"Content-Type: application/json\" -H \"Authorization: Bearer $ACCESS_TOKEN\" \\\n",
    "  \"$AUTH_URL/admin/realms/$AUTH_REALM/groups?search=$AUTH_SCOPE_ADMIN\" | jq -r \".[0].id\")\n",
    "\n",
    "curl -k -i -X POST -H \"Content-Type: application/json\" -H \"Authorization: Bearer $ACCESS_TOKEN\" \\\n",
    "  \"$AUTH_URL/admin/realms/$AUTH_REALM/clients/$AUTH_CLIENT/authz/resource-server/policy/group\" \\\n",
    "  --data '{\"id\":\"'\"$AUTH_REALM\"'-group-'\"$AUTH_SCOPE_ADMIN\"'\",\"name\":\"'\"$AUTH_REALM\"'-group-'\"$AUTH_SCOPE_ADMIN\"'\",\"description\":\"'\"$AUTH_SCOPE_ADMIN\"' group\",\"groups\":[\"'\"$AUTH_GROUP_ID\"'\"]}'\n",
    "\n",
    "echo DONE"
   ]
  },
  {
   "cell_type": "markdown",
   "metadata": {},
   "source": [
    "## Create SuperAdmin group in Keycloak"
   ]
  },
  {
   "cell_type": "markdown",
   "metadata": {},
   "source": [
    "Create the SuperAdmin group in your AUTH_REALM. "
   ]
  },
  {
   "cell_type": "code",
   "execution_count": null,
   "metadata": {
    "vscode": {
     "languageId": "shellscript"
    }
   },
   "outputs": [],
   "source": [
    "eval $(env SITE_NAMESPACE=\"$(oc project -q)\" ./vars.py)\n",
    "\n",
    "ACCESS_TOKEN=$(curl -k -s -X POST -d \"username=admin\" -d \"grant_type=password\" -d \"client_id=admin-cli\" \\\n",
    "  -d \"password=$(oc -n keycloak get secret/keycloak-initial-admin -o jsonpath={.data.admin-password} | base64 -d)\" \\\n",
    "  $AUTH_URL/realms/master/protocol/openid-connect/token | jq -r \".access_token\")\n",
    "\n",
    "curl -k -i -X POST -H \"Content-Type: application/json\" -H \"Authorization: Bearer $ACCESS_TOKEN\" \\\n",
    "  \"$AUTH_URL/admin/realms/$AUTH_REALM/groups\" \\\n",
    "  --data '{\"name\":\"'\"$AUTH_SCOPE_SUPER_ADMIN\"'\"}'\n",
    "\n",
    "echo DONE"
   ]
  },
  {
   "cell_type": "markdown",
   "metadata": {},
   "source": [
    "Create a Keycloak auth Policy that represents the SiteAdmin group. "
   ]
  },
  {
   "cell_type": "code",
   "execution_count": null,
   "metadata": {
    "vscode": {
     "languageId": "shellscript"
    }
   },
   "outputs": [],
   "source": [
    "eval $(env SITE_NAMESPACE=\"$(oc project -q)\" ./vars.py)\n",
    "\n",
    "ACCESS_TOKEN=$(curl -k -s -X POST -d \"username=admin\" -d \"grant_type=password\" -d \"client_id=admin-cli\" \\\n",
    "  -d \"password=$(oc -n keycloak get secret/keycloak-initial-admin -o jsonpath={.data.admin-password} | base64 -d)\" \\\n",
    "  $AUTH_URL/realms/master/protocol/openid-connect/token | jq -r \".access_token\")\n",
    "\n",
    "AUTH_GROUP_ID=$(curl -k -s -H \"Content-Type: application/json\" -H \"Authorization: Bearer $ACCESS_TOKEN\" \\\n",
    "  \"$AUTH_URL/admin/realms/$AUTH_REALM/groups?search=$AUTH_SCOPE_SUPER_ADMIN\" | jq -r \".[0].id\")\n",
    "\n",
    "curl -k -i -X POST -H \"Content-Type: application/json\" -H \"Authorization: Bearer $ACCESS_TOKEN\" \\\n",
    "  \"$AUTH_URL/admin/realms/$AUTH_REALM/clients/$AUTH_CLIENT/authz/resource-server/policy/group\" \\\n",
    "  --data '{\"id\":\"'\"$AUTH_REALM\"'-group-'\"$AUTH_SCOPE_SUPER_ADMIN\"'\",\"name\":\"'\"$AUTH_REALM\"'-group-'\"$AUTH_SCOPE_SUPER_ADMIN\"'\",\"description\":\"'\"$AUTH_SCOPE_SUPER_ADMIN\"' group\",\"groups\":[\"'\"$AUTH_GROUP_ID\"'\"]}'\n",
    "\n",
    "echo DONE"
   ]
  }
 ],
 "metadata": {
  "kernelspec": {
   "display_name": "Bash",
   "language": "bash",
   "name": "bash"
  },
  "language_info": {
   "codemirror_mode": "shell",
   "file_extension": ".sh",
   "mimetype": "text/x-sh",
   "name": "bash"
  }
 },
 "nbformat": 4,
 "nbformat_minor": 2
}
