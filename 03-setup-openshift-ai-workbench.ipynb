{
 "cells": [
  {
   "cell_type": "markdown",
   "id": "d6970a40",
   "metadata": {},
   "source": [
    "# Computate Smart Cloud Builder\n",
    "\n",
    "## About the open source GPL3 license and copyright for this product\n",
    "\n",
    "Copyright (c) 2024 Computate Limited Liability Company in Utah, USA\n",
    "\n",
    "This program is free software: you can redistribute it and/or modify\n",
    "it under the terms of the GNU General Public License as published by\n",
    "the Free Software Foundation, either version 3 of the License, or\n",
    "(at your option) any later version.\n",
    "\n",
    "This program is distributed in the hope that it will be useful,\n",
    "but WITHOUT ANY WARRANTY; without even the implied warranty of\n",
    "MERCHANTABILITY or FITNESS FOR A PARTICULAR PURPOSE.  See the\n",
    "GNU General Public License for more details.\n",
    "\n",
    "You should have received a copy of the GNU General Public License\n",
    "along with this program.  If not, see <https://www.gnu.org/licenses/>.\n",
    "\n",
    "ADDITIONAL TERMS\n",
    "\n",
    "As stated in section 7. c) and e) of the GPL3 license, \n",
    "\"you may supplement the terms of this License with terms,\" \n",
    "Computate has added the following additional terms to the license: \n",
    "\n",
    "  7 c) Prohibiting misrepresentation of the origin of that material, and\n",
    "    requiring that modified versions of such material be marked in\n",
    "    reasonable ways as different from the original version;\n",
    "\n",
    "  7 e) Declining to grant rights under trademark law for use of some\n",
    "    trade names, trademarks, or service marks;\n",
    "\n",
    "Please do not redistribute this course until you have built your own platform with these tools, \n",
    "separate from the computate.org platform, and reconfigure your fork of this repo to deploy \n",
    "your own platform instead of the computate.org platform. \n",
    "\n",
    "QUESTIONS\n",
    "\n",
    "For questions about this open source license, please contact our public mailing list at computate@group.computate.org\n"
   ]
  },
  {
   "cell_type": "markdown",
   "id": "2b966216",
   "metadata": {},
   "source": [
    "## Switch to the Bash Kernel\n",
    "\n",
    "To run this Jupyter Notebook in VSCode, you will need to switch to the Bash Kernel you installed earlier. \n",
    "It's a button in the top right corner of the notebook that says `Select Kernel`. \n"
   ]
  },
  {
   "cell_type": "markdown",
   "id": "b64dbd87",
   "metadata": {},
   "source": [
    "# Choose your own adventure: \n",
    "## OpenShift AI Workbench or Linux + VSCode\n",
    "\n",
    "For compatible Linux operating systems like RHEL 9, CentOS Stream 9, or Fedora 34+ with VSCode, \n",
    "you should be able to easily run the commands with these compatible flavors of Linux. \n",
    "Ubuntu may also be supported. "
   ]
  },
  {
   "cell_type": "markdown",
   "id": "ff98c843",
   "metadata": {},
   "source": [
    "## OpenShift AI workbench\n",
    "\n",
    "The rest of this notebook relates to setting up an OpenShift AI Workbench in the Red Hat OpenShift Developer Sandbox. \n",
    "You can skip this section if you are using VSCode as a developer from Linux instead. \n",
    "The OpenShift AI Workbench will allow those running Microsoft Windows or MacOSX to also complete this course. \n"
   ]
  },
  {
   "cell_type": "markdown",
   "id": "c29e7949",
   "metadata": {},
   "source": [
    "### Grant default service account edit role in namespace\n",
    "\n",
    "To grant the default service account edit role privileges, you will use\n",
    "either your own terminal where you have logged in to OpenShift, or use\n",
    "the built-in OpenShift Terminal. We will grant edit privileges on the\n",
    "default service account, as well as edit privileges on roles and\n",
    "rolebindings in the namespace so that the default service account can\n",
    "deploy resources in your namespace.\n"
   ]
  },
  {
   "cell_type": "code",
   "execution_count": null,
   "id": "ea96819d",
   "metadata": {
    "vscode": {
     "languageId": "shellscript"
    }
   },
   "outputs": [],
   "source": [
    "oc create rolebinding python-edit --clusterrole=edit \\\n",
    "  --serviceaccount=$(oc project -q):python\n",
    "\n",
    "oc create role python-edit-rolebindings \\\n",
    "  --verb=get,list,watch,create,update,patch,delete \\\n",
    "  --resource=roles,rolebindings\n",
    "\n",
    "oc create rolebinding python-edit-rolebindings --role=python-edit-rolebindings \\\n",
    "  --serviceaccount=$(oc project -q):python\n",
    "\n",
    "echo DONE"
   ]
  },
  {
   "cell_type": "markdown",
   "id": "cd0ee3ed",
   "metadata": {},
   "source": [
    "## Set up an OpenShift AI Workbench\n",
    "\n",
    "### Accessing OpenShift AI\n",
    "\n",
    "In your OpenShift Sandbox, click on the apps button\n",
    "<img src=\"pictures/100002010000003000000024AAAC041571052865.png\" />\n",
    "at the top,\n",
    "\n",
    "then click\n",
    "<img src=\"pictures/open-openshift-ai.png\" />\n",
    "to log into OpenShift AI.\n",
    "\n",
    "Click the button to\n",
    "<img src=\"pictures/10000201000000A000000020B028AB197DEBE3A3.png\" />.\n",
    "\n",
    "Log into OpenShift AI by clicking on the\n",
    "<img src=\"pictures/100002010000006C0000001DABF5B58FF6B1D253.png\" />\n",
    "button.\n",
    "\n",
    "Once you are in OpenShift AI, click on the menu button\n",
    "<img src=\"pictures/100002010000002E000000216426608B65255A13.png\" />,\n",
    "then click\n",
    "<img src=\"pictures/10000201000000B200000027F58611BB363F3154.png\" />.\n",
    "\n",
    "Then click on the name of your data science project\n",
    "<img src=\"pictures/100002010000008F00000034E5BB257B3DE6397F.png\" />,\n",
    "for my Red Hat user it’s computate-dev.\n"
   ]
  },
  {
   "cell_type": "markdown",
   "id": "2cbe4f33",
   "metadata": {},
   "source": [
    "### Create a new OpenShift AI Workbench\n",
    "\n",
    "To create a new workbench, click\n",
    "<img src=\"pictures/100002010000009100000021A1D82C0B6349F1C3.png\" />.\n",
    "\n",
    "To stay consistent with the rest of the course, enter the workbench name\n",
    "“python”\n",
    "<img src=\"pictures/1000020100000043000000446EA181997A7346B6.png\" />.\n",
    "\n",
    "For Image selection, choose “Minimal Python”\n",
    "<img src=\"pictures/100002010000007B0000003FA29A900E8890D587.png\" />.\n",
    "\n",
    "You can leave the rest of the fields as the default. At the very bottom,\n",
    "click\n",
    "<img src=\"pictures/1000020100000091000000211148800178F97C50.png\" />.\n",
    "\n",
    "After a minute or two, you should see the workbench change from\n",
    "<img src=\"pictures/10000201000000460000002FDF0FBBBC61A6E1C5.png\" />\n",
    "to\n",
    "<img src=\"pictures/100002010000003A00000030BD8223197D20CCFD.png\" />.\n"
   ]
  },
  {
   "cell_type": "markdown",
   "id": "cf8ff3d0",
   "metadata": {},
   "source": [
    "### Access your OpenShift AI Workbench\n",
    "\n",
    "In OpenShift AI, click on the\n",
    "<img src=\"pictures/100002010000004200000023E46306A5CE3ADC98.png\" />\n",
    "link to open your new OpenShift AI Workbench.\n",
    "\n",
    "Log into OpenShift AI by clicking on the\n",
    "<img src=\"pictures/100002010000006C0000001DABF5B58FF6B1D253.png\" />\n",
    "button.\n",
    "\n",
    "You will need to authorize yourself access to your workbench. Click\n",
    "<img src=\"pictures/10000201000000CD0000001AA11D3D36B96FAA42.png\" />.\n"
   ]
  },
  {
   "cell_type": "markdown",
   "id": "4b3f6810",
   "metadata": {},
   "source": [
    "## Using an OpenShift AI Python Workbench\n",
    "\n",
    "### Using a Workbench Terminal to load course resources\n",
    "\n",
    "You will want to open a Terminal inside your OpenShift AI Workbench to\n",
    "load the course resources. There are many ways to open a terminal, but\n",
    "here is one that always works.\n",
    "\n",
    "At the top, click\n",
    "<img src=\"pictures/100002010000002300000017A7751A2F8CB5671D.png\" />\n",
    "→\n",
    "<img src=\"pictures/100002010000002800000016B63989EE943480F7.png\" />\n",
    "→\n",
    "<img src=\"pictures/100002010000004D00000018604E6A830090C94F.png\" />.\n"
   ]
  },
  {
   "cell_type": "markdown",
   "id": "290370d7",
   "metadata": {},
   "source": [
    "### Rsync the cloud-sandbox-powered-by-fiware course to your workbench\n",
    "\n",
    "With the `oc rsync` command, copy the course materials to the default home directory\n",
    "(/opt/app-root/src) of your workbench.\n",
    "\n",
    "```bash\n",
    "oc rsync ~/.local/src/cloud-sandbox-powered-by-fiware/ /opt/app-root/src/cloud-sandbox-powered-by-fiware/\n",
    "```\n"
   ]
  },
  {
   "cell_type": "markdown",
   "id": "b642616c",
   "metadata": {},
   "source": [
    "## Install python, ansible, jupyter dependencies in OpenShift AI Workbench\n",
    "\n",
    "Something to note about the free OpenShift Developer Sandbox is that it will shut itself down each night \n",
    "by scaling all Deployments and StatefulSets to 0 replicas each night. \n",
    "This means that your OpenShift AI Workbench will turn off and forget the python dependencies that were installed in [00-install-python-ansible-jupyter.md]. \n",
    "You will need to rerun these commands after starting your workbench each day. "
   ]
  },
  {
   "cell_type": "markdown",
   "id": "4228812a",
   "metadata": {},
   "source": [
    "\n",
    "## Download helm\n",
    "- The helm command is used to deploy helm charts like MongoDB and RabbitMQ. Run the command below to download a compressed file containing the helm binaries to the `/tmp` directory. \n",
    "- Then check the size and permissions of the downloaded file. "
   ]
  },
  {
   "cell_type": "code",
   "execution_count": null,
   "id": "50e6e7a3",
   "metadata": {
    "vscode": {
     "languageId": "python"
    }
   },
   "outputs": [],
   "source": [
    "%%bash\n",
    "curl https://get.helm.sh/helm-v3.13.2-linux-amd64.tar.gz -o /tmp/helm-v3.13.2-linux-amd64.tar.gz\n",
    "ls -lh /tmp/helm-v3.13.2-linux-amd64.tar.gz\n",
    "echo DONE"
   ]
  },
  {
   "cell_type": "markdown",
   "id": "501f0257",
   "metadata": {},
   "source": [
    "# Make user local bin directory and user local optional helm directory\n",
    "- Make two new user directories. One for for storing local binary executable files, and one to store the helm application. \n",
    "- Then check that the two directories exist. "
   ]
  },
  {
   "cell_type": "code",
   "execution_count": null,
   "id": "f68d974f",
   "metadata": {
    "vscode": {
     "languageId": "python"
    }
   },
   "outputs": [],
   "source": [
    "%%bash\n",
    "mkdir -p ~/.local/bin/ ~/.local/opt/helm/\n",
    "ls -ld ~/.local/bin/ ~/.local/opt/helm/\n",
    "echo DONE"
   ]
  },
  {
   "cell_type": "markdown",
   "id": "de884657",
   "metadata": {},
   "source": [
    "## Extract the helm binary\n",
    "- Extract the contents of the helm compressed file to the helm directory for optional local user applications. \n",
    "- Check that the helm executable, license, and readme are all extracted in the right directory. "
   ]
  },
  {
   "cell_type": "code",
   "execution_count": null,
   "id": "cef03231",
   "metadata": {
    "vscode": {
     "languageId": "python"
    }
   },
   "outputs": [],
   "source": [
    "%%bash\n",
    "tar xvf /tmp/helm-v3.13.2-linux-amd64.tar.gz --strip-components=1 -C ~/.local/opt/helm/\n",
    "ls -l ~/.local/opt/helm/\n",
    "echo DONE"
   ]
  },
  {
   "cell_type": "markdown",
   "id": "d80aca9c",
   "metadata": {},
   "source": [
    "## Copy the helm binary into the $PATH\n",
    "- Copy the `helm` binary from the user local optional helm application directory to the user local bin directory. \n",
    "- Check with the `which` command that the `helm` binary is available in the `$PATH` to be run in the terminal. "
   ]
  },
  {
   "cell_type": "code",
   "execution_count": null,
   "id": "4fc54d60",
   "metadata": {
    "vscode": {
     "languageId": "python"
    }
   },
   "outputs": [],
   "source": [
    "%%bash\n",
    "cp ~/.local/opt/helm/helm ~/.local/bin/\n",
    "which helm\n",
    "echo DONE"
   ]
  },
  {
   "cell_type": "markdown",
   "id": "9dcb99b9",
   "metadata": {},
   "source": [
    "# Install prerequisite Ansible automation tools\n",
    "\n",
    "## Install prerequisite Python packages for Ansible\n",
    "\n",
    "Whenever I install Ansible, I find there are some required Python dependencies. Install the `setuptools_rust` and `wheel` Python dependencies below. "
   ]
  },
  {
   "cell_type": "code",
   "execution_count": null,
   "id": "353d2aa5",
   "metadata": {
    "vscode": {
     "languageId": "python"
    }
   },
   "outputs": [],
   "source": [
    "%%bash\n",
    "pip install setuptools_rust wheel\n",
    "echo DONE"
   ]
  },
  {
   "cell_type": "markdown",
   "id": "696d22c4",
   "metadata": {},
   "source": [
    "## Upgrade pip the python package manager\n",
    "\n",
    "Next upgrade pip, the python package manager for the latest python package support. "
   ]
  },
  {
   "cell_type": "code",
   "execution_count": null,
   "id": "893174bd",
   "metadata": {
    "vscode": {
     "languageId": "python"
    }
   },
   "outputs": [],
   "source": [
    "%%bash\n",
    "pip install --upgrade pip\n",
    "echo DONE"
   ]
  },
  {
   "cell_type": "markdown",
   "id": "50a76dbf",
   "metadata": {},
   "source": [
    "## Install Ansible automation tools\n",
    "Ansible is the enterprise open source standard tool for automating everything on the computer. In my opinion, if you are automating your computers and cloud environments without Ansible, you are doing it wrong. Install the latest ansible software with python pip, as well as other important python dependencies like `kubernetes`, `openshift`, and `jmespath` which are required to automate OpenShift deployments. Then check that the `ansible-playbook` command is available to run. "
   ]
  },
  {
   "cell_type": "code",
   "execution_count": null,
   "id": "8a794260",
   "metadata": {
    "vscode": {
     "languageId": "python"
    }
   },
   "outputs": [],
   "source": [
    "%%bash\n",
    "pip install ansible kubernetes openshift jmespath pika --upgrade\n",
    "ansible-galaxy collection install kubernetes.core\n",
    "which ansible-playbook\n",
    "echo DONE"
   ]
  },
  {
   "cell_type": "markdown",
   "id": "778853cc",
   "metadata": {},
   "source": [
    "## Next...\n",
    "If you have successfully ran all of the commands above, congratulations, you are ready to move on to the next notebook in the course. \n",
    "\n",
    "- If you have additional questions or issues, please [create an issue for the course here](https://github.com/computate-org/computate/issues). \n",
    "- Otherwise, please continue to the next document [04-install-helm.ipynb](04-install-helm.ipynb). \n"
   ]
  },
  {
   "cell_type": "markdown",
   "id": "5339e4c4",
   "metadata": {},
   "source": []
  }
 ],
 "metadata": {
  "kernelspec": {
   "display_name": "Bash",
   "language": "bash",
   "name": "bash"
  },
  "language_info": {
   "codemirror_mode": "shell",
   "file_extension": ".sh",
   "mimetype": "text/x-sh",
   "name": "bash"
  }
 },
 "nbformat": 4,
 "nbformat_minor": 5
}
