{
 "cells": [
  {
   "cell_type": "markdown",
   "metadata": {},
   "source": [
    "# Cloud sandbox powered by FIWARE\n",
    "\n",
    "## About the open source GPL3 license and copyright for this product\n",
    "\n",
    "Copyright © 2024 Computate Limited Liability Company in Utah, USA\n",
    "\n",
    "This program is free software: you can redistribute it and/or modify\n",
    "it under the terms of the GNU General Public License as published by\n",
    "the Free Software Foundation, either version 3 of the License, or\n",
    "(at your option) any later version.\n",
    "\n",
    "This program is distributed in the hope that it will be useful,\n",
    "but WITHOUT ANY WARRANTY; without even the implied warranty of\n",
    "MERCHANTABILITY or FITNESS FOR A PARTICULAR PURPOSE.  See the\n",
    "GNU General Public License for more details.\n",
    "\n",
    "You should have received a copy of the GNU General Public License\n",
    "along with this program.  If not, see <https://www.gnu.org/licenses/>.\n",
    "\n",
    "ADDITIONAL TERMS\n",
    "\n",
    "As stated in section 7. c) and e) of the GPL3 license, \n",
    "\"you may supplement the terms of this License with terms,\" \n",
    "Computate has added the following additional terms to the license: \n",
    "\n",
    "  7 c) Prohibiting misrepresentation of the origin of that material, and\n",
    "    requiring that modified versions of such material be marked in\n",
    "    reasonable ways as different from the original version;\n",
    "\n",
    "  7 e) Declining to grant rights under trademark law for use of some\n",
    "    trade names, trademarks, or service marks;\n",
    "\n",
    "Please do not redistribute this course until you have built your own platform with these tools, \n",
    "separate from the computate.org platform, and reconfigure your fork of this repo to deploy \n",
    "your own platform instead of the computate.org platform. \n",
    "\n",
    "QUESTIONS\n",
    "\n",
    "For questions about this open source license, please contact our public mailing list at computate@group.computate.org\n"
   ]
  },
  {
   "cell_type": "markdown",
   "metadata": {},
   "source": [
    "## Switch to the Python 3.9 Kernel\n",
    "\n",
    "When opening this Jupyter Notebook in VSCode, you will need to switch to the Jupyter 3.9 Kernel. "
   ]
  },
  {
   "cell_type": "markdown",
   "metadata": {},
   "source": [
    "# Access the IoT Services in the site"
   ]
  },
  {
   "cell_type": "markdown",
   "metadata": {},
   "source": [
    "Access the site using the route. "
   ]
  },
  {
   "cell_type": "code",
   "execution_count": null,
   "metadata": {
    "vscode": {
     "languageId": "shellscript"
    }
   },
   "outputs": [],
   "source": [
    "%%bash\n",
    "echo \"https://$(oc get route/computateorg -o jsonpath={.spec.host})/iot-service\"\n",
    "echo DONE"
   ]
  },
  {
   "cell_type": "markdown",
   "metadata": {},
   "source": [
    "Log in with the user you created earlier. Your user should be in either the SiteAdmin group, or the SuperAdmin group. "
   ]
  },
  {
   "cell_type": "markdown",
   "metadata": {},
   "source": [
    "## Create a new IoT Service\n",
    "\n",
    "- You should be on the IoT Services page. If not, click the `IoT services` button on the left. \n",
    "- Click on the `Create` button to create a new IoT Service. \n",
    "- Fill in the `IoT service details` section: \n",
    "  - entity type: `WeatherObserved`\n",
    "  - API key: `WeatherObserved`\n",
    "  - resource: `/iot/json`\n",
    "  - NGSILD-Tenant: `my-tenant`\n",
    "  - NGSILD-Path: `/My Country/My City`\n",
    "\n",
    "You can customize some of these fields if you like. \n",
    "\n",
    "- Each IoT service is connected to a specific Smart Data Model entity type like `WeatherObserved`. \n",
    "- The API key could be used more like a basic password, but for this application we will set it to the same as the entity type `WeatherObserved`. \n",
    "- The default resource for iotagent-json is `/iot/json`. \n",
    "- You can rename the NGSI-Tenant, and the NGSILD-Path to something that makes more sense to you. \n",
    "\n",
    "Now click `Create an IoT service`. \n",
    "\n",
    "See the [IoT Agent Library docs](https://iotagent-node-lib.readthedocs.io/en/latest/api.html) for more information about configuring the IoT Agent services and devices. "
   ]
  },
  {
   "cell_type": "code",
   "execution_count": null,
   "metadata": {},
   "outputs": [],
   "source": []
  }
 ],
 "metadata": {
  "kernelspec": {
   "display_name": "Python 3.9",
   "language": "python",
   "name": "python3"
  },
  "language_info": {
   "codemirror_mode": {
    "name": "ipython",
    "version": 3
   },
   "file_extension": ".py",
   "mimetype": "text/x-python",
   "name": "python",
   "nbconvert_exporter": "python",
   "pygments_lexer": "ipython3",
   "version": "3.9.16"
  }
 },
 "nbformat": 4,
 "nbformat_minor": 4
}
