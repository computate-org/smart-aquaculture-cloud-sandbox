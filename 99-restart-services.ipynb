{
 "cells": [
  {
   "cell_type": "markdown",
   "id": "94d989af",
   "metadata": {},
   "source": [
    "# Computate Smart Cloud Builder\n",
    "\n",
    "## About the open source GPL3 license and copyright for this product\n",
    "\n",
    "Copyright (c) 2024 Computate Limited Liability Company in Utah, USA\n",
    "\n",
    "This program is free software: you can redistribute it and/or modify\n",
    "it under the terms of the GNU General Public License as published by\n",
    "the Free Software Foundation, either version 3 of the License, or\n",
    "(at your option) any later version.\n",
    "\n",
    "This program is distributed in the hope that it will be useful,\n",
    "but WITHOUT ANY WARRANTY; without even the implied warranty of\n",
    "MERCHANTABILITY or FITNESS FOR A PARTICULAR PURPOSE.  See the\n",
    "GNU General Public License for more details.\n",
    "\n",
    "You should have received a copy of the GNU General Public License\n",
    "along with this program.  If not, see <https://www.gnu.org/licenses/>.\n",
    "\n",
    "ADDITIONAL TERMS\n",
    "\n",
    "As stated in section 7. c) and e) of the GPL3 license, \n",
    "\"you may supplement the terms of this License with terms,\" \n",
    "Computate has added the following additional terms to the license: \n",
    "\n",
    "  7 c) Prohibiting misrepresentation of the origin of that material, and\n",
    "    requiring that modified versions of such material be marked in\n",
    "    reasonable ways as different from the original version;\n",
    "\n",
    "  7 e) Declining to grant rights under trademark law for use of some\n",
    "    trade names, trademarks, or service marks;\n",
    "\n",
    "Please do not redistribute this course until you have built your own platform with these tools, \n",
    "separate from the computate.org platform, and reconfigure your fork of this repo to deploy \n",
    "your own platform instead of the computate.org platform. \n",
    "\n",
    "QUESTIONS\n",
    "\n",
    "For questions about this open source license, please contact our public mailing list at computate@group.computate.org\n"
   ]
  },
  {
   "cell_type": "markdown",
   "id": "2b3cc369",
   "metadata": {},
   "source": [
    "## Switch to the Bash Kernel\n",
    "\n",
    "To run this Jupyter Notebook in VSCode, you will need to switch to the Bash Kernel you installed earlier. \n",
    "It's a button in the top right corner of the notebook that says `Select Kernel`. \n"
   ]
  },
  {
   "cell_type": "markdown",
   "id": "fc44ae6a",
   "metadata": {},
   "source": [
    "## Restart all the microservices\n",
    "\n",
    "Restart all the microservices by setting the replicas from 0 to 1 after being shut down. \n"
   ]
  },
  {
   "cell_type": "code",
   "execution_count": null,
   "id": "a3d68b82-e612-4147-a4bd-f4ca0c7cfd05",
   "metadata": {
    "vscode": {
     "languageId": "shellscript"
    }
   },
   "outputs": [],
   "source": [
    "oc scale statefulset/zookeeper --replicas 1\n",
    "oc wait pod -l app.kubernetes.io/name=zookeeper --for=condition=Ready --timeout=5m"
   ]
  },
  {
   "cell_type": "code",
   "execution_count": null,
   "id": "db4e177f",
   "metadata": {
    "vscode": {
     "languageId": "shellscript"
    }
   },
   "outputs": [],
   "source": [
    "oc scale statefulset/solr --replicas 1\n",
    "oc wait pod -l app.kubernetes.io/name=solr --for=condition=Ready --timeout=5m\n"
   ]
  },
  {
   "cell_type": "code",
   "execution_count": null,
   "id": "e17b608c",
   "metadata": {
    "vscode": {
     "languageId": "shellscript"
    }
   },
   "outputs": [],
   "source": [
    "oc scale statefulset/postgresql --replicas 1\n",
    "oc wait pod -l app.kubernetes.io/name=postgresql --for=condition=Ready --timeout=2m"
   ]
  },
  {
   "cell_type": "code",
   "execution_count": null,
   "id": "c275c58a",
   "metadata": {
    "vscode": {
     "languageId": "shellscript"
    }
   },
   "outputs": [],
   "source": [
    "oc scale deployment/mongodb --replicas 1\n",
    "oc wait pod -l app.kubernetes.io/instance=mongodb --for=condition=Ready --timeout=5m"
   ]
  },
  {
   "cell_type": "code",
   "execution_count": null,
   "id": "38a05b47",
   "metadata": {
    "vscode": {
     "languageId": "shellscript"
    }
   },
   "outputs": [],
   "source": [
    "oc scale statefulset/rabbitmq --replicas 1\n",
    "oc wait pod -l app.kubernetes.io/instance=rabbitmq --for=condition=Ready --timeout=5m"
   ]
  },
  {
   "cell_type": "code",
   "execution_count": null,
   "id": "04eeba69",
   "metadata": {
    "vscode": {
     "languageId": "shellscript"
    }
   },
   "outputs": [],
   "source": [
    "oc scale deployment/scorpiobroker --replicas 1\n",
    "oc wait pod -l app.kubernetes.io/instance=scorpiobroker --for=condition=Ready --timeout=5m"
   ]
  },
  {
   "cell_type": "code",
   "execution_count": null,
   "id": "8c95914a",
   "metadata": {
    "vscode": {
     "languageId": "shellscript"
    }
   },
   "outputs": [],
   "source": [
    "oc scale deployment/iotagent-json --replicas 1\n",
    "oc wait pod -l app.kubernetes.io/instance=iotagent-json --for=condition=Ready --timeout=5m"
   ]
  },
  {
   "cell_type": "code",
   "execution_count": null,
   "id": "f43d9d96",
   "metadata": {
    "vscode": {
     "languageId": "shellscript"
    }
   },
   "outputs": [],
   "source": [
    "oc scale statefulset/keycloak --replicas 1\n",
    "oc wait pod/keycloak-0 --for=condition=Ready --timeout=2m"
   ]
  },
  {
   "cell_type": "code",
   "execution_count": null,
   "id": "aa19a79f",
   "metadata": {
    "vscode": {
     "languageId": "shellscript"
    }
   },
   "outputs": [],
   "source": []
  }
 ],
 "metadata": {
  "kernelspec": {
   "display_name": "Bash",
   "language": "bash",
   "name": "bash"
  },
  "language_info": {
   "codemirror_mode": "shell",
   "file_extension": ".sh",
   "mimetype": "text/x-sh",
   "name": "bash"
  }
 },
 "nbformat": 4,
 "nbformat_minor": 5
}
