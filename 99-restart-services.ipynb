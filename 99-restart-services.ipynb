{
 "cells": [
  {
   "cell_type": "markdown",
   "id": "94d989af",
   "metadata": {},
   "source": [
    "# Cloud sandbox powered by FIWARE\n",
    "\n",
    "## About the open source GPL3 license and copyright for this product\n",
    "\n",
    "Copyright (c) 2024 Computate Limited Liability Company in Utah, USA\n",
    "\n",
    "This program is free software: you can redistribute it and/or modify\n",
    "it under the terms of the GNU General Public License as published by\n",
    "the Free Software Foundation, either version 3 of the License, or\n",
    "(at your option) any later version.\n",
    "\n",
    "This program is distributed in the hope that it will be useful,\n",
    "but WITHOUT ANY WARRANTY; without even the implied warranty of\n",
    "MERCHANTABILITY or FITNESS FOR A PARTICULAR PURPOSE.  See the\n",
    "GNU General Public License for more details.\n",
    "\n",
    "You should have received a copy of the GNU General Public License\n",
    "along with this program.  If not, see <https://www.gnu.org/licenses/>.\n",
    "\n",
    "ADDITIONAL TERMS\n",
    "\n",
    "As stated in section 7. c) and e) of the GPL3 license, \n",
    "\"you may supplement the terms of this License with terms,\" \n",
    "Computate has added the following additional terms to the license: \n",
    "\n",
    "  7 c) Prohibiting misrepresentation of the origin of that material, and\n",
    "    requiring that modified versions of such material be marked in\n",
    "    reasonable ways as different from the original version;\n",
    "\n",
    "  7 e) Declining to grant rights under trademark law for use of some\n",
    "    trade names, trademarks, or service marks;\n",
    "\n",
    "Please do not redistribute this course until you have built your own platform with these tools, \n",
    "separate from the computate.org platform, and reconfigure your fork of this repo to deploy \n",
    "your own platform instead of the computate.org platform. \n",
    "\n",
    "QUESTIONS\n",
    "\n",
    "For questions about this open source license, please contact our public mailing list at computate@group.computate.org\n"
   ]
  },
  {
   "cell_type": "markdown",
   "id": "79fee141",
   "metadata": {
    "tags": []
   },
   "source": [
    "## Switch to the Python 3.9 Kernel\n",
    "\n",
    "When opening this Jupyter Notebook in VSCode, you will need to switch to the Jupyter 3.9 Kernel. "
   ]
  },
  {
   "cell_type": "markdown",
   "id": "aa526b8f-28a0-4b08-b377-e3890f84c1bf",
   "metadata": {},
   "source": [
    "## Install prerequites"
   ]
  },
  {
   "cell_type": "markdown",
   "id": "55339230-525b-45c0-a8be-87c94219758c",
   "metadata": {},
   "source": [
    "## Install python, ansible, jupyter dependencies in OpenShift AI Workbench\n",
    "\n",
    "Something to note about the free OpenShift Developer Sandbox is that it will shut itself down each night \n",
    "by scaling all Deployments and StatefulSets to 0 replicas each night. \n",
    "This means that your OpenShift AI Workbench will turn off and forget the python dependencies that were installed in [00-install-python-ansible-jupyter.md]. \n",
    "You will need to rerun these commands after starting your workbench each day. "
   ]
  },
  {
   "cell_type": "markdown",
   "id": "b6928515-4ba1-40bb-b3ee-7ff47899b0d0",
   "metadata": {},
   "source": [
    "\n",
    "## Download helm\n",
    "- The helm command is used to deploy helm charts like MongoDB and RabbitMQ. Run the command below to download a compressed file containing the helm binaries to the `/tmp` directory. \n",
    "- Then check the size and permissions of the downloaded file. "
   ]
  },
  {
   "cell_type": "code",
   "execution_count": null,
   "id": "6d51f5c0-9e41-4e5b-b4aa-316edd61ba10",
   "metadata": {
    "vscode": {
     "languageId": "python"
    }
   },
   "outputs": [],
   "source": [
    "%%bash\n",
    "curl https://get.helm.sh/helm-v3.13.2-linux-amd64.tar.gz -o /tmp/helm-v3.13.2-linux-amd64.tar.gz\n",
    "ls -lh /tmp/helm-v3.13.2-linux-amd64.tar.gz\n",
    "echo DONE"
   ]
  },
  {
   "cell_type": "markdown",
   "id": "72561f50-f76a-46a6-819e-f2e94be71041",
   "metadata": {},
   "source": [
    "# Make user local bin directory and user local optional helm directory\n",
    "- Make two new user directories. One for for storing local binary executable files, and one to store the helm application. \n",
    "- Then check that the two directories exist. "
   ]
  },
  {
   "cell_type": "code",
   "execution_count": null,
   "id": "01c1d05b-707c-429c-a9a7-d6dc48fabff9",
   "metadata": {
    "vscode": {
     "languageId": "python"
    }
   },
   "outputs": [],
   "source": [
    "%%bash\n",
    "mkdir -p ~/.local/bin/ ~/.local/opt/helm/\n",
    "ls -ld ~/.local/bin/ ~/.local/opt/helm/\n",
    "echo DONE"
   ]
  },
  {
   "cell_type": "markdown",
   "id": "3ec5973f-1b8e-4748-bf68-5636c4bad39e",
   "metadata": {},
   "source": [
    "## Extract the helm binary\n",
    "- Extract the contents of the helm compressed file to the helm directory for optional local user applications. \n",
    "- Check that the helm executable, license, and readme are all extracted in the right directory. "
   ]
  },
  {
   "cell_type": "code",
   "execution_count": null,
   "id": "7b7d5e10-4703-4a36-85ff-eefc2b43c711",
   "metadata": {
    "vscode": {
     "languageId": "python"
    }
   },
   "outputs": [],
   "source": [
    "%%bash\n",
    "tar xvf /tmp/helm-v3.13.2-linux-amd64.tar.gz --strip-components=1 -C ~/.local/opt/helm/\n",
    "ls -l ~/.local/opt/helm/\n",
    "echo DONE"
   ]
  },
  {
   "cell_type": "markdown",
   "id": "115d1884-1449-421b-a8bf-63778271a9ee",
   "metadata": {},
   "source": [
    "## Copy the helm binary into the $PATH\n",
    "- Copy the `helm` binary from the user local optional helm application directory to the user local bin directory. \n",
    "- Check with the `which` command that the `helm` binary is available in the `$PATH` to be run in the terminal. "
   ]
  },
  {
   "cell_type": "code",
   "execution_count": null,
   "id": "88969880-024b-4c02-b766-8e531366177f",
   "metadata": {
    "vscode": {
     "languageId": "python"
    }
   },
   "outputs": [],
   "source": [
    "%%bash\n",
    "cp ~/.local/opt/helm/helm ~/.local/bin/\n",
    "which helm\n",
    "echo DONE"
   ]
  },
  {
   "cell_type": "markdown",
   "id": "50823ba8-268c-4c94-bcd0-3dcbefb2c64f",
   "metadata": {},
   "source": [
    "# Install prerequisite Ansible automation tools\n",
    "\n",
    "## Install prerequisite Python packages for Ansible\n",
    "\n",
    "Whenever I install Ansible, I find there are some required Python dependencies. Install the `setuptools_rust` and `wheel` Python dependencies below. "
   ]
  },
  {
   "cell_type": "code",
   "execution_count": null,
   "id": "25f62f6c-5107-48af-97eb-241fb200e58f",
   "metadata": {
    "vscode": {
     "languageId": "python"
    }
   },
   "outputs": [],
   "source": [
    "%%bash\n",
    "pip install setuptools_rust wheel\n",
    "echo DONE"
   ]
  },
  {
   "cell_type": "markdown",
   "id": "8658983d-39d2-441f-bddb-b815e0095258",
   "metadata": {},
   "source": [
    "## Upgrade pip the python package manager\n",
    "\n",
    "Next upgrade pip, the python package manager for the latest python package support. "
   ]
  },
  {
   "cell_type": "code",
   "execution_count": null,
   "id": "d4789f83-28c2-4479-8029-915287605ad9",
   "metadata": {
    "vscode": {
     "languageId": "python"
    }
   },
   "outputs": [],
   "source": [
    "%%bash\n",
    "pip install --upgrade pip\n",
    "echo DONE"
   ]
  },
  {
   "cell_type": "markdown",
   "id": "1976478b-216b-487c-86bd-fdca1401a015",
   "metadata": {},
   "source": [
    "## Install Ansible automation tools\n",
    "Ansible is the enterprise open source standard tool for automating everything on the computer. In my opinion, if you are automating your computers and cloud environments without Ansible, you are doing it wrong. Install the latest ansible software with python pip, as well as other important python dependencies like `kubernetes`, `openshift`, and `jmespath` which are required to automate OpenShift deployments. Then check that the `ansible-playbook` command is available to run. "
   ]
  },
  {
   "cell_type": "code",
   "execution_count": null,
   "id": "024b171d-624a-428a-a369-85075e94dc76",
   "metadata": {
    "vscode": {
     "languageId": "python"
    }
   },
   "outputs": [],
   "source": [
    "%%bash\n",
    "pip install ansible kubernetes openshift jmespath pika --upgrade\n",
    "ansible-galaxy collection install kubernetes.core\n",
    "which ansible-playbook\n",
    "echo DONE"
   ]
  },
  {
   "cell_type": "markdown",
   "id": "65265535-f5ab-4801-8fee-6f5d6dbf2b67",
   "metadata": {},
   "source": [
    "## Install jq command\n",
    "\n",
    "The jq command can take JSON output from the command line and query specific values inside the JSON data. "
   ]
  },
  {
   "cell_type": "code",
   "execution_count": null,
   "id": "05982566-b101-4871-aecc-b70582ab8233",
   "metadata": {
    "vscode": {
     "languageId": "python"
    }
   },
   "outputs": [],
   "source": [
    "%%bash\n",
    "curl -L https://github.com/jqlang/jq/releases/download/jq-1.7.1/jq-linux-amd64 -o ~/.local/bin/jq\n",
    "chmod +x ~/.local/bin/jq\n",
    "echo DONE"
   ]
  },
  {
   "cell_type": "markdown",
   "id": "fc44ae6a",
   "metadata": {},
   "source": [
    "## Restart all the microservices\n",
    "\n",
    "Restart all the microservices by setting the replicas from 0 to 1 after being shut down. \n"
   ]
  },
  {
   "cell_type": "code",
   "execution_count": null,
   "id": "a3d68b82-e612-4147-a4bd-f4ca0c7cfd05",
   "metadata": {
    "vscode": {
     "languageId": "shellscript"
    }
   },
   "outputs": [],
   "source": [
    "%%bash\n",
    "oc scale statefulset/zookeeper --replicas 1\n",
    "oc wait pod -l app.kubernetes.io/name=zookeeper --for=condition=Ready --timeout=5m\n",
    "echo DONE"
   ]
  },
  {
   "cell_type": "code",
   "execution_count": null,
   "id": "db4e177f",
   "metadata": {
    "vscode": {
     "languageId": "shellscript"
    }
   },
   "outputs": [],
   "source": [
    "%%bash\n",
    "oc scale statefulset/solr --replicas 1\n",
    "oc wait pod -l app.kubernetes.io/name=solr --for=condition=Ready --timeout=5m\n",
    "echo DONE"
   ]
  },
  {
   "cell_type": "code",
   "execution_count": null,
   "id": "e17b608c",
   "metadata": {
    "vscode": {
     "languageId": "shellscript"
    }
   },
   "outputs": [],
   "source": [
    "%%bash\n",
    "oc scale statefulset/postgresql --replicas 1\n",
    "oc wait pod -l app.kubernetes.io/name=postgresql --for=condition=Ready --timeout=5m\n",
    "echo DONE"
   ]
  },
  {
   "cell_type": "code",
   "execution_count": null,
   "id": "c275c58a",
   "metadata": {
    "vscode": {
     "languageId": "shellscript"
    }
   },
   "outputs": [],
   "source": [
    "%%bash\n",
    "oc scale deployment/mongodb --replicas 1\n",
    "oc wait pod -l app.kubernetes.io/instance=mongodb --for=condition=Ready --timeout=5m\n",
    "echo DONE"
   ]
  },
  {
   "cell_type": "code",
   "execution_count": null,
   "id": "38a05b47",
   "metadata": {
    "vscode": {
     "languageId": "shellscript"
    }
   },
   "outputs": [],
   "source": [
    "%%bash\n",
    "oc scale statefulset/rabbitmq --replicas 1\n",
    "oc wait pod -l app.kubernetes.io/instance=rabbitmq --for=condition=Ready --timeout=5m\n",
    "echo DONE"
   ]
  },
  {
   "cell_type": "code",
   "execution_count": null,
   "id": "04eeba69",
   "metadata": {
    "vscode": {
     "languageId": "shellscript"
    }
   },
   "outputs": [],
   "source": [
    "%%bash\n",
    "oc scale deployment/scorpiobroker --replicas 1\n",
    "oc wait pod -l app.kubernetes.io/instance=scorpiobroker --for=condition=Ready --timeout=5m\n",
    "echo DONE"
   ]
  },
  {
   "cell_type": "code",
   "execution_count": null,
   "id": "8c95914a",
   "metadata": {
    "vscode": {
     "languageId": "shellscript"
    }
   },
   "outputs": [],
   "source": [
    "%%bash\n",
    "oc scale deployment/iotagent-json --replicas 1\n",
    "oc wait pod -l app.kubernetes.io/instance=iotagent-json --for=condition=Ready --timeout=5m\n",
    "echo DONE"
   ]
  },
  {
   "cell_type": "code",
   "execution_count": null,
   "id": "f43d9d96",
   "metadata": {
    "vscode": {
     "languageId": "shellscript"
    }
   },
   "outputs": [],
   "source": [
    "%%bash\n",
    "oc scale statefulset/keycloak --replicas 1\n",
    "oc wait pod/keycloak-0 --for=condition=Ready --timeout=2m\n",
    "echo DONE"
   ]
  },
  {
   "cell_type": "code",
   "execution_count": null,
   "id": "2f4bb60c-2fc1-409a-9887-10c7dc5d5e8b",
   "metadata": {
    "vscode": {
     "languageId": "shellscript"
    }
   },
   "outputs": [],
   "source": [
    "%%bash\n",
    "oc scale deployment/computateorg --replicas 1\n",
    "oc wait pod -l app=computateorg --for=condition=Ready --timeout=5m\n",
    "echo DONE"
   ]
  },
  {
   "cell_type": "code",
   "execution_count": null,
   "id": "aa19a79f",
   "metadata": {
    "vscode": {
     "languageId": "shellscript"
    }
   },
   "outputs": [],
   "source": []
  }
 ],
 "metadata": {
  "kernelspec": {
   "display_name": "Python 3.9",
   "language": "python",
   "name": "python3"
  },
  "language_info": {
   "codemirror_mode": {
    "name": "ipython",
    "version": 3
   },
   "file_extension": ".py",
   "mimetype": "text/x-python",
   "name": "python",
   "nbconvert_exporter": "python",
   "pygments_lexer": "ipython3",
   "version": "3.9.16"
  }
 },
 "nbformat": 4,
 "nbformat_minor": 5
}
