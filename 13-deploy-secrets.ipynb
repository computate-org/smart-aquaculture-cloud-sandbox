{
 "cells": [
  {
   "cell_type": "markdown",
   "metadata": {},
   "source": [
    "# Cloud sandbox powered by FIWARE\n",
    "\n",
    "## About the open source GPL3 license and copyright for this product\n",
    "\n",
    "Copyright (c) 2024 Computate Limited Liability Company in Utah, USA\n",
    "\n",
    "This program is free software: you can redistribute it and/or modify\n",
    "it under the terms of the GNU General Public License as published by\n",
    "the Free Software Foundation, either version 3 of the License, or\n",
    "(at your option) any later version.\n",
    "\n",
    "This program is distributed in the hope that it will be useful,\n",
    "but WITHOUT ANY WARRANTY; without even the implied warranty of\n",
    "MERCHANTABILITY or FITNESS FOR A PARTICULAR PURPOSE.  See the\n",
    "GNU General Public License for more details.\n",
    "\n",
    "You should have received a copy of the GNU General Public License\n",
    "along with this program.  If not, see <https://www.gnu.org/licenses/>.\n",
    "\n",
    "ADDITIONAL TERMS\n",
    "\n",
    "As stated in section 7. c) and e) of the GPL3 license, \n",
    "\"you may supplement the terms of this License with terms,\" \n",
    "Computate has added the following additional terms to the license: \n",
    "\n",
    "  7 c) Prohibiting misrepresentation of the origin of that material, and\n",
    "    requiring that modified versions of such material be marked in\n",
    "    reasonable ways as different from the original version;\n",
    "\n",
    "  7 e) Declining to grant rights under trademark law for use of some\n",
    "    trade names, trademarks, or service marks;\n",
    "\n",
    "Please do not redistribute this course until you have built your own platform with these tools, \n",
    "separate from the computate.org platform, and reconfigure your fork of this repo to deploy \n",
    "your own platform instead of the computate.org platform. \n",
    "\n",
    "QUESTIONS\n",
    "\n",
    "For questions about this open source license, please contact our public mailing list at computate@group.computate.org\n"
   ]
  },
  {
   "cell_type": "markdown",
   "metadata": {},
   "source": [
    "## Switch to the Python 3.9 Kernel\n",
    "\n",
    "When opening this Jupyter Notebook in VSCode, you will need to switch to the Jupyter 3.9 Kernel. "
   ]
  },
  {
   "cell_type": "markdown",
   "metadata": {},
   "source": [
    "# Deploy secrets"
   ]
  },
  {
   "cell_type": "markdown",
   "metadata": {},
   "source": [
    "## Zookeeper configuration\n",
    "\n",
    "Create a secret for connecting to Zookeeper. "
   ]
  },
  {
   "cell_type": "code",
   "execution_count": null,
   "metadata": {
    "tags": [],
    "vscode": {
     "languageId": "shellscript"
    }
   },
   "outputs": [],
   "source": [
    "%%bash\n",
    "eval $(env SITE_NAMESPACE=\"$(oc project -q)\" ./vars.py)\n",
    "cat <<EOF | oc apply -f -\n",
    "apiVersion: v1\n",
    "kind: Secret\n",
    "metadata:\n",
    "  name: $SITE_SHORT_NAME-zookeeper\n",
    "type: Opaque\n",
    "stringData:\n",
    "  ENABLE_ZOOKEEPER_CLUSTER: \"true\"\n",
    "  ZOOKEEPER_HOST_NAME: \"$ZOOKEEPER_HOST_NAME\"\n",
    "  ZOOKEEPER_PORT: \"$ZOOKEEPER_PORT\"\n",
    "  ZOOKEEPER_MAX_RETRIES: \"$ZOOKEEPER_MAX_RETRIES\"\n",
    "  ZOOKEEPER_BASE_SLEEP_TIME_MILLIS: \"$ZOOKEEPER_BASE_SLEEP_TIME_MILLIS\"\n",
    "  ZOOKEEPER_MAX_SLEEP_MILLIS: \"$ZOOKEEPER_MAX_SLEEP_MILLIS\"\n",
    "  ZOOKEEPER_CONNECTION_TIMEOUT_MILLIS: \"$ZOOKEEPER_CONNECTION_TIMEOUT_MILLIS\"\n",
    "  ZOOKEEPER_SESSION_TIMEOUT_MILLIS: \"$ZOOKEEPER_SESSION_TIMEOUT_MILLIS\"\n",
    "  CLUSTER_PUBLIC_PORT: \"$CLUSTER_PUBLIC_PORT\"\n",
    "EOF\n",
    "oc extract secret/$SITE_SHORT_NAME-zookeeper --to=-\n",
    "echo DONE"
   ]
  },
  {
   "cell_type": "markdown",
   "metadata": {},
   "source": [
    "## Solr configuration\n",
    "\n",
    "Create a secret for connecting to Solr. "
   ]
  },
  {
   "cell_type": "code",
   "execution_count": null,
   "metadata": {
    "tags": [],
    "vscode": {
     "languageId": "shellscript"
    }
   },
   "outputs": [],
   "source": [
    "%%bash\n",
    "eval $(env SITE_NAMESPACE=\"$(oc project -q)\" ./vars.py)\n",
    "cat <<EOF | oc apply -f -\n",
    "apiVersion: v1\n",
    "kind: Secret\n",
    "metadata:\n",
    "  name: $SITE_SHORT_NAME-solr\n",
    "type: Opaque\n",
    "stringData:\n",
    "  SOLR_SSL: \"false\"\n",
    "  SOLR_HOST_NAME: \"solr\"\n",
    "  SOLR_PORT: \"8983\"\n",
    "  SOLR_COLLECTION: \"$SOLR_COLLECTION\"\n",
    "  SOLR_USERNAME: \"$SOLR_USERNAME\"\n",
    "  SOLR_PASSWORD: \"$SOLR_PASSWORD\"\n",
    "EOF\n",
    "oc extract secret/$SITE_SHORT_NAME-solr --to=-\n",
    "echo DONE"
   ]
  },
  {
   "cell_type": "markdown",
   "metadata": {},
   "source": [
    "## Database configuration\n",
    "\n",
    "Create a secret for connecting to the database. "
   ]
  },
  {
   "cell_type": "code",
   "execution_count": null,
   "metadata": {
    "tags": [],
    "vscode": {
     "languageId": "shellscript"
    }
   },
   "outputs": [],
   "source": [
    "%%bash\n",
    "eval $(env SITE_NAMESPACE=\"$(oc project -q)\" ./vars.py)\n",
    "cat <<EOF | oc apply -f -\n",
    "apiVersion: v1\n",
    "kind: Secret\n",
    "metadata:\n",
    "  name: $SITE_SHORT_NAME-database\n",
    "type: Opaque\n",
    "stringData:\n",
    "  ENABLE_DATABASE: \"$ENABLE_DATABASE\"\n",
    "  DATABASE_HOST_NAME: \"$DATABASE_HOST_NAME\"\n",
    "  DATABASE_PORT: \"$DATABASE_PORT\"\n",
    "  DATABASE_USERNAME: \"$DATABASE_USERNAME\"\n",
    "  DATABASE_PASSWORD: \"$DATABASE_PASSWORD\"\n",
    "  DATABASE_DATABASE: \"$DATABASE_DATABASE\"\n",
    "EOF\n",
    "oc extract secret/$SITE_SHORT_NAME-database --to=-\n",
    "echo DONE"
   ]
  },
  {
   "cell_type": "markdown",
   "metadata": {},
   "source": [
    "## Auth configuration\n",
    "\n",
    "Create a secret for authentication with Keycloak. "
   ]
  },
  {
   "cell_type": "code",
   "execution_count": null,
   "metadata": {
    "tags": [],
    "vscode": {
     "languageId": "shellscript"
    }
   },
   "outputs": [],
   "source": [
    "%%bash\n",
    "eval $(env SITE_NAMESPACE=\"$(oc project -q)\" ./vars.py)\n",
    "cat <<EOF | oc apply -f -\n",
    "apiVersion: v1\n",
    "kind: Secret\n",
    "metadata:\n",
    "  name: $SITE_SHORT_NAME-auth\n",
    "type: Opaque\n",
    "stringData:\n",
    "  AUTH_HOST_NAME: \"$AUTH_HOST_NAME\"\n",
    "  AUTH_PORT: \"$AUTH_PORT\"\n",
    "  AUTH_SSL: \"$AUTH_SSL\"\n",
    "  AUTH_SSL_REQUIRED: \"$AUTH_SSL_REQUIRED\"\n",
    "  AUTH_REALM: \"$AUTH_REALM\"\n",
    "  AUTH_CLIENT: \"$AUTH_CLIENT\"\n",
    "  AUTH_SECRET: \"$AUTH_SECRET\"\n",
    "  AUTH_ADMIN_USERNAME: \"$AUTH_ADMIN_USERNAME\"\n",
    "  AUTH_ADMIN_PASSWORD: \"$AUTH_ADMIN_PASSWORD\"\n",
    "  AUTH_URL: \"$AUTH_URL\"\n",
    "  AUTH_TOKEN_URI: \"$AUTH_TOKEN_URI\"\n",
    "  AUTH_OPEN_API_ID: \"$AUTH_OPEN_API_ID\"\n",
    "  AUTH_CALLBACK_URI: \"$AUTH_CALLBACK_URI\"\n",
    "  AUTH_LOGOUT_URI: \"$AUTH_LOGOUT_URI\"\n",
    "  AUTH_SCOPE_ADMIN: \"$AUTH_SCOPE_ADMIN\"\n",
    "  AUTH_SCOPE_SUPER_ADMIN: \"$AUTH_SCOPE_SUPER_ADMIN\"\n",
    "  AUTH_FINE_GRAINED_POLICY_PERMISSIONS: \"$AUTH_FINE_GRAINED_POLICY_PERMISSIONS\"\n",
    "EOF\n",
    "oc extract secret/$SITE_SHORT_NAME-auth --to=-\n",
    "echo DONE"
   ]
  },
  {
   "cell_type": "markdown",
   "metadata": {},
   "source": [
    "## RabbitMQ configuration\n",
    "\n",
    "Create a secret for connecting to the RabbitMQ broker. "
   ]
  },
  {
   "cell_type": "code",
   "execution_count": null,
   "metadata": {
    "tags": [],
    "vscode": {
     "languageId": "shellscript"
    }
   },
   "outputs": [],
   "source": [
    "%%bash\n",
    "eval $(env SITE_NAMESPACE=\"$(oc project -q)\" ./vars.py)\n",
    "cat <<EOF | oc apply -f -\n",
    "apiVersion: v1\n",
    "kind: Secret\n",
    "metadata:\n",
    "  name: $SITE_SHORT_NAME-rabbitmq\n",
    "type: Opaque\n",
    "stringData:\n",
    "  ENABLE_RABBITMQ: \"$ENABLE_RABBITMQ\"\n",
    "  RABBITMQ_PORT: \"$RABBITMQ_PORT\"\n",
    "  RABBITMQ_HOST_NAME: \"$RABBITMQ_HOST_NAME\"\n",
    "  RABBITMQ_USERNAME: \"$RABBITMQ_USERNAME\"\n",
    "  RABBITMQ_PASSWORD: \"$RABBITMQ_PASSWORD\"\n",
    "  RABBITMQ_VIRTUAL_HOST: \"$RABBITMQ_VIRTUAL_HOST\"\n",
    "EOF\n",
    "oc extract secret/$SITE_SHORT_NAME-rabbitmq --to=-\n",
    "echo DONE"
   ]
  },
  {
   "cell_type": "markdown",
   "metadata": {},
   "source": [
    "## Context Broker configuration\n",
    "\n",
    "Create a secret for connecting to the FIWARE Context Broker. "
   ]
  },
  {
   "cell_type": "code",
   "execution_count": null,
   "metadata": {
    "tags": [],
    "vscode": {
     "languageId": "shellscript"
    }
   },
   "outputs": [],
   "source": [
    "%%bash\n",
    "eval $(env SITE_NAMESPACE=\"$(oc project -q)\" ./vars.py)\n",
    "cat <<EOF | oc apply -f -\n",
    "apiVersion: v1\n",
    "kind: Secret\n",
    "metadata:\n",
    "  name: $SITE_SHORT_NAME-context-broker\n",
    "type: Opaque\n",
    "stringData:\n",
    "  CONTEXT_BROKER_SSL: \"$CONTEXT_BROKER_SSL\"\n",
    "  CONTEXT_BROKER_HOST_NAME: \"$CONTEXT_BROKER_HOST_NAME\"\n",
    "  CONTEXT_BROKER_PORT: \"$CONTEXT_BROKER_PORT\"\n",
    "EOF\n",
    "oc extract secret/$SITE_SHORT_NAME-context-broker --to=-\n",
    "echo DONE"
   ]
  },
  {
   "cell_type": "markdown",
   "metadata": {},
   "source": [
    "## Site configuration\n",
    "\n",
    "Create a secret for the site configuration. "
   ]
  },
  {
   "cell_type": "code",
   "execution_count": null,
   "metadata": {
    "vscode": {
     "languageId": "shellscript"
    }
   },
   "outputs": [],
   "source": [
    "%%bash\n",
    "eval $(env SITE_NAMESPACE=\"$(oc project -q)\" ./vars.py)\n",
    "cat <<EOF | oc apply -f -\n",
    "apiVersion: v1\n",
    "kind: Secret\n",
    "metadata:\n",
    "  name: $SITE_SHORT_NAME-site\n",
    "type: Opaque\n",
    "stringData:\n",
    "  CONTEXT_BROKER_SSL: \"$CONTEXT_BROKER_SSL\"\n",
    "  CONTEXT_BROKER_HOST_NAME: \"$CONTEXT_BROKER_HOST_NAME\"\n",
    "  CONTEXT_BROKER_PORT: \"$CONTEXT_BROKER_PORT\"\n",
    "  SITE_ZONE: \"$SITE_ZONE\"\n",
    "  SITE_LOCALE: \"$SITE_LOCALE\"\n",
    "  SITE_PORT: \"$SITE_PORT\"\n",
    "  SITE_NAME: \"$SITE_NAME\"\n",
    "  SITE_HOST_NAME: \"$SITE_SHORT_NAME-$OPENSHIFT_AI_WORKBENCH.$OPENSHIFT_APPS_DOMAIN\"\n",
    "  SITE_BASE_URL: \"https://$SITE_SHORT_NAME-$OPENSHIFT_AI_WORKBENCH.$OPENSHIFT_APPS_DOMAIN\"\n",
    "  SITE_PUBLIC_URL: \"https://$SITE_SHORT_NAME-$OPENSHIFT_AI_WORKBENCH.$OPENSHIFT_APPS_DOMAIN\"\n",
    "  CLUSTER_PORT: \"$CLUSTER_PORT\"\n",
    "  CLUSTER_PUBLIC_PORT: \"$CLUSTER_PUBLIC_PORT\"\n",
    "  SSL_VERIFY: \"$SSL_VERIFY\"\n",
    "  SITE_INSTANCES: \"$SITE_INSTANCES\"\n",
    "  WORKER_POOL_SIZE: \"$WORKER_POOL_SIZE\"\n",
    "  VERTX_MAX_EVENT_LOOP_EXECUTE_TIME: \"$VERTX_MAX_EVENT_LOOP_EXECUTE_TIME\"\n",
    "  VERTX_MAX_WORKER_EXECUTE_TIME: \"$VERTX_MAX_WORKER_EXECUTE_TIME\"\n",
    "  VERTX_WARNING_EXCEPTION_SECONDS: \"$VERTX_WARNING_EXCEPTION_SECONDS\"\n",
    "  NUMBER_EXECUTORS: \"$NUMBER_EXECUTORS\"\n",
    "  GITHUB_ORG: \"$GITHUB_ORG\"\n",
    "  SITE_STATIC_NAME: \"$SITE_STATIC_NAME\"\n",
    "  SITE_STATIC_REPO: \"$SITE_STATIC_REPO\"\n",
    "  STATIC_PATH: \"/home/default/smart-aquaculture-static/webawesome\"\n",
    "  STATIC_BASE_URL: \"https://$SITE_SHORT_NAME-$OPENSHIFT_AI_WORKBENCH.$OPENSHIFT_APPS_DOMAIN/static\"\n",
    "  SITE_LOGO_URI: \"$SITE_LOGO_URI\"\n",
    "  TEMPLATE_PATH: \"/home/default/$SITE_NAME-static/webawesome/templates\"\n",
    "  FONTAWESOME_KIT: '$FONTAWESOME_KIT'\n",
    "  FONTAWESOME_STYLE: '$FONTAWESOME_STYLE'\n",
    "  WEB_COMPONENTS_PREFIX: '$WEB_COMPONENTS_PREFIX'\n",
    "  WEB_COMPONENTS_CSS: '$WEB_COMPONENTS_CSS'\n",
    "  WEB_COMPONENTS_JS: '$WEB_COMPONENTS_JS'\n",
    "  SITE_THEME: '$SITE_THEME'\n",
    "  SITE_POWERED_BY_NAME: \"Red Hat Developer Sandbox\"\n",
    "  SITE_POWERED_BY_URL: \"https://developers.redhat.com/developer-sandbox\"\n",
    "  SITE_POWERED_BY_IMAGE_URI: \"/svg/openshift.svg\"\n",
    "  DEFAULT_MAP_LOCATION: '$DEFAULT_MAP_LOCATION'\n",
    "  DEFAULT_MAP_ZOOM: \"$DEFAULT_MAP_ZOOM\"\n",
    "  ENABLE_IMPORT_DATA: \"$ENABLE_IMPORT_DATA\"\n",
    "  PUBLIC_SEARCH_URI: \"/search\"\n",
    "  USER_SEARCH_URI: \"/user-search\"\n",
    "EOF\n",
    "oc extract secret/$SITE_SHORT_NAME-context-broker --to=-\n",
    "echo DONE"
   ]
  },
  {
   "cell_type": "markdown",
   "metadata": {},
   "source": [
    "## Next...\n",
    "If you have successfully ran all of the commands above, congratulations, you are ready to move on to the next notebook in the course. \n",
    "\n",
    "- If you have additional questions or issues, please [create an issue for the course here](https://github.com/computate-org/smart-aquaculture-cloud-sandbox/issues). \n",
    "- Otherwise, please continue to the next document [14-create-auth-permissions.ipynb](14-create-auth-permissions.ipynb). \n"
   ]
  }
 ],
 "metadata": {
  "kernelspec": {
   "display_name": "usr",
   "language": "python",
   "name": "python3"
  },
  "language_info": {
   "codemirror_mode": {
    "name": "ipython",
    "version": 3
   },
   "file_extension": ".py",
   "mimetype": "text/x-python",
   "name": "python",
   "nbconvert_exporter": "python",
   "pygments_lexer": "ipython3",
   "version": "3.9.18"
  }
 },
 "nbformat": 4,
 "nbformat_minor": 4
}
