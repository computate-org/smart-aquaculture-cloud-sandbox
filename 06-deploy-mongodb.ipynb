{
 "cells": [
  {
   "cell_type": "markdown",
   "id": "b80b42e4",
   "metadata": {},
   "source": [
    "# Cloud sandbox powered by FIWARE\n",
    "\n",
    "## About the open source GPL3 license and copyright for this product\n",
    "\n",
    "Copyright (c) 2024 Computate Limited Liability Company in Utah, USA\n",
    "\n",
    "This program is free software: you can redistribute it and/or modify\n",
    "it under the terms of the GNU General Public License as published by\n",
    "the Free Software Foundation, either version 3 of the License, or\n",
    "(at your option) any later version.\n",
    "\n",
    "This program is distributed in the hope that it will be useful,\n",
    "but WITHOUT ANY WARRANTY; without even the implied warranty of\n",
    "MERCHANTABILITY or FITNESS FOR A PARTICULAR PURPOSE.  See the\n",
    "GNU General Public License for more details.\n",
    "\n",
    "You should have received a copy of the GNU General Public License\n",
    "along with this program.  If not, see <https://www.gnu.org/licenses/>.\n",
    "\n",
    "ADDITIONAL TERMS\n",
    "\n",
    "As stated in section 7. c) and e) of the GPL3 license, \n",
    "\"you may supplement the terms of this License with terms,\" \n",
    "Computate has added the following additional terms to the license: \n",
    "\n",
    "  7 c) Prohibiting misrepresentation of the origin of that material, and\n",
    "    requiring that modified versions of such material be marked in\n",
    "    reasonable ways as different from the original version;\n",
    "\n",
    "  7 e) Declining to grant rights under trademark law for use of some\n",
    "    trade names, trademarks, or service marks;\n",
    "\n",
    "Please do not redistribute this course until you have built your own platform with these tools, \n",
    "separate from the computate.org platform, and reconfigure your fork of this repo to deploy \n",
    "your own platform instead of the computate.org platform. \n",
    "\n",
    "QUESTIONS\n",
    "\n",
    "For questions about this open source license, please contact our public mailing list at computate@group.computate.org\n"
   ]
  },
  {
   "cell_type": "markdown",
   "id": "410714f2",
   "metadata": {},
   "source": [
    "## Switch to the Python 3.9 Kernel\n",
    "\n",
    "When opening this Jupyter Notebook in VSCode, you will need to switch to the Jupyter 3.9 Kernel. "
   ]
  },
  {
   "cell_type": "markdown",
   "id": "151d88f7-121a-4827-a4aa-1e10e78283e6",
   "metadata": {},
   "source": [
    "# Deploy FIWARE and Smart Village microservices\n",
    "\n",
    "A working cloud project that is capable of receiving data from IoT smart devices and processing edge device data is composed of several important microservices. We will deploy each of the required microservices below to begin sending, receiving, and analyzing IoT edge device data. Then in later notebooks, we will review each microservice and how it works inside of the Smart Village Platform. "
   ]
  },
  {
   "cell_type": "markdown",
   "id": "0518244f-cf18-45c3-8ee1-3cbbecfba478",
   "metadata": {},
   "source": [
    "## Deploy the MongoDB NOSQL Database in the OpenShift Developer Sandbox\n",
    "\n",
    "A MongoDB No-SQL Database is required for FIWARE IoT Agents to store smart device registration data about each smart device in the project. "
   ]
  },
  {
   "cell_type": "markdown",
   "id": "1d8f9af9",
   "metadata": {},
   "source": [
    "Deploy MongoDB with helm. "
   ]
  },
  {
   "cell_type": "code",
   "execution_count": null,
   "id": "96d7921a",
   "metadata": {
    "vscode": {
     "languageId": "shellscript"
    }
   },
   "outputs": [],
   "source": [
    "%%bash\n",
    "helm upgrade --install mongodb oci://registry-1.docker.io/bitnamicharts/mongodb \\\n",
    " --set persistence.size=2Gi \\\n",
    " --set nameOverride=mongodb \\\n",
    " --set fullnameOverride=mongodb \\\n",
    " --set replicaCount=1 \\\n",
    " --set architecture=standalone \\\n",
    " --set podSecurityContext.enabled=false \\\n",
    " --set containerSecurityContext.enabled=false \\\n",
    " --set \"resources.limits.memory=1Gi\" \\\n",
    " --set \"resources.limits.cpu=1\" \\\n",
    " --set \"resources.requests.cpu=300m\" \\\n",
    " --set \"resources.requests.memory=300Mi\" \\\n",
    " --set persistence.enabled=true \\\n",
    " --set \"persistence.size=8Gi\" \\\n",
    " --set readinessProbe.timeoutSeconds=60 \\\n",
    " --set systemLogVerbosity=1 \\\n",
    " --set-json 'podLabels={\"marinera/platform\":\"fiware\", \"marinera/component\":\"core\", \"marinera/subcomponent\":\"persistence\", \"marinera/product\":\"mongodb\"}' \\\n",
    " --set metrics.enabled=true \\\n",
    " --set serviceMonitor.enabled=true \\\n",
    " --set arbiter.podSecurityContext.enabled=false \\\n",
    " --set arbiter.containerSecurityContext.enabled=false \\\n",
    " --set-json 'arbiter.podLabels={\"marinera/platform\":\"fiware\", \"marinera/component\":\"core\", \"marinera/subcomponent\":\"persistence\", \"marinera/product\":\"mongodb\"}' \\\n",
    " --set arbiter.readinessProbe.timeoutSeconds=60 \\\n",
    " --set \"arbiter.resources.limits.memory=1Gi\" \\\n",
    " --set \"arbiter.resources.limits.cpu=1\" \\\n",
    " --set \"arbiter.resources.requests.cpu=200m\" \\\n",
    " --set \"arbiter.resources.requests.memory=300Mi\"\n",
    "echo DONE"
   ]
  },
  {
   "cell_type": "markdown",
   "id": "9f05431d-cc70-4895-88a4-f0152c19686e",
   "metadata": {},
   "source": [
    "### View MongoDB pod details\n",
    "After deploying MongoDB with helm, it will take a minute before the MongoDB pod is up and running. Run the command below until the MongoDB pod health checks are `READY 2/2` and `STATUS Running`. "
   ]
  },
  {
   "cell_type": "code",
   "execution_count": null,
   "id": "ca249a7b-e7a5-44d1-bc61-a20fb2490ed5",
   "metadata": {
    "vscode": {
     "languageId": "shellscript"
    }
   },
   "outputs": [],
   "source": [
    "%%bash\n",
    "oc get pod -l app.kubernetes.io/instance=mongodb\n",
    "oc wait pod -l app.kubernetes.io/instance=mongodb --for=condition=Ready --timeout=5m\n",
    "oc get pod -l app.kubernetes.io/instance=mongodb\n",
    "echo DONE"
   ]
  },
  {
   "cell_type": "markdown",
   "id": "53216d81",
   "metadata": {},
   "source": [
    "### View MongoDB pod logs\n",
    "If your MongoDB pod does not reach the STATUS Running, you can run the command below to view the pod logs of MongoDB and check for other errors that may have occured. "
   ]
  },
  {
   "cell_type": "code",
   "execution_count": null,
   "id": "415fc4d1",
   "metadata": {
    "vscode": {
     "languageId": "shellscript"
    }
   },
   "outputs": [],
   "source": [
    "%%bash\n",
    "oc logs -l app.kubernetes.io/name=mongodb\n",
    "echo DONE"
   ]
  },
  {
   "cell_type": "markdown",
   "id": "28fc1530",
   "metadata": {},
   "source": [
    "## Next...\n",
    "If you have successfully ran all of the commands above, congratulations, you are ready to move on to the next notebook in the course. \n",
    "\n",
    "- If you have additional questions or issues, please [create an issue for the course here](https://github.com/computate-org/computate/issues). \n",
    "- Otherwise, please continue to the next document [07-deploy-rabbitmq.ipynb](07-deploy-rabbitmq.ipynb). \n"
   ]
  }
 ],
 "metadata": {
  "kernelspec": {
   "display_name": "Bash",
   "language": "bash",
   "name": "bash"
  },
  "language_info": {
   "codemirror_mode": "shell",
   "file_extension": ".sh",
   "mimetype": "text/x-sh",
   "name": "bash"
  }
 },
 "nbformat": 4,
 "nbformat_minor": 5
}
