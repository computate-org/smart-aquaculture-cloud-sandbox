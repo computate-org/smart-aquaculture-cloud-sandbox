{
 "cells": [
  {
   "cell_type": "markdown",
   "id": "52bdf497",
   "metadata": {},
   "source": [
    "# Cloud sandbox powered by FIWARE\n",
    "\n",
    "## About the open source GPL3 license and copyright for this product\n",
    "\n",
    "Copyright (c) 2024 Computate Limited Liability Company in Utah, USA\n",
    "\n",
    "This program is free software: you can redistribute it and/or modify\n",
    "it under the terms of the GNU General Public License as published by\n",
    "the Free Software Foundation, either version 3 of the License, or\n",
    "(at your option) any later version.\n",
    "\n",
    "This program is distributed in the hope that it will be useful,\n",
    "but WITHOUT ANY WARRANTY; without even the implied warranty of\n",
    "MERCHANTABILITY or FITNESS FOR A PARTICULAR PURPOSE.  See the\n",
    "GNU General Public License for more details.\n",
    "\n",
    "You should have received a copy of the GNU General Public License\n",
    "along with this program.  If not, see <https://www.gnu.org/licenses/>.\n",
    "\n",
    "ADDITIONAL TERMS\n",
    "\n",
    "As stated in section 7. c) and e) of the GPL3 license, \n",
    "\"you may supplement the terms of this License with terms,\" \n",
    "Computate has added the following additional terms to the license: \n",
    "\n",
    "  7 c) Prohibiting misrepresentation of the origin of that material, and\n",
    "    requiring that modified versions of such material be marked in\n",
    "    reasonable ways as different from the original version;\n",
    "\n",
    "  7 e) Declining to grant rights under trademark law for use of some\n",
    "    trade names, trademarks, or service marks;\n",
    "\n",
    "Please do not redistribute this course until you have built your own platform with these tools, \n",
    "separate from the computate.org platform, and reconfigure your fork of this repo to deploy \n",
    "your own platform instead of the computate.org platform. \n",
    "\n",
    "QUESTIONS\n",
    "\n",
    "For questions about this open source license, please contact our public mailing list at computate@group.computate.org\n"
   ]
  },
  {
   "cell_type": "markdown",
   "id": "20bd7548",
   "metadata": {},
   "source": [
    "## Switch to the Python 3.9 Kernel\n",
    "\n",
    "When opening this Jupyter Notebook in VSCode, you will need to switch to the Jupyter 3.9 Kernel. "
   ]
  },
  {
   "cell_type": "markdown",
   "id": "c81323e8",
   "metadata": {},
   "source": [
    "## About the PostgreSQL relational database\n",
    "\n",
    "> A SQL statement goes into a restaurant, walks up to two tables, and asks \"may I join you?\" One of the members at one of the tables responds, \"Are we related?\"\n",
    "\n",
    "A relational database like PostgreSQL is where live persistent data in an application belongs. \n",
    "\n",
    "PostgreSQL is the very best transactional database with support for ecological forecasting data because it handles geolocation, unstructured, and structured data with confidence and ACID compliance. \n",
    "ACID compliance is a set of database characteristics consisting of Atomicity, Consistency, Isolation, and Durability that ensure that database transactions are completed efficiently. \n"
   ]
  },
  {
   "cell_type": "markdown",
   "id": "1814347f-b17a-4f7c-ab67-75a531232d6e",
   "metadata": {},
   "source": [
    "## Deploy PostgreSQL with helm"
   ]
  },
  {
   "cell_type": "markdown",
   "id": "849b52c8",
   "metadata": {},
   "source": [
    "### Create postgres namespace\n",
    "\n",
    "Run the command below to create a `postgres` namespace. "
   ]
  },
  {
   "cell_type": "markdown",
   "id": "59a2109c",
   "metadata": {},
   "source": [
    "Run the commands below to install PostgreSQL relational database with helm. "
   ]
  },
  {
   "cell_type": "code",
   "execution_count": null,
   "id": "5721ad20-c855-40b2-8817-386085a460c1",
   "metadata": {
    "vscode": {
     "languageId": "shellscript"
    }
   },
   "outputs": [],
   "source": [
    "%%bash\n",
    "helm upgrade --install postgresql oci://registry-1.docker.io/bitnamicharts/postgresql \\\n",
    "  --set-json 'resources={\"requests\": {\"cpu\": \"200m\", \"memory\": \"500Mi\"}}' \\\n",
    "  --set image.tag=14.5.0 \\\n",
    "  --set primary.persistence.size=2Gi\n",
    "echo DONE"
   ]
  },
  {
   "cell_type": "markdown",
   "id": "1dda9e44",
   "metadata": {},
   "source": [
    "### View PostgreSQL pod details\n",
    "After deploying the Helm Chart, it will take a minute before the PostgreSQL pod is up and running. Run the command below until the PostgreSQL pod health checks are `READY 1/1` and `STATUS Running`. "
   ]
  },
  {
   "cell_type": "code",
   "execution_count": null,
   "id": "478e168d",
   "metadata": {
    "vscode": {
     "languageId": "shellscript"
    }
   },
   "outputs": [],
   "source": [
    "%%bash\n",
    "oc get pod -l app.kubernetes.io/name=postgresql\n",
    "oc wait pod -l app.kubernetes.io/name=postgresql --for=condition=Ready --timeout=5m\n",
    "oc get pod -l app.kubernetes.io/name=postgresql\n",
    "echo DONE"
   ]
  },
  {
   "cell_type": "markdown",
   "id": "9d78c5c4",
   "metadata": {},
   "source": [
    "### View PostgreSQL pod logs\n",
    "If your PostgreSQL pod does not reach the STATUS Running, you can run the command below to view the pod logs of PostgreSQL and check for other errors that may have occured. "
   ]
  },
  {
   "cell_type": "code",
   "execution_count": null,
   "id": "3304d956",
   "metadata": {
    "vscode": {
     "languageId": "shellscript"
    }
   },
   "outputs": [],
   "source": [
    "%%bash\n",
    "oc logs -l app.kubernetes.io/name=postgresql\n",
    "echo DONE"
   ]
  },
  {
   "cell_type": "markdown",
   "id": "933fa199",
   "metadata": {},
   "source": [
    "## Check the version of PostgreSQL deployed\n",
    "\n",
    "PostgreSQL is an open source project rolling out new stable versions of the database all the time. \n",
    "You can check on the image version of PostgreSQL by checking the `image` of the `StatefulSet/pecan-postgresql` below. "
   ]
  },
  {
   "cell_type": "code",
   "execution_count": null,
   "id": "c859961b-57fc-410a-b305-50f2b9d2d14f",
   "metadata": {
    "vscode": {
     "languageId": "shellscript"
    }
   },
   "outputs": [],
   "source": [
    "%%bash\n",
    "oc get statefulset/postgresql -o yaml | grep image:\n",
    "echo DONE"
   ]
  },
  {
   "cell_type": "markdown",
   "id": "8e796d1b",
   "metadata": {},
   "source": [
    "The image you discovered above can also be found in DockerHub here: \n",
    "\n",
    "https://hub.docker.com/layers/bitnami/postgresql/14.5.0/images/sha256-2092a1b0bed244fbfacea836da72a84bfa47a1e7b4f2b4a82dda28dc3065d6de?context=explore"
   ]
  },
  {
   "cell_type": "markdown",
   "id": "7e1db52e",
   "metadata": {},
   "source": [
    "## More information about deploying PostgreSQL\n",
    "\n",
    "To learn more about deploying PostgreSQL using the Bitnami Helm Chart see: \n",
    "\n",
    "https://artifacthub.io/packages/helm/bitnami/postgresql"
   ]
  },
  {
   "cell_type": "markdown",
   "id": "cab574c4",
   "metadata": {},
   "source": [
    "## Next...\n",
    "If you have successfully ran all of the commands above, congratulations, you are ready to move on to the next notebook in the course. \n",
    "\n",
    "- If you have additional questions or issues, please [create an issue for the course here](https://github.com/computate-org/smart-aquaculture-cloud-sandbox/issues). \n",
    "- Otherwise, please continue to the next document [06-deploy-mongodb.ipynb](06-deploy-mongodb.ipynb). \n"
   ]
  }
 ],
 "metadata": {
  "kernelspec": {
   "display_name": "Python 3.9",
   "language": "python",
   "name": "python3"
  },
  "language_info": {
   "codemirror_mode": {
    "name": "ipython",
    "version": 3
   },
   "file_extension": ".py",
   "mimetype": "text/x-python",
   "name": "python",
   "nbconvert_exporter": "python",
   "pygments_lexer": "ipython3",
   "version": "3.9.18"
  }
 },
 "nbformat": 4,
 "nbformat_minor": 5
}
