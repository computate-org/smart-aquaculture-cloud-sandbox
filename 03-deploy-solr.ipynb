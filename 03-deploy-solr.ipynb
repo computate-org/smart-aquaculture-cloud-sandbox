{
 "cells": [
  {
   "cell_type": "markdown",
   "metadata": {},
   "source": [
    "# Cloud sandbox powered by FIWARE\n",
    "\n",
    "## About the open source GPL3 license and copyright for this product\n",
    "\n",
    "Copyright (c) 2024 Computate Limited Liability Company in Utah, USA\n",
    "\n",
    "This program is free software: you can redistribute it and/or modify\n",
    "it under the terms of the GNU General Public License as published by\n",
    "the Free Software Foundation, either version 3 of the License, or\n",
    "(at your option) any later version.\n",
    "\n",
    "This program is distributed in the hope that it will be useful,\n",
    "but WITHOUT ANY WARRANTY; without even the implied warranty of\n",
    "MERCHANTABILITY or FITNESS FOR A PARTICULAR PURPOSE.  See the\n",
    "GNU General Public License for more details.\n",
    "\n",
    "You should have received a copy of the GNU General Public License\n",
    "along with this program.  If not, see <https://www.gnu.org/licenses/>.\n",
    "\n",
    "ADDITIONAL TERMS\n",
    "\n",
    "As stated in section 7. c) and e) of the GPL3 license, \n",
    "\"you may supplement the terms of this License with terms,\" \n",
    "Computate has added the following additional terms to the license: \n",
    "\n",
    "  7 c) Prohibiting misrepresentation of the origin of that material, and\n",
    "    requiring that modified versions of such material be marked in\n",
    "    reasonable ways as different from the original version;\n",
    "\n",
    "  7 e) Declining to grant rights under trademark law for use of some\n",
    "    trade names, trademarks, or service marks;\n",
    "\n",
    "Please do not redistribute this course until you have built your own platform with these tools, \n",
    "separate from the computate.org platform, and reconfigure your fork of this repo to deploy \n",
    "your own platform instead of the computate.org platform. \n",
    "\n",
    "QUESTIONS\n",
    "\n",
    "For questions about this open source license, please contact our public mailing list at computate@group.computate.org\n"
   ]
  },
  {
   "cell_type": "markdown",
   "metadata": {},
   "source": [
    "## Switch to the Python 3.9 Kernel\n",
    "\n",
    "When opening this Jupyter Notebook in VSCode, you will need to switch to the Jupyter 3.9 Kernel. "
   ]
  },
  {
   "cell_type": "markdown",
   "metadata": {},
   "source": [
    "## About the Apache Solr search engine\n",
    "\n",
    "> I asked my search engine for a good joke. It said, \"A man walked into a bar, tavern, pole, inn, stake, tap room, stick, pub, shaft, parlour, shank, watering hole, rail, cantina, beam, alehouse, spoke, or saloon... but most likely a bar, and said ouch.\" \n",
    "\n",
    "An open source search engine like Apache Solr is required by the Smart Village application API to serve up API stored objects as quickly as possible. APIs that are backed by a search engine have numerous additional benefits compared to an API backed by a traditional relational database. A search engine is always indexed for the fastest data retrieval possible. The advanced data and query parsing of a search engine allows for extremely fast full text search, filtering, and sorting of the data. Search engine data can also be grouped, faceted, and pivoted on, for an advanced set of analytics and statistics on specific data in your query. \n"
   ]
  },
  {
   "cell_type": "markdown",
   "metadata": {},
   "source": [
    "## Deploy Solr with Helm\n"
   ]
  },
  {
   "cell_type": "markdown",
   "metadata": {},
   "source": [
    "Run the command below to deploy the default computate Solr ConfigSet as a Kubernetes ConfigMap to the cloud. These configsets will be loaded later, when the Solr pod is running to initialize the Solr ConfigSet which is the schema you can use for Solr Collections in your site. "
   ]
  },
  {
   "cell_type": "markdown",
   "metadata": {},
   "source": [
    "Run the commands below to install solr with helm. "
   ]
  },
  {
   "cell_type": "code",
   "execution_count": null,
   "metadata": {
    "vscode": {
     "languageId": "shellscript"
    }
   },
   "outputs": [],
   "source": [
    "%%bash\n",
    "helm upgrade --install solr oci://registry-1.docker.io/bitnamicharts/solr \\\n",
    "  --set image.tag=9.6.1 \\\n",
    "  --set-json 'resources={\"requests\": {\"cpu\": \"200m\", \"memory\": \"500Mi\"}}' \\\n",
    "  --set ingress.enabled=false \\\n",
    "  --set zookeeper.enabled=false \\\n",
    "  --set externalZookeeper.servers={zookeeper:2181} \\\n",
    "  --set persistence.size=2Gi \\\n",
    "  --set collectionShards=1 \\\n",
    "  --set collectionReplicas=1 \\\n",
    "  --set replicaCount=1\n",
    "echo DONE"
   ]
  },
  {
   "cell_type": "markdown",
   "metadata": {},
   "source": [
    "### View solr pod details\n",
    "After deploying solr, it will take a minute before the solr pod is up and running. \n",
    "Run the command below until the solr pod health checks are `READY 1/1` and `STATUS Running`. "
   ]
  },
  {
   "cell_type": "markdown",
   "metadata": {},
   "source": [
    "### View solr pod details\n",
    "After deploying solr, it will take a minute before the solr pod is up and running. \n",
    "Run the command below until the solr pod health checks are `READY 1/1` and `STATUS Running`. "
   ]
  },
  {
   "cell_type": "code",
   "execution_count": null,
   "metadata": {
    "vscode": {
     "languageId": "shellscript"
    }
   },
   "outputs": [],
   "source": [
    "%%bash\n",
    "oc get pod -l app.kubernetes.io/name=solr\n",
    "oc wait pod -l app.kubernetes.io/name=solr --for=condition=Ready --timeout=5m\n",
    "oc get pod -l app.kubernetes.io/name=solr\n",
    "echo DONE"
   ]
  },
  {
   "cell_type": "markdown",
   "metadata": {},
   "source": [
    "## Upload default computate Solr configset\n",
    "A Solr configset is a data schema for a search engine. It specifies the exact fields and their data types that are available in the search engine to use."
   ]
  },
  {
   "cell_type": "code",
   "execution_count": null,
   "metadata": {
    "vscode": {
     "languageId": "shellscript"
    }
   },
   "outputs": [],
   "source": [
    "%%bash\n",
    "oc exec pod/solr-0 -- mkdir -p /bitnami/solr/backup\n",
    "oc rsync solr/ pod/solr-0:/bitnami/solr/backup/\n",
    "oc exec pod/solr-0 -- curl -k -s -X POST -u \"admin:$(oc get secret/solr -o jsonpath={.data.solr-password} | base64 -d)\" \\\n",
    "  -H \"Content-Type:application/octet-stream\" \\\n",
    "  --data-binary @/bitnami/solr/backup/computate-configset.zip \\\n",
    "  \"http://localhost:8983/solr/admin/configs?action=UPLOAD&name=computate&overwrite=true\"\n",
    "echo DONE"
   ]
  },
  {
   "cell_type": "markdown",
   "metadata": {},
   "source": [
    "## Create a computateorg search collection\n",
    "Create a Solr search collection named `computateorg` that we will use for \n",
    "the API of the Smart Device website powered by FIWARE we will use later. "
   ]
  },
  {
   "cell_type": "code",
   "execution_count": null,
   "metadata": {
    "vscode": {
     "languageId": "shellscript"
    }
   },
   "outputs": [],
   "source": [
    "%%bash\n",
    "oc exec pod/solr-0 -- \\\n",
    "  bash -c 'env SOLR_AUTH_TYPE=basic SOLR_AUTHENTICATION_OPTS=\"-Dbasicauth=$SOLR_ADMIN_USERNAME:$SOLR_ADMIN_PASSWORD\" /opt/bitnami/solr/bin/solr create_collection -c computateorg -n computate'\n",
    "echo DONE"
   ]
  },
  {
   "cell_type": "markdown",
   "metadata": {},
   "source": [
    "## View Solr admin password\n",
    "The username will be `admin` and run the command below to find the admin password."
   ]
  },
  {
   "cell_type": "code",
   "execution_count": null,
   "metadata": {
    "vscode": {
     "languageId": "shellscript"
    }
   },
   "outputs": [],
   "source": [
    "%%bash\n",
    "oc get secret/solr -o jsonpath={.data.solr-password} | base64 -d"
   ]
  },
  {
   "cell_type": "markdown",
   "metadata": {},
   "source": [
    "## Next...\n",
    "If you have successfully ran all of the commands above, congratulations, you are ready to move on to the next notebook in the course. \n",
    "\n",
    "- If you have additional questions or issues, please [create an issue for the course here](https://github.com/computate-org/computate/issues). \n",
    "- Otherwise, please continue to the next document [04-deploy-postgres.ipynb](04-deploy-postgres.ipynb). \n"
   ]
  }
 ],
 "metadata": {
  "kernelspec": {
   "display_name": "Bash",
   "language": "bash",
   "name": "bash"
  },
  "language_info": {
   "codemirror_mode": "shell",
   "file_extension": ".sh",
   "mimetype": "text/x-sh",
   "name": "bash"
  }
 },
 "nbformat": 4,
 "nbformat_minor": 2
}
