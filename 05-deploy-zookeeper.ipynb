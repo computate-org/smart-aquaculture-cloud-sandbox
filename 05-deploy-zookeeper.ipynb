{
 "cells": [
  {
   "cell_type": "markdown",
   "id": "94d989af",
   "metadata": {},
   "source": [
    "# Computate Smart Cloud Builder\n",
    "\n",
    "## About the open source GPL3 license and copyright for this product\n",
    "\n",
    "Copyright (c) 2024 Computate Limited Liability Company in Utah, USA\n",
    "\n",
    "This program is free software: you can redistribute it and/or modify\n",
    "it under the terms of the GNU General Public License as published by\n",
    "the Free Software Foundation, either version 3 of the License, or\n",
    "(at your option) any later version.\n",
    "\n",
    "This program is distributed in the hope that it will be useful,\n",
    "but WITHOUT ANY WARRANTY; without even the implied warranty of\n",
    "MERCHANTABILITY or FITNESS FOR A PARTICULAR PURPOSE.  See the\n",
    "GNU General Public License for more details.\n",
    "\n",
    "You should have received a copy of the GNU General Public License\n",
    "along with this program.  If not, see <https://www.gnu.org/licenses/>.\n",
    "\n",
    "ADDITIONAL TERMS\n",
    "\n",
    "As stated in section 7. c) and e) of the GPL3 license, \n",
    "\"you may supplement the terms of this License with terms,\" \n",
    "Computate has added the following additional terms to the license: \n",
    "\n",
    "  7 c) Prohibiting misrepresentation of the origin of that material, and\n",
    "    requiring that modified versions of such material be marked in\n",
    "    reasonable ways as different from the original version;\n",
    "\n",
    "  7 e) Declining to grant rights under trademark law for use of some\n",
    "    trade names, trademarks, or service marks;\n",
    "\n",
    "Please do not redistribute this course until you have built your own platform with these tools, \n",
    "separate from the computate.org platform, and reconfigure your fork of this repo to deploy \n",
    "your own platform instead of the computate.org platform. \n",
    "\n",
    "QUESTIONS\n",
    "\n",
    "For questions about this open source license, please contact our public mailing list at computate@group.computate.org\n"
   ]
  },
  {
   "cell_type": "markdown",
   "id": "fc44ae6a",
   "metadata": {},
   "source": [
    "## Switch to the Bash Kernel\n",
    "\n",
    "To run this Jupyter Notebook in VSCode, you will need to switch to the Bash Kernel you installed earlier. \n",
    "It's a button in the top right corner of the notebook that says `Select Kernel`. \n"
   ]
  },
  {
   "cell_type": "markdown",
   "id": "0518244f-cf18-45c3-8ee1-3cbbecfba478",
   "metadata": {},
   "source": [
    "## About the Apache Zookeeper cluster manager\n",
    "\n",
    "> \"Manager, I need you to raise my salary because 3 companies are after after me.\" - Employee\n",
    "\n",
    "> \"What companies are those?\" - Manager\n",
    "\n",
    "> \"The electric company, gas company, and water company\" - Employee\n",
    "\n",
    "A cluster manager like Apache Zookeeper is required for distributing messages and workloads to multiple pods of reactive/asynchronous microservices like Apache Solr and your own data-driven website. \n"
   ]
  },
  {
   "cell_type": "markdown",
   "id": "d93baf20-7419-4c47-be53-2e33907fe263",
   "metadata": {},
   "source": [
    "## Deploy Zookeeper with Helm"
   ]
  },
  {
   "cell_type": "markdown",
   "id": "165cd967",
   "metadata": {},
   "source": [
    "Run the commands below to install zookeeper with helm. "
   ]
  },
  {
   "cell_type": "code",
   "execution_count": null,
   "id": "0158c4c1",
   "metadata": {
    "vscode": {
     "languageId": "shellscript"
    }
   },
   "outputs": [],
   "source": [
    "helm upgrade --install zookeeper oci://registry-1.docker.io/bitnamicharts/zookeeper \\\n",
    "  --set-json 'resources={\"requests\": {\"cpu\": \"200m\", \"memory\": \"500Mi\"}}' \\\n",
    "  --set persistence.size=1Gi \\\n",
    "  --set replicaCount=1\n",
    "echo DONE"
   ]
  },
  {
   "cell_type": "markdown",
   "id": "e289ea16-085b-4021-b816-85d66320b955",
   "metadata": {
    "tags": []
   },
   "source": [
    "### View Zookeeper pod details\n",
    "After deploying zookeeper, it will take a minute before the zookeeper pod is up and running. \n",
    "Run the command below until the zookeeper pod health checks are `READY 1/1` and `STATUS Running`. "
   ]
  },
  {
   "cell_type": "code",
   "execution_count": null,
   "id": "dcae73ba-5acf-4fb2-970d-3e0772e084f9",
   "metadata": {
    "tags": [],
    "vscode": {
     "languageId": "shellscript"
    }
   },
   "outputs": [],
   "source": [
    "oc get pod -l app.kubernetes.io/name=zookeeper\n",
    "oc wait pod -l app.kubernetes.io/name=zookeeper --for=condition=Ready --timeout=5m\n",
    "oc get pod -l app.kubernetes.io/name=zookeeper\n",
    "echo DONE"
   ]
  },
  {
   "cell_type": "markdown",
   "id": "cd198430-2694-4c59-a256-d7a08367cecd",
   "metadata": {},
   "source": [
    "### View Zookeeper pod logs\n",
    "If your Zookeeper pod does not reach the STATUS Running, you can run the command below to view the pod logs of Zookeeper and check for other errors that may have occured. "
   ]
  },
  {
   "cell_type": "code",
   "execution_count": null,
   "id": "c3ed9ecc-6d74-4711-a27e-242094fe05a2",
   "metadata": {
    "vscode": {
     "languageId": "shellscript"
    }
   },
   "outputs": [],
   "source": [
    "oc logs -l app.kubernetes.io/name=zookeeper\n",
    "echo DONE"
   ]
  },
  {
   "cell_type": "markdown",
   "id": "9b8d4983",
   "metadata": {},
   "source": [
    "## Next...\n",
    "If you have successfully ran all of the commands above, congratulations, you are ready to move on to the next notebook in the course. \n",
    "\n",
    "- If you have additional questions or issues, please [create an issue for the course here](https://github.com/computate-org/computate/issues). \n",
    "- Otherwise, please continue to the next document [06-deploy-solr.ipynb](06-deploy-solr.ipynb). \n"
   ]
  },
  {
   "cell_type": "code",
   "execution_count": null,
   "id": "a3d68b82-e612-4147-a4bd-f4ca0c7cfd05",
   "metadata": {
    "vscode": {
     "languageId": "shellscript"
    }
   },
   "outputs": [],
   "source": []
  }
 ],
 "metadata": {
  "kernelspec": {
   "display_name": "Bash",
   "language": "bash",
   "name": "bash"
  },
  "language_info": {
   "codemirror_mode": "shell",
   "file_extension": ".sh",
   "mimetype": "text/x-sh",
   "name": "bash"
  }
 },
 "nbformat": 4,
 "nbformat_minor": 5
}
