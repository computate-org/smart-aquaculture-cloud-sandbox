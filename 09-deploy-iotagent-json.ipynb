{
 "cells": [
  {
   "cell_type": "markdown",
   "id": "6a7561e1",
   "metadata": {},
   "source": [
    "# Cloud sandbox powered by FIWARE\n",
    "\n",
    "## About the open source GPL3 license and copyright for this product\n",
    "\n",
    "Copyright © 2024 Computate Limited Liability Company in Utah, USA\n",
    "\n",
    "This program is free software: you can redistribute it and/or modify\n",
    "it under the terms of the GNU General Public License as published by\n",
    "the Free Software Foundation, either version 3 of the License, or\n",
    "(at your option) any later version.\n",
    "\n",
    "This program is distributed in the hope that it will be useful,\n",
    "but WITHOUT ANY WARRANTY; without even the implied warranty of\n",
    "MERCHANTABILITY or FITNESS FOR A PARTICULAR PURPOSE.  See the\n",
    "GNU General Public License for more details.\n",
    "\n",
    "You should have received a copy of the GNU General Public License\n",
    "along with this program.  If not, see <https://www.gnu.org/licenses/>.\n",
    "\n",
    "ADDITIONAL TERMS\n",
    "\n",
    "As stated in section 7. c) and e) of the GPL3 license, \n",
    "\"you may supplement the terms of this License with terms,\" \n",
    "Computate has added the following additional terms to the license: \n",
    "\n",
    "  7 c) Prohibiting misrepresentation of the origin of that material, and\n",
    "    requiring that modified versions of such material be marked in\n",
    "    reasonable ways as different from the original version;\n",
    "\n",
    "  7 e) Declining to grant rights under trademark law for use of some\n",
    "    trade names, trademarks, or service marks;\n",
    "\n",
    "Please do not redistribute this course until you have built your own platform with these tools, \n",
    "separate from the computate.org platform, and reconfigure your fork of this repo to deploy \n",
    "your own platform instead of the computate.org platform. \n",
    "\n",
    "QUESTIONS\n",
    "\n",
    "For questions about this open source license, please contact our public mailing list at computate@group.computate.org\n"
   ]
  },
  {
   "cell_type": "markdown",
   "id": "c27caa20",
   "metadata": {},
   "source": [
    "## Switch to the Python 3.9 Kernel\n",
    "\n",
    "When opening this Jupyter Notebook in VSCode, you will need to switch to the Jupyter 3.9 Kernel. "
   ]
  },
  {
   "cell_type": "markdown",
   "id": "901d33d3",
   "metadata": {},
   "source": [
    "## Deploy the IoT Agent JSON in the OpenShift Developer Sandbox\n",
    "\n",
    "A FIWARE IoT Agent like IoT Agent JSON is required for smart device registration of vehicle traffic cameras and pedestrian traffic cameras in the project. "
   ]
  },
  {
   "cell_type": "markdown",
   "id": "775b719e",
   "metadata": {},
   "source": [
    "## Create an IoT Agent message broker secret to connect to RabbitMQ "
   ]
  },
  {
   "cell_type": "code",
   "execution_count": null,
   "id": "9a7bca6d",
   "metadata": {
    "vscode": {
     "languageId": "shellscript"
    }
   },
   "outputs": [],
   "source": [
    "%%bash\n",
    "oc create secret generic iotagent-json-message-broker-secret \\\n",
    "  --from-literal password=\"$(oc get secret/rabbitmq -o jsonpath={.data.rabbitmq-password} | base64 -d)\"\n",
    "echo DONE"
   ]
  },
  {
   "cell_type": "markdown",
   "id": "1110878a",
   "metadata": {},
   "source": [
    "## Create an IoT Agent secret to connect to MongoDB "
   ]
  },
  {
   "cell_type": "code",
   "execution_count": null,
   "id": "614a40ce",
   "metadata": {
    "vscode": {
     "languageId": "shellscript"
    }
   },
   "outputs": [],
   "source": [
    "%%bash\n",
    "oc create secret generic iotagent-json-mongodb-secret \\\n",
    "  --from-literal password=\"$(tr -dc 'A-Za-z0-9' < /dev/urandom | head -c 15)\"\n",
    "echo DONE"
   ]
  },
  {
   "cell_type": "markdown",
   "id": "a8a837fe",
   "metadata": {},
   "source": [
    "## Run create database scripts on MongoDB"
   ]
  },
  {
   "cell_type": "code",
   "execution_count": null,
   "id": "f36a8b87",
   "metadata": {
    "vscode": {
     "languageId": "shellscript"
    }
   },
   "outputs": [],
   "source": [
    "%%bash\n",
    "oc exec $(oc get pod -l 'app.kubernetes.io/name=mongodb' -o name) -- \\\n",
    "  sh -c 'mongosh -u \"$MONGODB_ROOT_USER\" -p \"$MONGODB_ROOT_PASSWORD\" --eval '\"'\"'\n",
    "  db = db.getSiblingDB(\"iotagentjson\"); \n",
    "  db.createUser({ user: \"iotagent\", pwd: \"'\"$(oc get secret/iotagent-json-mongodb-secret -o jsonpath={.data.password} | base64 -d)\"'\", roles: [{ role: \"dbOwner\", db: \"iotagentjson\"}]}); \n",
    "  db = db.getSiblingDB(\"iotagentjson\"); \n",
    "  db.createCollection(\"devices\"); \n",
    "  db.devices.createIndex({\"_id.service\": 1, \"_id.id\": 1, \"_id.type\": 1}); \n",
    "  db.devices.createIndex({\"_id.type\": 1}); \n",
    "  db.devices.createIndex({\"_id.id\": 1}); \n",
    "  db.createCollection(\"groups\"); \n",
    "  db.groups.createIndex({\"_id.resource\": 1, \"_id.apikey\": 1, \"_id.service\": 1}); \n",
    "  db.groups.createIndex({\"_id.type\": 1}); \n",
    "  '\"'\"''\n",
    "echo DONE"
   ]
  },
  {
   "cell_type": "markdown",
   "id": "1d8f9af9",
   "metadata": {},
   "source": [
    "## Deploy the iotagent-json Deployment"
   ]
  },
  {
   "cell_type": "code",
   "execution_count": null,
   "id": "96d7921a",
   "metadata": {
    "vscode": {
     "languageId": "shellscript"
    }
   },
   "outputs": [],
   "source": [
    "%%bash\n",
    "ansible-playbook playbooks/deploy-iotagent-json.yaml \\\n",
    "  -e \"IOTA_CB_HOST=scorpiobroker\" \\\n",
    "  -e \"IOTA_CB_PORT=9090\" \\\n",
    "  -e \"IOTA_HOST=iotagent-json\" \\\n",
    "  -e \"IOTA_NORTH_PORT=4041\" \\\n",
    "  -e \"IOTA_HTTP_PORT=7896\" \\\n",
    "  -e \"IOTA_LOG_LEVEL=INFO\" \\\n",
    "  -e \"IOTA_JSON_LD_CONTEXT=https://raw.githubusercontent.com/computate-org/computate.org-static/main/fiware/context.jsonld,https://uri.etsi.org/ngsi-ld/v1/ngsi-ld-core-context.jsonld\" \\\n",
    "  -e \"IOTA_MONGO_HOST=mongodb\" \\\n",
    "  -e \"IOTA_MONGO_PORT=27017\" \\\n",
    "  -e \"IOTA_MONGO_USER=iotagent\" \\\n",
    "  -e \"IOTA_MONGO_SECRET_NAME=iotagent-json-mongodb-secret\" \\\n",
    "  -e \"IOTA_MONGO_SECRET_KEY=password\" \\\n",
    "  -e \"IOTA_MONGO_DB=iotagentjson\" \\\n",
    "  -e \"IOTA_AMQP_HOST=rabbitmq\" \\\n",
    "  -e \"IOTA_AMQP_PORT=5672\" \\\n",
    "  -e \"IOTA_AMQP_USERNAME=user\" \\\n",
    "  -e \"IOTA_AMQP_SECRET_NAME=iotagent-json-message-broker-secret\" \\\n",
    "  -e \"IOTA_AMQP_SECRET_KEY=password\" \\\n",
    "  -e \"IOTA_LIMITS_CPU=1\" \\\n",
    "  -e \"IOTA_LIMITS_MEMORY=1Gi\" \\\n",
    "  -e \"IOTA_REQUESTS_CPU=200m\" \\\n",
    "  -e \"IOTA_REQUESTS_MEMORY=500Mi\" \\\n",
    "  -e \"IOTAGENT_NAMESPACE=$(oc project -q)\"\n",
    "echo DONE"
   ]
  },
  {
   "cell_type": "markdown",
   "id": "9f05431d-cc70-4895-88a4-f0152c19686e",
   "metadata": {},
   "source": [
    "### View IoT Agent JSON pod details\n",
    "After deploying IoT Agent JSON with helm, it will take a minute before the IoT Agent JSON pod is up and running. Run the command below until the IoT Agent JSON pod health checks are `READY 1/1` and `STATUS Running`. "
   ]
  },
  {
   "cell_type": "code",
   "execution_count": null,
   "id": "ca249a7b-e7a5-44d1-bc61-a20fb2490ed5",
   "metadata": {
    "vscode": {
     "languageId": "shellscript"
    }
   },
   "outputs": [],
   "source": [
    "%%bash\n",
    "oc get pod -l app.kubernetes.io/instance=iotagent-json\n",
    "oc wait pod -l app.kubernetes.io/instance=iotagent-json --for=condition=Ready --timeout=5m\n",
    "oc get pod -l app.kubernetes.io/instance=iotagent-json\n",
    "echo DONE"
   ]
  },
  {
   "cell_type": "markdown",
   "id": "53216d81",
   "metadata": {},
   "source": [
    "### View IoT Agent JSON pod logs\n",
    "If your IoT Agent JSON pod does not reach the STATUS Running, you can run the command below to view the pod logs of IoT Agent JSON and check for other errors that may have occured. "
   ]
  },
  {
   "cell_type": "code",
   "execution_count": null,
   "id": "415fc4d1",
   "metadata": {
    "vscode": {
     "languageId": "shellscript"
    }
   },
   "outputs": [],
   "source": [
    "%%bash\n",
    "oc logs -l app.kubernetes.io/name=iotagent-json\n",
    "echo DONE"
   ]
  },
  {
   "cell_type": "markdown",
   "id": "5dd0fb1c",
   "metadata": {},
   "source": [
    "## Next...\n",
    "If you have successfully ran all of the commands above, congratulations, you are ready to move on to the next notebook in the course. \n",
    "\n",
    "- If you have additional questions or issues, please [create an issue for the course here](https://github.com/computate-org/computate/issues). \n",
    "- Otherwise, please continue to the next document [10-deploy-keycloak.ipynb](10-deploy-keycloak.ipynb). \n"
   ]
  }
 ],
 "metadata": {
  "kernelspec": {
   "display_name": "Bash",
   "language": "bash",
   "name": "bash"
  },
  "language_info": {
   "codemirror_mode": "shell",
   "file_extension": ".sh",
   "mimetype": "text/x-sh",
   "name": "bash"
  }
 },
 "nbformat": 4,
 "nbformat_minor": 5
}
