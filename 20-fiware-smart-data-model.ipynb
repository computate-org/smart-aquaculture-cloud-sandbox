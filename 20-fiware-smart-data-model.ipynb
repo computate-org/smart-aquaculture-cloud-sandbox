{
 "cells": [
  {
   "cell_type": "markdown",
   "id": "f5962e5d-48c2-49c3-86cc-5f5d1ba7a8a6",
   "metadata": {
    "vscode": {
     "languageId": "shellscript"
    }
   },
   "source": [
    "### Clone and index all Smart Data Models\n",
    "\n",
    "**This is an optional step if you are building a FIWARE Smart Data Model solution**\n",
    "\n",
    "Run the Ansible Playbook below to clone the hundreds of FIWARE Smart Data Models, and index each Smart Data Model in Apache Solr. We search this Smart Data Model data when we create new Java classes to see if there is a `SmartDataModel: search terms...` class comment in the code that closely matches a Smart Data Model in the Solr search engine, then we will generate all the code for this Smart Data Model automatically. "
   ]
  },
  {
   "cell_type": "code",
   "execution_count": null,
   "id": "096510a7",
   "metadata": {
    "vscode": {
     "languageId": "shellscript"
    }
   },
   "outputs": [],
   "source": [
    "eval $(env SITE_NAMESPACE=\"$(oc project -q)\" ./vars.py)\n",
    "ansible-playbook -e @$VARS_PATH playbooks/clone-smart-model-data.yaml\n",
    "echo DONE"
   ]
  },
  {
   "cell_type": "markdown",
   "id": "ee1e8377",
   "metadata": {},
   "source": []
  },
  {
   "cell_type": "code",
   "execution_count": null,
   "id": "c66d3d0a",
   "metadata": {
    "vscode": {
     "languageId": "shellscript"
    }
   },
   "outputs": [],
   "source": [
    "SEARCH_TERM=\"Weather measurement\"\n",
    "REGEX1='s/( +)/ OR /g'\n",
    "REGEX2='s/^([\\w\\W])$/\"$1\"/g'\n",
    "ENCODED_STR=\"$(echo $SEARCH_TERM | perl -p -e 's/([a-z])([A-Z])/$1 $2/g' | perl -p -e 's/( +)/\" OR \"/g' | perl -p -e 's/^([\\w\\W]+?)\\s*$/(\"$1\")/g')\"\n",
    "echo $ENCODED_STR\n",
    "DOMAIN_QUERY=\"domainName_suggested:$ENCODED_STR^2 OR domainName_text_enUS:$ENCODED_STR^5\"\n",
    "SUBMODULE_QUERY=\"submoduleShortName_suggested:$ENCODED_STR^3 OR submoduleShortName_text_enUS:$ENCODED_STR^10\"\n",
    "MODEL_QUERY=\"modelName_suggested:$ENCODED_STR^10 OR modelName_text_enUS:$ENCODED_STR^20\"\n",
    "SEARCH_QUERY=\"$DOMAIN_QUERY OR $SUBMODULE_QUERY OR $MODEL_QUERY\"\n",
    "STUFF=\"&fl=*,score&sort=score desc\"\n",
    "echo $SEARCH_QUERY"
   ]
  },
  {
   "cell_type": "markdown",
   "id": "0e203b8f",
   "metadata": {},
   "source": [
    "Query the search engine for a smart data model matching the term. "
   ]
  },
  {
   "cell_type": "code",
   "execution_count": null,
   "id": "b1144867",
   "metadata": {
    "vscode": {
     "languageId": "shellscript"
    }
   },
   "outputs": [],
   "source": [
    "eval $(env SITE_NAMESPACE=\"$(oc project -q)\" ./vars.py)\n",
    "\n",
    "curl -k -s -u \"$SOLR_USERNAME:$SOLR_PASSWORD\" \"$SOLR_URL_COMPUTATE\"'/query' \\\n",
    "    --data-urlencode 'fl=*,score' \\\n",
    "    --data-urlencode 'sort=score desc' \\\n",
    "    --data-urlencode \"fq=computateFiwareSmartDataModel_docvalues_boolean:true\" \\\n",
    "    --data-urlencode \"q=$SEARCH_QUERY\"\n",
    "echo DONE"
   ]
  },
  {
   "cell_type": "markdown",
   "id": "d3c4ba5b",
   "metadata": {},
   "source": []
  }
 ],
 "metadata": {
  "kernelspec": {
   "display_name": "Bash",
   "language": "bash",
   "name": "bash"
  },
  "language_info": {
   "codemirror_mode": "shell",
   "file_extension": ".sh",
   "mimetype": "text/x-sh",
   "name": "bash"
  }
 },
 "nbformat": 4,
 "nbformat_minor": 5
}
