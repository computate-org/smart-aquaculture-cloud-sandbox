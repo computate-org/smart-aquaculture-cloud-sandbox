{
 "cells": [
  {
   "cell_type": "markdown",
   "id": "d6970a40",
   "metadata": {},
   "source": [
    "# Computate Smart Cloud Builder\n",
    "\n",
    "## About the open source GPL3 license and copyright for this product\n",
    "\n",
    "Copyright (c) 2024 Computate Limited Liability Company in Utah, USA\n",
    "\n",
    "This program is free software: you can redistribute it and/or modify\n",
    "it under the terms of the GNU General Public License as published by\n",
    "the Free Software Foundation, either version 3 of the License, or\n",
    "(at your option) any later version.\n",
    "\n",
    "This program is distributed in the hope that it will be useful,\n",
    "but WITHOUT ANY WARRANTY; without even the implied warranty of\n",
    "MERCHANTABILITY or FITNESS FOR A PARTICULAR PURPOSE.  See the\n",
    "GNU General Public License for more details.\n",
    "\n",
    "You should have received a copy of the GNU General Public License\n",
    "along with this program.  If not, see <https://www.gnu.org/licenses/>.\n",
    "\n",
    "ADDITIONAL TERMS\n",
    "\n",
    "As stated in section 7. c) and e) of the GPL3 license, \n",
    "\"you may supplement the terms of this License with terms,\" \n",
    "Computate has added the following additional terms to the license: \n",
    "\n",
    "  7 c) Prohibiting misrepresentation of the origin of that material, and\n",
    "    requiring that modified versions of such material be marked in\n",
    "    reasonable ways as different from the original version;\n",
    "\n",
    "  7 e) Declining to grant rights under trademark law for use of some\n",
    "    trade names, trademarks, or service marks;\n",
    "\n",
    "Please do not redistribute this course until you have built your own platform with these tools, \n",
    "separate from the computate.org platform, and reconfigure your fork of this repo to deploy \n",
    "your own platform instead of the computate.org platform. \n",
    "\n",
    "QUESTIONS\n",
    "\n",
    "For questions about this open source license, please contact our public mailing list at computate@group.computate.org\n"
   ]
  },
  {
   "cell_type": "markdown",
   "id": "2b966216",
   "metadata": {},
   "source": [
    "## Switch to the Bash Kernel\n",
    "\n",
    "To run this Jupyter Notebook in VSCode, you will need to switch to the Bash Kernel you installed earlier. \n",
    "It's a button in the top right corner of the notebook that says `Select Kernel`. \n"
   ]
  },
  {
   "cell_type": "markdown",
   "id": "c3e2ffe9-0679-45cf-89d3-bd64789982f6",
   "metadata": {},
   "source": [
    "# Red Hat OpenShift Developer Sandbox\n",
    "\n",
    "## How to start an OpenShift Developer Sandbox\n",
    "\n",
    "Start a [free Red Hat OpenShift Developer Sandbox\n",
    "here](https://developers.redhat.com/developer-sandbox).\n",
    "\n",
    "<img src=\"pictures/10000201000002EC000000B797470F50FAD9B503.png\" />\n",
    "\n",
    "Click on the\n",
    "<img src=\"pictures/100002010000002A00000016F8A31816B66F52D8.png\" />\n",
    "button in the top right corner.\n",
    "\n",
    "<img src=\"pictures/10000201000000C20000004B778672F45D986E77.png\" />\n",
    "\n",
    "### Register for a free Red Hat account\n",
    "\n",
    "If you do not already have a free Red Hat account, click\n",
    "<img src=\"pictures/100002010000011D000000194F39C6CC5D1A0EA6.png\" />.\n",
    "\n",
    "Log in if you already have a free Red Hat account:\n",
    "\n",
    "<img src=\"pictures/10000201000001A4000000F06DFE281142C79837.png\" />\n",
    "\n",
    "### Start your OpenShift Developer Sandbox\n",
    "\n",
    "After you are logged into your Red Hat account, return to the page to\n",
    "start a [free Red Hat OpenShift Developer Sandbox\n",
    "here](https://developers.redhat.com/developer-sandbox).\n",
    "\n",
    "Click\n",
    "<img src=\"pictures/10000201000000DF000000245838DB81DC18462A.png\" />\n",
    "\n",
    "Then click\n",
    "<img src=\"pictures/100002010000008A000000248AC83F9D6A153747.png\" />\n",
    "\n",
    "Before you can access your new sandbox, you will need to request an\n",
    "activation code by phone. Click on the link.\n",
    "\n",
    "Be sure to enter your country code, and phone number correctly, then\n",
    "check your phone for the activation code.\n",
    "\n",
    "<img src=\"pictures/1000020100000359000000CB3CE9E1A39B080DE6.png\" />\n",
    "\n",
    "Enter your activation code in the box .\n",
    "\n",
    "After a few moments, you should be able to start your Red Hat OpenShift\n",
    "Developer Sandbox. Click the button to start your sandbox for free.\n",
    "\n",
    "<img src=\"pictures/100002010000027E0000008072F673BF670FECCA.png\" />\n",
    "\n",
    "If you see a message\n",
    "<img src=\"pictures/10000201000001EA0000001EB1A61FBC1D9C353B.png\" />,\n",
    "then click\n",
    "<img src=\"pictures/1000020100000048000000243F3A75341A965DC4.png\" />\n",
    "\n",
    "You can get started in the Red Hat OpenShift platform by clicking on the\n",
    "button.\n",
    "\n",
    "<img src=\"pictures/10000201000000740000007DED7012DEEE29A8D6.png\" />\n",
    "\n",
    "Log in by clicking on the\n",
    "<img src=\"pictures/100002010000006C0000001DABF5B58FF6B1D253.png\" />\n",
    "button to log into the new sandbox with your Red Hat account.\n",
    "\n",
    "Explore your new sandbox with a tour, or get started now.\n",
    "\n",
    "<img src=\"pictures/1000020100000220000000A7B122DE8EA79F44F2.png\" />\n"
   ]
  },
  {
   "cell_type": "markdown",
   "id": "ab6534b7",
   "metadata": {},
   "source": [
    "## Using the OpenShift Developer Sandbox\n",
    "\n",
    "### Download the oc command\n",
    "- Click the\n",
    "<img src=\"pictures/10000201000000180000001946A6B15A7F8D3A9C.png\" />\n",
    "button in the top right of the Developer Sandbox.\n",
    "\n",
    "- Click\n",
    "<img src=\"pictures/100002010000010400000025591A5F602949BE11.png\" />.\n",
    "- Click the download link for your operating system.\n",
    "\n",
    "<img src=\"pictures/1000020100000168000000AC979C70CCF932ABC5.png\" />\n",
    "- You'll need to extract the `oc` command and place it in your path,\n",
    "for example in a `bin` directory in your `$HOME` directory.\n",
    "\n",
    "```bash\n",
    "mkdir -p ~/bin\n",
    "tar xvf ~/Downloads/oc.tar -C ~/bin/\n",
    "```\n"
   ]
  },
  {
   "cell_type": "markdown",
   "id": "316478bd",
   "metadata": {},
   "source": [
    "### Log into the OpenShift CLI in your terminal\n",
    "\n",
    "<img src=\"pictures/10000201000000DA000000A925DC020844A89E01.png\" />\n",
    "- Click your username in the top right corner of the Developer Sandbox.\n",
    "- Click\n",
    "<img src=\"pictures/10000201000000BD00000025748AE357F93DE9CB.png\" />.\n",
    "- Click\n",
    "<img src=\"pictures/10000201000000740000002333EFEF0BE6991D9D.png\" />.\n",
    "- Click\n",
    "<img src=\"pictures/100002010000006A000000156B50A1A3B5B867E3.png\" />.\n",
    "- Copy the line to the clipboard that looks like this:\n",
    "\n",
    "<img src=\"pictures/100002010000024F0000004C0CDBE88B1D849CC9.png\" />\n",
    "- Paste the command into your terminal to log in to the Developer Sandbox in the terminal.\n",
    "\n",
    "<img src=\"pictures/10000201000003AC000000BE7CE02563432523F1.png\" />\n",
    "\n",
    "## Switch to the right project\n",
    "\n",
    "It's important to make sure you are in the right OpenShift project in your terminal. \n",
    "All users are granted access to the `openshift-virtualization-os-images` project, but you do not want to use this project. \n",
    "Make sure you are using the project with your username ending in `-dev`. \n",
    "\n",
    "Run this command to see what projects are available to you, and what project you are currently in (marked by a `*`): "
   ]
  },
  {
   "cell_type": "code",
   "execution_count": null,
   "id": "8fb32f6c",
   "metadata": {
    "vscode": {
     "languageId": "shellscript"
    }
   },
   "outputs": [],
   "source": [
    "oc projects\n",
    "echo DONE"
   ]
  },
  {
   "cell_type": "markdown",
   "id": "e2ce46b5",
   "metadata": {},
   "source": [
    "Run this command to switch to your project: "
   ]
  },
  {
   "cell_type": "code",
   "execution_count": null,
   "id": "42bad484",
   "metadata": {
    "vscode": {
     "languageId": "shellscript"
    }
   },
   "outputs": [],
   "source": [
    "oc project $(oc projects -q | grep '.*-dev$')\n",
    "echo DONE"
   ]
  },
  {
   "cell_type": "markdown",
   "id": "778853cc",
   "metadata": {},
   "source": [
    "# OpenShift AI\n",
    "\n",
    "## Next...\n",
    "If you have successfully ran all of the commands above, congratulations, you are ready to move on to the next notebook in the course. \n",
    "- In your workbench, make sure your left sidebar is open. If it’s not,\n",
    "press \\[ Ctrl \\] + \\[ b \\].\n",
    "- Navigate to `smartabyar-smartvillage-sandbox-course`. \n",
    "- Open the first Notebook [01-install-prerequisites.ipynb](01-install-prerequisites.ipynb) and follow the instructions from there. \n",
    "\n",
    "- If you have additional questions or issues, please [create an issue for the course here](https://github.com/smartabyar-smartvillage/smartabyar-smartvillage-sandbox-course/issues). \n"
   ]
  }
 ],
 "metadata": {
  "kernelspec": {
   "display_name": "Bash",
   "language": "bash",
   "name": "bash"
  },
  "language_info": {
   "codemirror_mode": "shell",
   "file_extension": ".sh",
   "mimetype": "text/x-sh",
   "name": "bash"
  }
 },
 "nbformat": 4,
 "nbformat_minor": 5
}
