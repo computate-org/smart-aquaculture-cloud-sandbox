{
 "cells": [
  {
   "cell_type": "markdown",
   "metadata": {},
   "source": [
    "# Computate Smart Cloud Builder\n",
    "\n",
    "## About the open source GPL3 license and copyright for this product\n",
    "\n",
    "Copyright © 2024 Computate Limited Liability Company in Utah, USA\n",
    "\n",
    "This program is free software: you can redistribute it and/or modify\n",
    "it under the terms of the GNU General Public License as published by\n",
    "the Free Software Foundation, either version 3 of the License, or\n",
    "(at your option) any later version.\n",
    "\n",
    "This program is distributed in the hope that it will be useful,\n",
    "but WITHOUT ANY WARRANTY; without even the implied warranty of\n",
    "MERCHANTABILITY or FITNESS FOR A PARTICULAR PURPOSE.  See the\n",
    "GNU General Public License for more details.\n",
    "\n",
    "You should have received a copy of the GNU General Public License\n",
    "along with this program.  If not, see <https://www.gnu.org/licenses/>.\n",
    "\n",
    "ADDITIONAL TERMS\n",
    "\n",
    "As stated in section 7. c) and e) of the GPL3 license, \n",
    "\"you may supplement the terms of this License with terms,\" \n",
    "Computate has added the following additional terms to the license: \n",
    "\n",
    "  7 c) Prohibiting misrepresentation of the origin of that material, and\n",
    "    requiring that modified versions of such material be marked in\n",
    "    reasonable ways as different from the original version;\n",
    "\n",
    "  7 e) Declining to grant rights under trademark law for use of some\n",
    "    trade names, trademarks, or service marks;\n",
    "\n",
    "Please do not redistribute this course until you have built your own platform with these tools, \n",
    "separate from the computate.org platform, and reconfigure your fork of this repo to deploy \n",
    "your own platform instead of the computate.org platform. \n",
    "\n",
    "QUESTIONS\n",
    "\n",
    "For questions about this open source license, please contact our public mailing list at computate@group.computate.org\n"
   ]
  },
  {
   "cell_type": "markdown",
   "metadata": {},
   "source": [
    "## Switch to the Bash Kernel\n",
    "\n",
    "To run this Jupyter Notebook in VSCode, you will need to switch to the Bash Kernel you installed earlier. \n",
    "It's a button in the top right corner of the notebook that says `Select Kernel`. \n"
   ]
  },
  {
   "cell_type": "markdown",
   "metadata": {},
   "source": [
    "## Upload default computate Solr configset\n",
    "A Solr configset is a data schema for a search engine. It specifies the exact fields and their data types that are available in the search engine to use."
   ]
  },
  {
   "cell_type": "code",
   "execution_count": null,
   "metadata": {
    "vscode": {
     "languageId": "shellscript"
    }
   },
   "outputs": [],
   "source": [
    "oc exec pod/solr-0 -- \\\n",
    "  install -d /bitnami/solr/backup/\n",
    "oc rsync solr/ pod/solr-0:/bitnami/solr/backup/\n",
    "echo DONE"
   ]
  },
  {
   "cell_type": "code",
   "execution_count": null,
   "metadata": {
    "vscode": {
     "languageId": "shellscript"
    }
   },
   "outputs": [],
   "source": [
    "eval $(env SITE_NAMESPACE=\"$(oc project -q)\" ./vars.py)\n",
    "oc exec pod/solr-0 -- \\\n",
    "  bash -c 'curl -s -X POST -u \"$SOLR_ADMIN_USERNAME:$SOLR_ADMIN_PASSWORD\" \\\n",
    "      -H \"Content-Type:application/octet-stream\" \\\n",
    "      --data-binary @/bitnami/solr/backup/computate-configset.zip \\\n",
    "      \"http://localhost:8983/solr/admin/configs?action=UPLOAD&name=computate&overwrite=true\"'\n",
    "echo DONE"
   ]
  },
  {
   "cell_type": "code",
   "execution_count": null,
   "metadata": {
    "vscode": {
     "languageId": "shellscript"
    }
   },
   "outputs": [],
   "source": [
    "eval $(env SITE_NAMESPACE=\"$(oc project -q)\" ./vars.py)\n",
    "oc exec pod/solr-0 -- \\\n",
    "  bash -c 'export SOLR_COLLECTION='\"$SOLR_COLLECTION\"' && SOLR_AUTH_TYPE=basic SOLR_AUTHENTICATION_OPTS=\"-Dbasicauth=$SOLR_ADMIN_USERNAME:$SOLR_ADMIN_PASSWORD\" /opt/bitnami/solr/bin/solr create_collection -c $SOLR_COLLECTION -n computate'\n",
    "echo DONE"
   ]
  },
  {
   "cell_type": "markdown",
   "metadata": {},
   "source": [
    "## Run SQL create scripts with new PostgreSQL tables\n",
    "When we create new Smart Data Models that are persisted in the PostgreSQL database, we need to make sure that our database has all the tables and fields required to persist the data. Run the commands below to rsync the `db-create.sql` script to the PostgreSQL pod. It will connect again and apply all of the database schema changes to the database. "
   ]
  },
  {
   "cell_type": "code",
   "execution_count": null,
   "metadata": {
    "vscode": {
     "languageId": "shellscript"
    }
   },
   "outputs": [],
   "source": [
    "eval $(env SITE_NAMESPACE=\"$(oc project -q)\" ./vars.py)\n",
    "oc exec pod/postgresql-0 -- mkdir -p /bitnami/postgresql/sql/\n",
    "oc rsync $SITE_SRC/src/main/resources/sql/ \\\n",
    "  pod/postgresql-0:/bitnami/postgresql/sql/\n",
    "oc exec pod/postgresql-0 -- \\\n",
    "  env PGPASSWORD=$(oc get secret/postgres-pguser-$DATABASE_USERNAME -o jsonpath={.data.password} | base64 -d) \\\n",
    "  psql -U $DATABASE_USERNAME -d $DATABASE_DATABASE -f /bitnami/postgresql/sql/db-create.sql\n",
    "echo DONE"
   ]
  },
  {
   "cell_type": "markdown",
   "metadata": {
    "vscode": {
     "languageId": "shellscript"
    }
   },
   "source": [
    "# Deploy your site! \n",
    "\n",
    "At this point, you have built your new site, containerized it, \n",
    "and created the kustomization infrastructure as code to deploy it. \n"
   ]
  },
  {
   "cell_type": "markdown",
   "metadata": {},
   "source": [
    "We just need to kustomize the overlays with a few environment variables \n",
    "that include `$SITE_HOST_NAME` and `$SITE_BASE_URL`, which come from the \n",
    "vars.yaml file. \n",
    "Run the command below to override these values in the overlay files. "
   ]
  },
  {
   "cell_type": "code",
   "execution_count": null,
   "metadata": {
    "vscode": {
     "languageId": "shellscript"
    }
   },
   "outputs": [],
   "source": [
    "eval $(env SITE_NAMESPACE=\"$(oc project -q)\" ./vars.py)\n",
    "replace '$SITE_HOST_NAME' \"$SITE_HOST_NAME\" -- $OVERLAY_SITE_PATH/deployment.yaml\n",
    "replace '$SITE_BASE_URL' \"$SITE_BASE_URL\" -- $OVERLAY_SITE_PATH/deployment.yaml\n",
    "replace '$SITE_HOST_NAME' \"$SITE_HOST_NAME\" -- $OVERLAY_SITE_PATH/route.yaml"
   ]
  },
  {
   "cell_type": "code",
   "execution_count": null,
   "metadata": {
    "vscode": {
     "languageId": "shellscript"
    }
   },
   "outputs": [],
   "source": [
    "eval $(env SITE_NAMESPACE=\"$(oc project -q)\" ./vars.py)\n",
    "oc apply -k $OVERLAY_SITE_PATH"
   ]
  },
  {
   "cell_type": "code",
   "execution_count": null,
   "metadata": {
    "vscode": {
     "languageId": "shellscript"
    }
   },
   "outputs": [],
   "source": []
  }
 ],
 "metadata": {
  "kernelspec": {
   "display_name": "Bash",
   "language": "bash",
   "name": "bash"
  },
  "language_info": {
   "codemirror_mode": "shell",
   "file_extension": ".sh",
   "mimetype": "text/x-sh",
   "name": "bash"
  }
 },
 "nbformat": 4,
 "nbformat_minor": 2
}
