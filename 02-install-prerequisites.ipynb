{
 "cells": [
  {
   "cell_type": "markdown",
   "id": "d6970a40",
   "metadata": {},
   "source": [
    "# Cloud sandbox powered by FIWARE\n",
    "\n",
    "## About the open source GPL3 license and copyright for this product\n",
    "\n",
    "Copyright (c) 2024 Computate Limited Liability Company in Utah, USA\n",
    "\n",
    "This program is free software: you can redistribute it and/or modify\n",
    "it under the terms of the GNU General Public License as published by\n",
    "the Free Software Foundation, either version 3 of the License, or\n",
    "(at your option) any later version.\n",
    "\n",
    "This program is distributed in the hope that it will be useful,\n",
    "but WITHOUT ANY WARRANTY; without even the implied warranty of\n",
    "MERCHANTABILITY or FITNESS FOR A PARTICULAR PURPOSE.  See the\n",
    "GNU General Public License for more details.\n",
    "\n",
    "You should have received a copy of the GNU General Public License\n",
    "along with this program.  If not, see <https://www.gnu.org/licenses/>.\n",
    "\n",
    "ADDITIONAL TERMS\n",
    "\n",
    "As stated in section 7. c) and e) of the GPL3 license, \n",
    "\"you may supplement the terms of this License with terms,\" \n",
    "Computate has added the following additional terms to the license: \n",
    "\n",
    "  7 c) Prohibiting misrepresentation of the origin of that material, and\n",
    "    requiring that modified versions of such material be marked in\n",
    "    reasonable ways as different from the original version;\n",
    "\n",
    "  7 e) Declining to grant rights under trademark law for use of some\n",
    "    trade names, trademarks, or service marks;\n",
    "\n",
    "Please do not redistribute this course until you have built your own platform with these tools, \n",
    "separate from the computate.org platform, and reconfigure your fork of this repo to deploy \n",
    "your own platform instead of the computate.org platform. \n",
    "\n",
    "QUESTIONS\n",
    "\n",
    "For questions about this open source license, please contact our public mailing list at computate@group.computate.org\n"
   ]
  },
  {
   "cell_type": "markdown",
   "id": "0b3c03c8",
   "metadata": {},
   "source": [
    "## Switch to the Python 3.9 Kernel\n",
    "\n",
    "When opening this Jupyter Notebook in VSCode, you will need to switch to the Jupyter 3.9 Kernel. "
   ]
  },
  {
   "cell_type": "markdown",
   "id": "3848f488",
   "metadata": {},
   "source": [
    "## Run this command to switch to your project\n",
    "\n",
    "For some of the Ansible Playbook steps in the notebooks to work, you need to select your project with the `oc` command. "
   ]
  },
  {
   "cell_type": "code",
   "execution_count": null,
   "id": "25e561b6",
   "metadata": {},
   "outputs": [],
   "source": [
    "%%bash\n",
    "oc project $(oc projects -q | grep '.*-dev$')\n",
    "echo DONE"
   ]
  },
  {
   "cell_type": "markdown",
   "id": "ff98c843",
   "metadata": {},
   "source": [
    "## Install prerequites"
   ]
  },
  {
   "cell_type": "markdown",
   "id": "b642616c",
   "metadata": {},
   "source": [
    "## Install python, ansible, jupyter dependencies in OpenShift AI Workbench\n",
    "\n",
    "Something to note about the free OpenShift Developer Sandbox is that it will shut itself down each night \n",
    "by scaling all Deployments and StatefulSets to 0 replicas each night. \n",
    "This means that your OpenShift AI Workbench will turn off and forget the python dependencies that were installed in [00-install-python-ansible-jupyter.md]. \n",
    "You will need to rerun these commands after starting your workbench each day. "
   ]
  },
  {
   "cell_type": "markdown",
   "id": "4228812a",
   "metadata": {},
   "source": [
    "\n",
    "## Download helm\n",
    "- The helm command is used to deploy helm charts like MongoDB and RabbitMQ. Run the command below to download a compressed file containing the helm binaries to the `/tmp` directory. \n",
    "- Then check the size and permissions of the downloaded file. "
   ]
  },
  {
   "cell_type": "code",
   "execution_count": null,
   "id": "50e6e7a3",
   "metadata": {},
   "outputs": [],
   "source": [
    "%%bash\n",
    "curl https://get.helm.sh/helm-v3.13.2-linux-amd64.tar.gz -o /tmp/helm-v3.13.2-linux-amd64.tar.gz\n",
    "ls -lh /tmp/helm-v3.13.2-linux-amd64.tar.gz\n",
    "echo DONE"
   ]
  },
  {
   "cell_type": "markdown",
   "id": "501f0257",
   "metadata": {},
   "source": [
    "# Make user local bin directory and user local optional helm directory\n",
    "- Make two new user directories. One for for storing local binary executable files, and one to store the helm application. \n",
    "- Then check that the two directories exist. "
   ]
  },
  {
   "cell_type": "code",
   "execution_count": null,
   "id": "f68d974f",
   "metadata": {},
   "outputs": [],
   "source": [
    "%%bash\n",
    "mkdir -p ~/.local/bin/ ~/.local/opt/helm/\n",
    "ls -ld ~/.local/bin/ ~/.local/opt/helm/\n",
    "echo DONE"
   ]
  },
  {
   "cell_type": "markdown",
   "id": "de884657",
   "metadata": {},
   "source": [
    "## Extract the helm binary\n",
    "- Extract the contents of the helm compressed file to the helm directory for optional local user applications. \n",
    "- Check that the helm executable, license, and readme are all extracted in the right directory. "
   ]
  },
  {
   "cell_type": "code",
   "execution_count": null,
   "id": "cef03231",
   "metadata": {},
   "outputs": [],
   "source": [
    "%%bash\n",
    "tar xvf /tmp/helm-v3.13.2-linux-amd64.tar.gz --strip-components=1 -C ~/.local/opt/helm/\n",
    "ls -l ~/.local/opt/helm/\n",
    "echo DONE"
   ]
  },
  {
   "cell_type": "markdown",
   "id": "d80aca9c",
   "metadata": {},
   "source": [
    "## Copy the helm binary into the $PATH\n",
    "- Copy the `helm` binary from the user local optional helm application directory to the user local bin directory. \n",
    "- Check with the `which` command that the `helm` binary is available in the `$PATH` to be run in the terminal. "
   ]
  },
  {
   "cell_type": "code",
   "execution_count": null,
   "id": "4fc54d60",
   "metadata": {},
   "outputs": [],
   "source": [
    "%%bash\n",
    "cp ~/.local/opt/helm/helm ~/.local/bin/\n",
    "which helm\n",
    "echo DONE"
   ]
  },
  {
   "cell_type": "markdown",
   "id": "9dcb99b9",
   "metadata": {},
   "source": [
    "# Install prerequisite Ansible automation tools\n",
    "\n",
    "## Install prerequisite Python packages for Ansible\n",
    "\n",
    "Whenever I install Ansible, I find there are some required Python dependencies. Install the `setuptools_rust` and `wheel` Python dependencies below. "
   ]
  },
  {
   "cell_type": "code",
   "execution_count": null,
   "id": "353d2aa5",
   "metadata": {},
   "outputs": [],
   "source": [
    "%%bash\n",
    "pip install setuptools_rust wheel\n",
    "echo DONE"
   ]
  },
  {
   "cell_type": "markdown",
   "id": "696d22c4",
   "metadata": {},
   "source": [
    "## Upgrade pip the python package manager\n",
    "\n",
    "Next upgrade pip, the python package manager for the latest python package support. "
   ]
  },
  {
   "cell_type": "code",
   "execution_count": null,
   "id": "893174bd",
   "metadata": {},
   "outputs": [],
   "source": [
    "%%bash\n",
    "pip install --upgrade pip\n",
    "echo DONE"
   ]
  },
  {
   "cell_type": "markdown",
   "id": "50a76dbf",
   "metadata": {},
   "source": [
    "## Install Ansible automation tools\n",
    "Ansible is the enterprise open source standard tool for automating everything on the computer. In my opinion, if you are automating your computers and cloud environments without Ansible, you are doing it wrong. Install the latest ansible software with python pip, as well as other important python dependencies like `kubernetes`, `openshift`, and `jmespath` which are required to automate OpenShift deployments. Then check that the `ansible-playbook` command is available to run. "
   ]
  },
  {
   "cell_type": "code",
   "execution_count": null,
   "id": "8a794260",
   "metadata": {},
   "outputs": [],
   "source": [
    "%%bash\n",
    "pip install ansible kubernetes openshift jmespath pika --upgrade\n",
    "ansible-galaxy collection install kubernetes.core\n",
    "which ansible-playbook\n",
    "echo DONE"
   ]
  },
  {
   "cell_type": "markdown",
   "id": "fd7a853f",
   "metadata": {},
   "source": [
    "## Install jq command\n",
    "\n",
    "The jq command can take JSON output from the command line and query specific values inside the JSON data. "
   ]
  },
  {
   "cell_type": "code",
   "execution_count": null,
   "id": "835e8bef",
   "metadata": {},
   "outputs": [],
   "source": [
    "%%bash\n",
    "curl -L https://github.com/jqlang/jq/releases/download/jq-1.7.1/jq-linux-amd64 -o ~/.local/bin/jq\n",
    "chmod +x ~/.local/bin/jq\n",
    "echo DONE"
   ]
  },
  {
   "cell_type": "markdown",
   "id": "778853cc",
   "metadata": {},
   "source": [
    "## Next...\n",
    "If you have successfully ran all of the commands above, congratulations, you are ready to move on to the next notebook in the course. \n",
    "\n",
    "- If you have additional questions or issues, please [create an issue for the course here](https://github.com/computate-org/smart-aquaculture-cloud-sandbox/issues). \n",
    "- Otherwise, please continue to the next document [03-deploy-zookeeper.ipynb](03-deploy-zookeeper.ipynb). \n"
   ]
  }
 ],
 "metadata": {
  "kernelspec": {
   "display_name": "Python 3.9",
   "language": "python",
   "name": "python3"
  },
  "language_info": {
   "codemirror_mode": {
    "name": "ipython",
    "version": 3
   },
   "file_extension": ".py",
   "mimetype": "text/x-python",
   "name": "python",
   "nbconvert_exporter": "python",
   "pygments_lexer": "ipython3",
   "version": "3.9.18"
  }
 },
 "nbformat": 4,
 "nbformat_minor": 5
}
