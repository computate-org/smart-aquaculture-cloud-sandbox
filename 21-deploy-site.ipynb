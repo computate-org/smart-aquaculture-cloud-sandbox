{
 "cells": [
  {
   "cell_type": "markdown",
   "metadata": {},
   "source": [
    "## Upload default computate Solr configset\n",
    "A Solr configset is a data schema for a search engine. It specifies the exact fields and their data types that are available in the search engine to use."
   ]
  },
  {
   "cell_type": "code",
   "execution_count": null,
   "metadata": {
    "vscode": {
     "languageId": "shellscript"
    }
   },
   "outputs": [],
   "source": [
    "oc exec pod/solr-0 -- \\\n",
    "  install -d /bitnami/solr/backup/\n",
    "oc rsync solr/ pod/solr-0:/bitnami/solr/backup/\n",
    "echo DONE"
   ]
  },
  {
   "cell_type": "code",
   "execution_count": null,
   "metadata": {
    "vscode": {
     "languageId": "shellscript"
    }
   },
   "outputs": [],
   "source": [
    "eval $(env SITE_NAMESPACE=\"$(oc project -q)\" ./vars.py)\n",
    "oc exec pod/solr-0 -- \\\n",
    "  bash -c 'curl -s -X POST -u \"$SOLR_ADMIN_USERNAME:$SOLR_ADMIN_PASSWORD\" \\\n",
    "      -H \"Content-Type:application/octet-stream\" \\\n",
    "      --data-binary @/bitnami/solr/backup/computate-configset.zip \\\n",
    "      \"http://localhost:8983/solr/admin/configs?action=UPLOAD&name=computate&overwrite=true\"'\n",
    "echo DONE"
   ]
  },
  {
   "cell_type": "code",
   "execution_count": null,
   "metadata": {
    "vscode": {
     "languageId": "shellscript"
    }
   },
   "outputs": [],
   "source": [
    "eval $(env SITE_NAMESPACE=\"$(oc project -q)\" ./vars.py)\n",
    "oc exec pod/solr-0 -- \\\n",
    "  bash -c 'export SOLR_COLLECTION='\"$SOLR_COLLECTION\"' && SOLR_AUTH_TYPE=basic SOLR_AUTHENTICATION_OPTS=\"-Dbasicauth=$SOLR_ADMIN_USERNAME:$SOLR_ADMIN_PASSWORD\" /opt/bitnami/solr/bin/solr create_collection -c $SOLR_COLLECTION -n computate'\n",
    "echo DONE"
   ]
  },
  {
   "cell_type": "markdown",
   "metadata": {},
   "source": [
    "## Run SQL create scripts with new PostgreSQL tables\n",
    "When we create new Smart Data Models that are persisted in the PostgreSQL database, we need to make sure that our database has all the tables and fields required to persist the data. Run the commands below to rsync the `db-create.sql` script to the PostgreSQL pod. It will connect again and apply all of the database schema changes to the database. "
   ]
  },
  {
   "cell_type": "code",
   "execution_count": null,
   "metadata": {
    "vscode": {
     "languageId": "shellscript"
    }
   },
   "outputs": [],
   "source": [
    "eval $(env SITE_NAMESPACE=\"$(oc project -q)\" ./vars.py)\n",
    "oc exec pod/postgresql-0 -- mkdir -p /bitnami/postgresql/sql/\n",
    "oc rsync $SITE_SRC/src/main/resources/sql/ \\\n",
    "  pod/postgresql-0:/bitnami/postgresql/sql/\n",
    "oc exec pod/postgresql-0 -- \\\n",
    "  env PGPASSWORD=$(oc get secret/postgres-pguser-$DATABASE_USERNAME -o jsonpath={.data.password} | base64 -d) \\\n",
    "  psql -U $DATABASE_USERNAME -d $DATABASE_DATABASE -f /bitnami/postgresql/sql/db-create.sql\n",
    "echo DONE"
   ]
  },
  {
   "cell_type": "markdown",
   "metadata": {
    "vscode": {
     "languageId": "shellscript"
    }
   },
   "source": [
    "# Deploy your site! \n",
    "\n",
    "At this point, you have built your new site, containerized it, \n",
    "and created the kustomization infrastructure as code to deploy it. \n"
   ]
  },
  {
   "cell_type": "code",
   "execution_count": null,
   "metadata": {
    "vscode": {
     "languageId": "shellscript"
    }
   },
   "outputs": [],
   "source": [
    "eval $(env SITE_NAMESPACE=\"$(oc project -q)\" ./vars.py)\n",
    "echo $SITE_HOST_NAME\n",
    "envsubst < $OVERLAY_SITE_PATH/deployment.yaml | grep SITE_HOST_NAME -A 1"
   ]
  },
  {
   "cell_type": "code",
   "execution_count": null,
   "metadata": {
    "vscode": {
     "languageId": "shellscript"
    }
   },
   "outputs": [],
   "source": [
    "eval $(env SITE_NAMESPACE=\"$(oc project -q)\" ./vars.py)\n",
    "replace '$SITE_HOST_NAME' \"$SITE_HOST_NAME\" -- $OVERLAY_SITE_PATH/deployment.yaml\n",
    "replace '$SITE_BASE_URL' \"$SITE_BASE_URL\" -- $OVERLAY_SITE_PATH/deployment.yaml\n",
    "replace '$SITE_HOST_NAME' \"$SITE_HOST_NAME\" -- $OVERLAY_SITE_PATH/route.yaml"
   ]
  },
  {
   "cell_type": "code",
   "execution_count": null,
   "metadata": {
    "vscode": {
     "languageId": "shellscript"
    }
   },
   "outputs": [],
   "source": [
    "eval $(env SITE_NAMESPACE=\"$(oc project -q)\" ./vars.py)\n",
    "oc apply -k $OVERLAY_SITE_PATH"
   ]
  },
  {
   "cell_type": "code",
   "execution_count": null,
   "metadata": {
    "vscode": {
     "languageId": "shellscript"
    }
   },
   "outputs": [],
   "source": []
  }
 ],
 "metadata": {
  "kernelspec": {
   "display_name": "Bash",
   "language": "bash",
   "name": "bash"
  },
  "language_info": {
   "codemirror_mode": "shell",
   "file_extension": ".sh",
   "mimetype": "text/x-sh",
   "name": "bash"
  }
 },
 "nbformat": 4,
 "nbformat_minor": 2
}
